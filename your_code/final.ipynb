{
 "cells": [
  {
   "cell_type": "markdown",
   "metadata": {
    "toc": true
   },
   "source": [
    "<h1>Table of Contents<span class=\"tocSkip\"></span></h1>\n",
    "<div class=\"toc\"><ul class=\"toc-item\"><li><span><a href=\"#OVERVIEW-\" data-toc-modified-id=\"OVERVIEW--1\"><span class=\"toc-item-num\">1&nbsp;&nbsp;</span>OVERVIEW <br></a></span><ul class=\"toc-item\"><li><span><a href=\"#Goal\" data-toc-modified-id=\"Goal-1.1\"><span class=\"toc-item-num\">1.1&nbsp;&nbsp;</span>Goal</a></span></li><li><span><a href=\"#Steps\" data-toc-modified-id=\"Steps-1.2\"><span class=\"toc-item-num\">1.2&nbsp;&nbsp;</span>Steps</a></span></li></ul></li><li><span><a href=\"#API-\" data-toc-modified-id=\"API--2\"><span class=\"toc-item-num\">2&nbsp;&nbsp;</span>API <br></a></span><ul class=\"toc-item\"><li><span><a href=\"#Preparing-movie-title-list\" data-toc-modified-id=\"Preparing-movie-title-list-2.1\"><span class=\"toc-item-num\">2.1&nbsp;&nbsp;</span>Preparing movie title list</a></span></li><li><span><a href=\"#Extracting-full-info-about-each-movie-from-the-generated-list\" data-toc-modified-id=\"Extracting-full-info-about-each-movie-from-the-generated-list-2.2\"><span class=\"toc-item-num\">2.2&nbsp;&nbsp;</span>Extracting full info about each movie from the generated list</a></span></li><li><span><a href=\"#Cleaning-Dataset\" data-toc-modified-id=\"Cleaning-Dataset-2.3\"><span class=\"toc-item-num\">2.3&nbsp;&nbsp;</span>Cleaning Dataset</a></span></li><li><span><a href=\"#Saving-results-to-CSV\" data-toc-modified-id=\"Saving-results-to-CSV-2.4\"><span class=\"toc-item-num\">2.4&nbsp;&nbsp;</span>Saving results to CSV</a></span></li><li><span><a href=\"#Saving-poster-images\" data-toc-modified-id=\"Saving-poster-images-2.5\"><span class=\"toc-item-num\">2.5&nbsp;&nbsp;</span>Saving poster images</a></span></li></ul></li><li><span><a href=\"#WEB-SCRAPING-\" data-toc-modified-id=\"WEB-SCRAPING--3\"><span class=\"toc-item-num\">3&nbsp;&nbsp;</span>WEB SCRAPING <br></a></span><ul class=\"toc-item\"><li><span><a href=\"#Preparing-the-list-of-IMDB-IDs\" data-toc-modified-id=\"Preparing-the-list-of-IMDB-IDs-3.1\"><span class=\"toc-item-num\">3.1&nbsp;&nbsp;</span>Preparing the list of IMDB IDs</a></span></li><li><span><a href=\"#Extracting-Director,-Title,-Rating,-Year,-Videos-Link-from-IMDB\" data-toc-modified-id=\"Extracting-Director,-Title,-Rating,-Year,-Videos-Link-from-IMDB-3.2\"><span class=\"toc-item-num\">3.2&nbsp;&nbsp;</span>Extracting Director, Title, Rating, Year, Videos Link from IMDB</a></span></li><li><span><a href=\"#Saving-result-to-CSV\" data-toc-modified-id=\"Saving-result-to-CSV-3.3\"><span class=\"toc-item-num\">3.3&nbsp;&nbsp;</span>Saving result to CSV</a></span></li></ul></li><li><span><a href=\"#DATA-CHECK-\" data-toc-modified-id=\"DATA-CHECK--4\"><span class=\"toc-item-num\">4&nbsp;&nbsp;</span>DATA CHECK <br></a></span><ul class=\"toc-item\"><li><span><a href=\"#Check-why-in-two-columns-have-different-year-(data-from-API)\" data-toc-modified-id=\"Check-why-in-two-columns-have-different-year-(data-from-API)-4.1\"><span class=\"toc-item-num\">4.1&nbsp;&nbsp;</span>Check why in two columns have different year (data from API)</a></span></li><li><span><a href=\"#API-data-vs-web-scraping-IMDB\" data-toc-modified-id=\"API-data-vs-web-scraping-IMDB-4.2\"><span class=\"toc-item-num\">4.2&nbsp;&nbsp;</span>API data vs web scraping IMDB</a></span></li><li><span><a href=\"#Creating-one-dataframe-with-the-most-important-info-from-API-and-IMDB,-saving-to-CSV\" data-toc-modified-id=\"Creating-one-dataframe-with-the-most-important-info-from-API-and-IMDB,-saving-to-CSV-4.3\"><span class=\"toc-item-num\">4.3&nbsp;&nbsp;</span>Creating one dataframe with the most important info from API and IMDB, saving to CSV</a></span></li></ul></li><li><span><a href=\"#CORRELATION-BETWEEN-RATING-AND-VALENTINE'S-DAY-\" data-toc-modified-id=\"CORRELATION-BETWEEN-RATING-AND-VALENTINE'S-DAY--5\"><span class=\"toc-item-num\">5&nbsp;&nbsp;</span>CORRELATION BETWEEN RATING AND VALENTINE'S DAY <br></a></span><ul class=\"toc-item\"><li><span><a href=\"#Getting-the-number-of-days-to-Valentine's-day-per-movie\" data-toc-modified-id=\"Getting-the-number-of-days-to-Valentine's-day-per-movie-5.1\"><span class=\"toc-item-num\">5.1&nbsp;&nbsp;</span>Getting the number of days to Valentine's day per movie</a></span></li><li><span><a href=\"#Binning-the-data-based-on-the-days-to-Valentine's-day\" data-toc-modified-id=\"Binning-the-data-based-on-the-days-to-Valentine's-day-5.2\"><span class=\"toc-item-num\">5.2&nbsp;&nbsp;</span>Binning the data based on the days to Valentine's day</a></span></li><li><span><a href=\"#Checking-the-correlation-between-the-rating-and-the-days-to-Valentine's-day\" data-toc-modified-id=\"Checking-the-correlation-between-the-rating-and-the-days-to-Valentine's-day-5.3\"><span class=\"toc-item-num\">5.3&nbsp;&nbsp;</span>Checking the correlation between the rating and the days to Valentine's day</a></span></li><li><span><a href=\"#Checking-the-%-of-the-movies-that-have-been-release-very-close---close-to-Valentine's-day\" data-toc-modified-id=\"Checking-the-%-of-the-movies-that-have-been-release-very-close---close-to-Valentine's-day-5.4\"><span class=\"toc-item-num\">5.4&nbsp;&nbsp;</span>Checking the % of the movies that have been release very close - close to Valentine's day</a></span></li></ul></li><li><span><a href=\"#Results\" data-toc-modified-id=\"Results-6\"><span class=\"toc-item-num\">6&nbsp;&nbsp;</span>Results</a></span></li></ul></div>"
   ]
  },
  {
   "cell_type": "markdown",
   "metadata": {},
   "source": [
    "## OVERVIEW <br>\n",
    "\n",
    "### Goal\n",
    "- Collect the information about the movies that have 'love' in the title for the Valentine's day campaign (Title, Director, Rating, Release Year, Link to Trailers and Videos, download Posters)\n",
    "- Check if the information from the API is coinciding with the information in IMDB\n",
    "- Check the correlation between the days to Valentines day and rating\n",
    "\n",
    "### Steps\n",
    "\n",
    "- Use OMDB API: http://www.omdbapi.com/#usage\n",
    "- Do the API request with the search, movies with word 'love', extract information from 4 pages\n",
    "- Generate the list of titles of the movies\n",
    "- Do another API request title by title to get all information about the movies\n",
    "- Put info from both requests to one dataframe\n",
    "- Scrape IMDB based on IMDB ID to get the main information\n",
    "- Check if data is matching in the dataframes from API and IMDB in these columns: Title, Year, Director, IMDB Rating\n",
    "- Prepare one dataframe with information from API and IMDB and export\n",
    "- Analyze if there is any correlation between the Release Day days to Valentine's day and the rating value"
   ]
  },
  {
   "cell_type": "markdown",
   "metadata": {},
   "source": [
    "## API <br>\n",
    "\n",
    "For the API portion of the project will need to make calls to your chosen API, successfully obtain a response, request data, convert it into a Pandas data frame, and export it as a CSV file."
   ]
  },
  {
   "cell_type": "code",
   "execution_count": 1,
   "metadata": {
    "ExecuteTime": {
     "end_time": "2020-02-20T14:49:27.337757Z",
     "start_time": "2020-02-20T14:49:25.360284Z"
    }
   },
   "outputs": [],
   "source": [
    "from pandas.io.json import json_normalize\n",
    "import pandas as pd\n",
    "import json\n",
    "import requests\n",
    "from bs4 import BeautifulSoup\n",
    "import urllib.request\n",
    "from urllib.request import urlopen\n",
    "import re\n",
    "import numpy as np\n",
    "import time"
   ]
  },
  {
   "cell_type": "code",
   "execution_count": 2,
   "metadata": {
    "ExecuteTime": {
     "end_time": "2020-02-20T14:49:27.347375Z",
     "start_time": "2020-02-20T14:49:27.338754Z"
    }
   },
   "outputs": [],
   "source": [
    "from IPython.core.interactiveshell import InteractiveShell\n",
    "InteractiveShell.ast_node_interactivity = \"all\""
   ]
  },
  {
   "cell_type": "code",
   "execution_count": 3,
   "metadata": {
    "ExecuteTime": {
     "end_time": "2020-02-20T14:49:27.360293Z",
     "start_time": "2020-02-20T14:49:27.351762Z"
    }
   },
   "outputs": [],
   "source": [
    "pd.set_option('display.max_rows', None)\n",
    "pd.set_option('display.max_columns', None)\n",
    "pd.set_option('display.width', None)\n",
    "pd.set_option('display.max_colwidth', -1)"
   ]
  },
  {
   "cell_type": "markdown",
   "metadata": {},
   "source": [
    "### Preparing movie title list"
   ]
  },
  {
   "cell_type": "markdown",
   "metadata": {},
   "source": [
    "- Extracting titles that include word 'love', loading 4 pages\n",
    "- Converting names into the correct format to later pass them to the URL"
   ]
  },
  {
   "cell_type": "code",
   "execution_count": 4,
   "metadata": {
    "ExecuteTime": {
     "end_time": "2020-02-20T14:49:27.376033Z",
     "start_time": "2020-02-20T14:49:27.365166Z"
    }
   },
   "outputs": [],
   "source": [
    "#in the range indicate how many pages want to check (API in general gives MAX 10 movies per search)\n",
    "#adding all the movie names to one list\n",
    "#per each loop generating json for one page and extracting titles\n",
    "#changing titles to the correct format to later pass to the URL\n",
    "\n",
    "def formatted_titles_api(url_pat):\n",
    "    \"\"\"\n",
    "    Function takes the URL pattern and returns the formatted list of movie titles, ready to be used with another request.\n",
    "    Can indicate a specific number of pages to return\n",
    "    \n",
    "    Input:\n",
    "        url_pat: the pattern of the URL\n",
    "    Output:\n",
    "        titles_formatted: the list of the movie titles with a specific format\n",
    "    \"\"\"\n",
    "    final_list = []\n",
    "    for page in range(1,5):\n",
    "        page = str(page)\n",
    "        url = url_pat + page\n",
    "        response = requests.get(url)\n",
    "        results = response.json()\n",
    "        title_box = results.get('Search')\n",
    "        title_list = [title.get('Title') for title in title_box]\n",
    "        final_list += title_list\n",
    "        titles_formatted = [string.replace(\" \", \"+\") for string in final_list]\n",
    "    return titles_formatted\n",
    "        "
   ]
  },
  {
   "cell_type": "code",
   "execution_count": 5,
   "metadata": {
    "ExecuteTime": {
     "end_time": "2020-02-20T14:49:30.848433Z",
     "start_time": "2020-02-20T14:49:27.379322Z"
    }
   },
   "outputs": [
    {
     "data": {
      "text/plain": [
       "['Crazy,+Stupid,+Love.',\n",
       " 'Dr.+Strangelove+or:+How+I+Learned+to+Stop+Worrying+and+Love+the+Bomb',\n",
       " 'Love,+Actually',\n",
       " 'Shakespeare+in+Love',\n",
       " 'P.S.+I+Love+You',\n",
       " 'I+Love+You,+Man',\n",
       " 'Love+&+Other+Drugs',\n",
       " 'Punch-Drunk+Love',\n",
       " 'In+the+Mood+for+Love',\n",
       " 'Love,+Rosie',\n",
       " 'From+Russia+with+Love',\n",
       " 'From+Paris+with+Love',\n",
       " 'Love,+Simon',\n",
       " 'I+Love+You+Phillip+Morris',\n",
       " 'Eat+Pray+Love',\n",
       " 'To+Rome+with+Love',\n",
       " 'Stuck+in+Love.',\n",
       " 'A+Lot+Like+Love',\n",
       " 'Love+Me+If+You+Dare',\n",
       " 'Wristcutters:+A+Love+Story',\n",
       " 'The+Love+Guru',\n",
       " 'Show+Me+Love',\n",
       " 'New+York,+I+Love+You',\n",
       " 'American+Pie+Presents:+The+Book+of+Love',\n",
       " 'Love',\n",
       " 'Capitalism:+A+Love+Story',\n",
       " 'Endless+Love',\n",
       " 'Down+with+Love',\n",
       " 'Sea+of+Love',\n",
       " 'Everyone+Says+I+Love+You',\n",
       " 'Love+and+Death',\n",
       " 'Love+&+Mercy',\n",
       " 'I+Love+You,+Beth+Cooper',\n",
       " 'The+One+I+Love',\n",
       " \"Can't+Buy+Me+Love\",\n",
       " 'For+Love+of+the+Game',\n",
       " 'All+the+Boys+Love+Mandy+Lane',\n",
       " 'Love+Happens',\n",
       " 'Must+Love+Dogs',\n",
       " 'Love+Story']"
      ]
     },
     "execution_count": 5,
     "metadata": {},
     "output_type": "execute_result"
    }
   ],
   "source": [
    "#calling the function\n",
    "\n",
    "url_pat = 'http://www.omdbapi.com/?i=tt3896198&apikey=aab3947e&s=love&type=movie&page='\n",
    "titles_formatted = formatted_titles_api(url_pat)\n",
    "titles_formatted"
   ]
  },
  {
   "cell_type": "markdown",
   "metadata": {},
   "source": [
    "### Extracting full info about each movie from the generated list"
   ]
  },
  {
   "cell_type": "code",
   "execution_count": 6,
   "metadata": {
    "ExecuteTime": {
     "end_time": "2020-02-20T14:49:30.867129Z",
     "start_time": "2020-02-20T14:49:30.848433Z"
    }
   },
   "outputs": [],
   "source": [
    "def movies_info_api(url_pattern):\n",
    "    \"\"\"\n",
    "    Function loops through the urls and returns one dataframe with the information of all collected movies\n",
    "    \n",
    "    Input:\n",
    "        url_pattern: the pattern of the URL\n",
    "    Output:\n",
    "        love_movies: the dataframe with the information of all collected movies\n",
    "    \"\"\"\n",
    "    appended_dfs=[]\n",
    "    for title in titles_formatted:\n",
    "        url = url_pattern + title\n",
    "        response = requests.get(url)\n",
    "        results = response.json()\n",
    "        flattened_data = json_normalize(results)\n",
    "        #appending dataframes to the list to later concatenate them to one dataframe\n",
    "        appended_dfs.append(flattened_data)\n",
    "        love_movies = pd.concat(appended_dfs, ignore_index = True) #ignoring index, to have 0,1,2...n, if not, get 0,0,0,...\n",
    "\n",
    "    return love_movies"
   ]
  },
  {
   "cell_type": "code",
   "execution_count": 7,
   "metadata": {
    "ExecuteTime": {
     "end_time": "2020-02-20T14:49:34.580900Z",
     "start_time": "2020-02-20T14:49:30.871112Z"
    },
    "scrolled": true
   },
   "outputs": [
    {
     "data": {
      "text/html": [
       "<div>\n",
       "<style scoped>\n",
       "    .dataframe tbody tr th:only-of-type {\n",
       "        vertical-align: middle;\n",
       "    }\n",
       "\n",
       "    .dataframe tbody tr th {\n",
       "        vertical-align: top;\n",
       "    }\n",
       "\n",
       "    .dataframe thead th {\n",
       "        text-align: right;\n",
       "    }\n",
       "</style>\n",
       "<table border=\"1\" class=\"dataframe\">\n",
       "  <thead>\n",
       "    <tr style=\"text-align: right;\">\n",
       "      <th></th>\n",
       "      <th>Title</th>\n",
       "      <th>Year</th>\n",
       "      <th>Rated</th>\n",
       "      <th>Released</th>\n",
       "      <th>Runtime</th>\n",
       "      <th>Genre</th>\n",
       "      <th>Director</th>\n",
       "      <th>Writer</th>\n",
       "      <th>Actors</th>\n",
       "      <th>Plot</th>\n",
       "      <th>Language</th>\n",
       "      <th>Country</th>\n",
       "      <th>Awards</th>\n",
       "      <th>Poster</th>\n",
       "      <th>Ratings</th>\n",
       "      <th>Metascore</th>\n",
       "      <th>imdbRating</th>\n",
       "      <th>imdbVotes</th>\n",
       "      <th>imdbID</th>\n",
       "      <th>Type</th>\n",
       "      <th>DVD</th>\n",
       "      <th>BoxOffice</th>\n",
       "      <th>Production</th>\n",
       "      <th>Website</th>\n",
       "      <th>Response</th>\n",
       "    </tr>\n",
       "  </thead>\n",
       "  <tbody>\n",
       "    <tr>\n",
       "      <td>0</td>\n",
       "      <td>Crazy, Stupid, Love.</td>\n",
       "      <td>2011</td>\n",
       "      <td>PG-13</td>\n",
       "      <td>29 Jul 2011</td>\n",
       "      <td>118 min</td>\n",
       "      <td>Comedy, Drama, Romance</td>\n",
       "      <td>Glenn Ficarra, John Requa</td>\n",
       "      <td>Dan Fogelman</td>\n",
       "      <td>Steve Carell, Ryan Gosling, Julianne Moore, Emma Stone</td>\n",
       "      <td>A middle-aged husband's life changes dramatically when his wife asks him for a divorce. He seeks to rediscover his manhood with the help of a newfound friend, Jacob, learning to pick up girls at bars.</td>\n",
       "      <td>English</td>\n",
       "      <td>USA</td>\n",
       "      <td>Nominated for 1 Golden Globe. Another 3 wins &amp; 22 nominations.</td>\n",
       "      <td>https://m.media-amazon.com/images/M/MV5BMTg2MjkwMTM0NF5BMl5BanBnXkFtZTcwMzc4NDg2NQ@@._V1_SX300.jpg</td>\n",
       "      <td>[{'Source': 'Internet Movie Database', 'Value': '7.4/10'}, {'Source': 'Rotten Tomatoes', 'Value': '79%'}, {'Source': 'Metacritic', 'Value': '68/100'}]</td>\n",
       "      <td>68</td>\n",
       "      <td>7.4</td>\n",
       "      <td>449,754</td>\n",
       "      <td>tt1570728</td>\n",
       "      <td>movie</td>\n",
       "      <td>01 Nov 2011</td>\n",
       "      <td>$83,300,000</td>\n",
       "      <td>Warner Bros. Pictures</td>\n",
       "      <td>N/A</td>\n",
       "      <td>True</td>\n",
       "    </tr>\n",
       "    <tr>\n",
       "      <td>1</td>\n",
       "      <td>Dr. Strangelove or: How I Learned to Stop Worrying and Love the Bomb</td>\n",
       "      <td>1964</td>\n",
       "      <td>PG</td>\n",
       "      <td>29 Jan 1964</td>\n",
       "      <td>95 min</td>\n",
       "      <td>Comedy</td>\n",
       "      <td>Stanley Kubrick</td>\n",
       "      <td>Stanley Kubrick (screenplay), Terry Southern (screenplay), Peter George (screenplay), Peter George (based on the book: \"Red Alert\" by)</td>\n",
       "      <td>Peter Sellers, George C. Scott, Sterling Hayden, Keenan Wynn</td>\n",
       "      <td>An insane general triggers a path to nuclear holocaust that a War Room full of politicians and generals frantically tries to stop.</td>\n",
       "      <td>English, Russian</td>\n",
       "      <td>UK, USA</td>\n",
       "      <td>Nominated for 4 Oscars. Another 13 wins &amp; 7 nominations.</td>\n",
       "      <td>https://m.media-amazon.com/images/M/MV5BZWI3ZTMxNjctMjdlNS00NmUwLWFiM2YtZDUyY2I3N2MxYTE0XkEyXkFqcGdeQXVyNzkwMjQ5NzM@._V1_SX300.jpg</td>\n",
       "      <td>[{'Source': 'Internet Movie Database', 'Value': '8.4/10'}, {'Source': 'Rotten Tomatoes', 'Value': '98%'}, {'Source': 'Metacritic', 'Value': '97/100'}]</td>\n",
       "      <td>97</td>\n",
       "      <td>8.4</td>\n",
       "      <td>427,212</td>\n",
       "      <td>tt0057012</td>\n",
       "      <td>movie</td>\n",
       "      <td>02 Nov 2004</td>\n",
       "      <td>N/A</td>\n",
       "      <td>Sony Pictures</td>\n",
       "      <td>N/A</td>\n",
       "      <td>True</td>\n",
       "    </tr>\n",
       "    <tr>\n",
       "      <td>2</td>\n",
       "      <td>Love, Actually</td>\n",
       "      <td>2003</td>\n",
       "      <td>R</td>\n",
       "      <td>14 Nov 2003</td>\n",
       "      <td>135 min</td>\n",
       "      <td>Comedy, Drama, Romance</td>\n",
       "      <td>Richard Curtis</td>\n",
       "      <td>Richard Curtis</td>\n",
       "      <td>Bill Nighy, Gregor Fisher, Rory MacGregor, Colin Firth</td>\n",
       "      <td>Follows the lives of eight very different couples in dealing with their love lives in various loosely interrelated tales all set during a frantic month before Christmas in London, England.</td>\n",
       "      <td>English, Portuguese, French</td>\n",
       "      <td>UK, USA, France</td>\n",
       "      <td>Nominated for 2 Golden Globes. Another 10 wins &amp; 27 nominations.</td>\n",
       "      <td>https://m.media-amazon.com/images/M/MV5BMTY4NjQ5NDc0Nl5BMl5BanBnXkFtZTYwNjk5NDM3._V1_SX300.jpg</td>\n",
       "      <td>[{'Source': 'Internet Movie Database', 'Value': '7.6/10'}, {'Source': 'Rotten Tomatoes', 'Value': '64%'}, {'Source': 'Metacritic', 'Value': '55/100'}]</td>\n",
       "      <td>55</td>\n",
       "      <td>7.6</td>\n",
       "      <td>405,898</td>\n",
       "      <td>tt0314331</td>\n",
       "      <td>movie</td>\n",
       "      <td>27 Apr 2004</td>\n",
       "      <td>$59,365,105</td>\n",
       "      <td>Universal Pictures</td>\n",
       "      <td>N/A</td>\n",
       "      <td>True</td>\n",
       "    </tr>\n",
       "    <tr>\n",
       "      <td>3</td>\n",
       "      <td>Shakespeare in Love</td>\n",
       "      <td>1998</td>\n",
       "      <td>R</td>\n",
       "      <td>08 Jan 1999</td>\n",
       "      <td>123 min</td>\n",
       "      <td>Comedy, Drama, History, Romance</td>\n",
       "      <td>John Madden</td>\n",
       "      <td>Marc Norman, Tom Stoppard</td>\n",
       "      <td>Geoffrey Rush, Tom Wilkinson, Steven O'Donnell, Tim McMullan</td>\n",
       "      <td>The world's greatest ever playwright, William Shakespeare, is young, out of ideas and short of cash, but meets his ideal woman and is inspired to write one of his most famous plays.</td>\n",
       "      <td>English</td>\n",
       "      <td>USA, UK</td>\n",
       "      <td>Won 7 Oscars. Another 57 wins &amp; 87 nominations.</td>\n",
       "      <td>https://m.media-amazon.com/images/M/MV5BM2ZkNjM5MjEtNTBlMC00OTI5LTgyYmEtZDljMzNmNzhiNzY0XkEyXkFqcGdeQXVyNDYyMDk5MTU@._V1_SX300.jpg</td>\n",
       "      <td>[{'Source': 'Internet Movie Database', 'Value': '7.1/10'}, {'Source': 'Rotten Tomatoes', 'Value': '92%'}, {'Source': 'Metacritic', 'Value': '87/100'}]</td>\n",
       "      <td>87</td>\n",
       "      <td>7.1</td>\n",
       "      <td>205,961</td>\n",
       "      <td>tt0138097</td>\n",
       "      <td>movie</td>\n",
       "      <td>10 Aug 1999</td>\n",
       "      <td>N/A</td>\n",
       "      <td>Miramax</td>\n",
       "      <td>N/A</td>\n",
       "      <td>True</td>\n",
       "    </tr>\n",
       "    <tr>\n",
       "      <td>4</td>\n",
       "      <td>P.S. I Love You</td>\n",
       "      <td>2007</td>\n",
       "      <td>PG-13</td>\n",
       "      <td>21 Dec 2007</td>\n",
       "      <td>126 min</td>\n",
       "      <td>Comedy, Drama, Romance</td>\n",
       "      <td>Richard LaGravenese</td>\n",
       "      <td>Richard LaGravenese (screenplay), Steven Rogers (screenplay), Cecelia Ahern (novel)</td>\n",
       "      <td>Hilary Swank, Gerard Butler, Lisa Kudrow, Gina Gershon</td>\n",
       "      <td>A young widow discovers that her late husband has left her 10 messages intended to help ease her pain and start a new life.</td>\n",
       "      <td>English</td>\n",
       "      <td>USA</td>\n",
       "      <td>2 wins &amp; 4 nominations.</td>\n",
       "      <td>https://m.media-amazon.com/images/M/MV5BNTg2MDg4MjI5NV5BMl5BanBnXkFtZTcwMzQ0MDczMw@@._V1_SX300.jpg</td>\n",
       "      <td>[{'Source': 'Internet Movie Database', 'Value': '7.0/10'}, {'Source': 'Metacritic', 'Value': '39/100'}]</td>\n",
       "      <td>39</td>\n",
       "      <td>7.0</td>\n",
       "      <td>194,541</td>\n",
       "      <td>tt0431308</td>\n",
       "      <td>movie</td>\n",
       "      <td>05 Feb 2008</td>\n",
       "      <td>N/A</td>\n",
       "      <td>N/A</td>\n",
       "      <td>N/A</td>\n",
       "      <td>True</td>\n",
       "    </tr>\n",
       "  </tbody>\n",
       "</table>\n",
       "</div>"
      ],
      "text/plain": [
       "                                                                  Title  Year  \\\n",
       "0  Crazy, Stupid, Love.                                                  2011   \n",
       "1  Dr. Strangelove or: How I Learned to Stop Worrying and Love the Bomb  1964   \n",
       "2  Love, Actually                                                        2003   \n",
       "3  Shakespeare in Love                                                   1998   \n",
       "4  P.S. I Love You                                                       2007   \n",
       "\n",
       "   Rated     Released  Runtime                            Genre  \\\n",
       "0  PG-13  29 Jul 2011  118 min  Comedy, Drama, Romance            \n",
       "1  PG     29 Jan 1964  95 min   Comedy                            \n",
       "2  R      14 Nov 2003  135 min  Comedy, Drama, Romance            \n",
       "3  R      08 Jan 1999  123 min  Comedy, Drama, History, Romance   \n",
       "4  PG-13  21 Dec 2007  126 min  Comedy, Drama, Romance            \n",
       "\n",
       "                    Director  \\\n",
       "0  Glenn Ficarra, John Requa   \n",
       "1  Stanley Kubrick             \n",
       "2  Richard Curtis              \n",
       "3  John Madden                 \n",
       "4  Richard LaGravenese         \n",
       "\n",
       "                                                                                                                                   Writer  \\\n",
       "0  Dan Fogelman                                                                                                                             \n",
       "1  Stanley Kubrick (screenplay), Terry Southern (screenplay), Peter George (screenplay), Peter George (based on the book: \"Red Alert\" by)   \n",
       "2  Richard Curtis                                                                                                                           \n",
       "3  Marc Norman, Tom Stoppard                                                                                                                \n",
       "4  Richard LaGravenese (screenplay), Steven Rogers (screenplay), Cecelia Ahern (novel)                                                      \n",
       "\n",
       "                                                         Actors  \\\n",
       "0  Steve Carell, Ryan Gosling, Julianne Moore, Emma Stone         \n",
       "1  Peter Sellers, George C. Scott, Sterling Hayden, Keenan Wynn   \n",
       "2  Bill Nighy, Gregor Fisher, Rory MacGregor, Colin Firth         \n",
       "3  Geoffrey Rush, Tom Wilkinson, Steven O'Donnell, Tim McMullan   \n",
       "4  Hilary Swank, Gerard Butler, Lisa Kudrow, Gina Gershon         \n",
       "\n",
       "                                                                                                                                                                                                       Plot  \\\n",
       "0  A middle-aged husband's life changes dramatically when his wife asks him for a divorce. He seeks to rediscover his manhood with the help of a newfound friend, Jacob, learning to pick up girls at bars.   \n",
       "1  An insane general triggers a path to nuclear holocaust that a War Room full of politicians and generals frantically tries to stop.                                                                         \n",
       "2  Follows the lives of eight very different couples in dealing with their love lives in various loosely interrelated tales all set during a frantic month before Christmas in London, England.               \n",
       "3  The world's greatest ever playwright, William Shakespeare, is young, out of ideas and short of cash, but meets his ideal woman and is inspired to write one of his most famous plays.                      \n",
       "4  A young widow discovers that her late husband has left her 10 messages intended to help ease her pain and start a new life.                                                                                \n",
       "\n",
       "                      Language          Country  \\\n",
       "0  English                      USA               \n",
       "1  English, Russian             UK, USA           \n",
       "2  English, Portuguese, French  UK, USA, France   \n",
       "3  English                      USA, UK           \n",
       "4  English                      USA               \n",
       "\n",
       "                                                             Awards  \\\n",
       "0  Nominated for 1 Golden Globe. Another 3 wins & 22 nominations.     \n",
       "1  Nominated for 4 Oscars. Another 13 wins & 7 nominations.           \n",
       "2  Nominated for 2 Golden Globes. Another 10 wins & 27 nominations.   \n",
       "3  Won 7 Oscars. Another 57 wins & 87 nominations.                    \n",
       "4  2 wins & 4 nominations.                                            \n",
       "\n",
       "                                                                                                                               Poster  \\\n",
       "0  https://m.media-amazon.com/images/M/MV5BMTg2MjkwMTM0NF5BMl5BanBnXkFtZTcwMzc4NDg2NQ@@._V1_SX300.jpg                                   \n",
       "1  https://m.media-amazon.com/images/M/MV5BZWI3ZTMxNjctMjdlNS00NmUwLWFiM2YtZDUyY2I3N2MxYTE0XkEyXkFqcGdeQXVyNzkwMjQ5NzM@._V1_SX300.jpg   \n",
       "2  https://m.media-amazon.com/images/M/MV5BMTY4NjQ5NDc0Nl5BMl5BanBnXkFtZTYwNjk5NDM3._V1_SX300.jpg                                       \n",
       "3  https://m.media-amazon.com/images/M/MV5BM2ZkNjM5MjEtNTBlMC00OTI5LTgyYmEtZDljMzNmNzhiNzY0XkEyXkFqcGdeQXVyNDYyMDk5MTU@._V1_SX300.jpg   \n",
       "4  https://m.media-amazon.com/images/M/MV5BNTg2MDg4MjI5NV5BMl5BanBnXkFtZTcwMzQ0MDczMw@@._V1_SX300.jpg                                   \n",
       "\n",
       "                                                                                                                                                  Ratings  \\\n",
       "0  [{'Source': 'Internet Movie Database', 'Value': '7.4/10'}, {'Source': 'Rotten Tomatoes', 'Value': '79%'}, {'Source': 'Metacritic', 'Value': '68/100'}]   \n",
       "1  [{'Source': 'Internet Movie Database', 'Value': '8.4/10'}, {'Source': 'Rotten Tomatoes', 'Value': '98%'}, {'Source': 'Metacritic', 'Value': '97/100'}]   \n",
       "2  [{'Source': 'Internet Movie Database', 'Value': '7.6/10'}, {'Source': 'Rotten Tomatoes', 'Value': '64%'}, {'Source': 'Metacritic', 'Value': '55/100'}]   \n",
       "3  [{'Source': 'Internet Movie Database', 'Value': '7.1/10'}, {'Source': 'Rotten Tomatoes', 'Value': '92%'}, {'Source': 'Metacritic', 'Value': '87/100'}]   \n",
       "4  [{'Source': 'Internet Movie Database', 'Value': '7.0/10'}, {'Source': 'Metacritic', 'Value': '39/100'}]                                                  \n",
       "\n",
       "  Metascore imdbRating imdbVotes     imdbID   Type          DVD    BoxOffice  \\\n",
       "0  68        7.4        449,754   tt1570728  movie  01 Nov 2011  $83,300,000   \n",
       "1  97        8.4        427,212   tt0057012  movie  02 Nov 2004  N/A           \n",
       "2  55        7.6        405,898   tt0314331  movie  27 Apr 2004  $59,365,105   \n",
       "3  87        7.1        205,961   tt0138097  movie  10 Aug 1999  N/A           \n",
       "4  39        7.0        194,541   tt0431308  movie  05 Feb 2008  N/A           \n",
       "\n",
       "              Production Website Response  \n",
       "0  Warner Bros. Pictures  N/A     True     \n",
       "1  Sony Pictures          N/A     True     \n",
       "2  Universal Pictures     N/A     True     \n",
       "3  Miramax                N/A     True     \n",
       "4  N/A                    N/A     True     "
      ]
     },
     "execution_count": 7,
     "metadata": {},
     "output_type": "execute_result"
    }
   ],
   "source": [
    "#calling the function\n",
    "\n",
    "url_pattern = 'http://www.omdbapi.com/?i=tt3896198&apikey=aab3947e&t='\n",
    "love_movies = movies_info_api(url_pattern)\n",
    "love_movies.head()"
   ]
  },
  {
   "cell_type": "markdown",
   "metadata": {},
   "source": [
    "### Cleaning Dataset\n",
    "- Changing column names\n",
    "- Checking for NaNs\n",
    "- Deleting unnecesary columns"
   ]
  },
  {
   "cell_type": "code",
   "execution_count": 8,
   "metadata": {
    "ExecuteTime": {
     "end_time": "2020-02-20T14:49:34.602211Z",
     "start_time": "2020-02-20T14:49:34.585710Z"
    }
   },
   "outputs": [
    {
     "data": {
      "text/plain": [
       "Index(['Title', 'Year', 'Rated', 'Released', 'Runtime', 'Genre', 'Director',\n",
       "       'Writer', 'Actors', 'Plot', 'Language', 'Country', 'Awards', 'Poster',\n",
       "       'Ratings', 'Metascore', 'imdbRating', 'imdbVotes', 'imdbID', 'Type',\n",
       "       'DVD', 'BoxOffice', 'Production', 'Website', 'Response'],\n",
       "      dtype='object')"
      ]
     },
     "execution_count": 8,
     "metadata": {},
     "output_type": "execute_result"
    }
   ],
   "source": [
    "# changing column names to lowercase and to snake\n",
    "# changing column namr 'reñeased' to 'released_spain' to be more specific\n",
    "\n",
    "love_movies.columns\n",
    "\n",
    "love_movies.rename(columns=lambda x: x.strip().lower(), inplace=True)\n",
    "colnames = ['title', 'year', 'rated', 'released_spain', 'runtime', 'genre', 'director',\n",
    "       'writer', 'actors', 'plot', 'language', 'country', 'awards', 'poster',\n",
    "       'ratings', 'metascore', 'imdb_rating', 'imdb_votes', 'imdb_id', 'type',\n",
    "       'dvd', 'boxoffice', 'production', 'website', 'response']\n",
    "\n",
    "love_movies.columns = colnames"
   ]
  },
  {
   "cell_type": "code",
   "execution_count": 9,
   "metadata": {
    "ExecuteTime": {
     "end_time": "2020-02-20T14:49:34.619559Z",
     "start_time": "2020-02-20T14:49:34.605859Z"
    }
   },
   "outputs": [],
   "source": [
    "#changing N/A to NaN\n",
    "\n",
    "love_movies = love_movies.replace('N/A', np.nan)"
   ]
  },
  {
   "cell_type": "code",
   "execution_count": 10,
   "metadata": {
    "ExecuteTime": {
     "end_time": "2020-02-20T14:49:34.637535Z",
     "start_time": "2020-02-20T14:49:34.620348Z"
    }
   },
   "outputs": [
    {
     "data": {
      "text/plain": [
       "awards        3 \n",
       "metascore     2 \n",
       "boxoffice     18\n",
       "production    2 \n",
       "website       40\n",
       "dtype: int64"
      ]
     },
     "execution_count": 10,
     "metadata": {},
     "output_type": "execute_result"
    }
   ],
   "source": [
    "#total number of null cells per column\n",
    "\n",
    "null_cols = love_movies.isnull().sum() \n",
    "null_cols[null_cols > 0]"
   ]
  },
  {
   "cell_type": "code",
   "execution_count": 11,
   "metadata": {
    "ExecuteTime": {
     "end_time": "2020-02-20T14:49:34.650305Z",
     "start_time": "2020-02-20T14:49:34.638530Z"
    }
   },
   "outputs": [],
   "source": [
    "#deleting column website, all rows empty\n",
    "#if decided that need boxoffice, could scrape it from wikipedia, now don't do anything\n",
    "\n",
    "love_movies = love_movies.drop(['website'],axis=1)"
   ]
  },
  {
   "cell_type": "code",
   "execution_count": 12,
   "metadata": {
    "ExecuteTime": {
     "end_time": "2020-02-20T14:49:34.713834Z",
     "start_time": "2020-02-20T14:49:34.654231Z"
    },
    "scrolled": true
   },
   "outputs": [
    {
     "data": {
      "text/html": [
       "<div>\n",
       "<style scoped>\n",
       "    .dataframe tbody tr th:only-of-type {\n",
       "        vertical-align: middle;\n",
       "    }\n",
       "\n",
       "    .dataframe tbody tr th {\n",
       "        vertical-align: top;\n",
       "    }\n",
       "\n",
       "    .dataframe thead th {\n",
       "        text-align: right;\n",
       "    }\n",
       "</style>\n",
       "<table border=\"1\" class=\"dataframe\">\n",
       "  <thead>\n",
       "    <tr style=\"text-align: right;\">\n",
       "      <th></th>\n",
       "      <th>title</th>\n",
       "      <th>year</th>\n",
       "      <th>rated</th>\n",
       "      <th>released_spain</th>\n",
       "      <th>runtime</th>\n",
       "      <th>genre</th>\n",
       "      <th>director</th>\n",
       "      <th>writer</th>\n",
       "      <th>actors</th>\n",
       "      <th>plot</th>\n",
       "      <th>language</th>\n",
       "      <th>country</th>\n",
       "      <th>awards</th>\n",
       "      <th>poster</th>\n",
       "      <th>ratings</th>\n",
       "      <th>metascore</th>\n",
       "      <th>imdb_rating</th>\n",
       "      <th>imdb_votes</th>\n",
       "      <th>imdb_id</th>\n",
       "      <th>type</th>\n",
       "      <th>dvd</th>\n",
       "      <th>boxoffice</th>\n",
       "      <th>production</th>\n",
       "      <th>response</th>\n",
       "    </tr>\n",
       "  </thead>\n",
       "  <tbody>\n",
       "    <tr>\n",
       "      <td>0</td>\n",
       "      <td>Crazy, Stupid, Love.</td>\n",
       "      <td>2011</td>\n",
       "      <td>PG-13</td>\n",
       "      <td>29 Jul 2011</td>\n",
       "      <td>118 min</td>\n",
       "      <td>Comedy, Drama, Romance</td>\n",
       "      <td>Glenn Ficarra, John Requa</td>\n",
       "      <td>Dan Fogelman</td>\n",
       "      <td>Steve Carell, Ryan Gosling, Julianne Moore, Emma Stone</td>\n",
       "      <td>A middle-aged husband's life changes dramatically when his wife asks him for a divorce. He seeks to rediscover his manhood with the help of a newfound friend, Jacob, learning to pick up girls at bars.</td>\n",
       "      <td>English</td>\n",
       "      <td>USA</td>\n",
       "      <td>Nominated for 1 Golden Globe. Another 3 wins &amp; 22 nominations.</td>\n",
       "      <td>https://m.media-amazon.com/images/M/MV5BMTg2MjkwMTM0NF5BMl5BanBnXkFtZTcwMzc4NDg2NQ@@._V1_SX300.jpg</td>\n",
       "      <td>[{'Source': 'Internet Movie Database', 'Value': '7.4/10'}, {'Source': 'Rotten Tomatoes', 'Value': '79%'}, {'Source': 'Metacritic', 'Value': '68/100'}]</td>\n",
       "      <td>68</td>\n",
       "      <td>7.4</td>\n",
       "      <td>449,754</td>\n",
       "      <td>tt1570728</td>\n",
       "      <td>movie</td>\n",
       "      <td>01 Nov 2011</td>\n",
       "      <td>$83,300,000</td>\n",
       "      <td>Warner Bros. Pictures</td>\n",
       "      <td>True</td>\n",
       "    </tr>\n",
       "    <tr>\n",
       "      <td>1</td>\n",
       "      <td>Dr. Strangelove or: How I Learned to Stop Worrying and Love the Bomb</td>\n",
       "      <td>1964</td>\n",
       "      <td>PG</td>\n",
       "      <td>29 Jan 1964</td>\n",
       "      <td>95 min</td>\n",
       "      <td>Comedy</td>\n",
       "      <td>Stanley Kubrick</td>\n",
       "      <td>Stanley Kubrick (screenplay), Terry Southern (screenplay), Peter George (screenplay), Peter George (based on the book: \"Red Alert\" by)</td>\n",
       "      <td>Peter Sellers, George C. Scott, Sterling Hayden, Keenan Wynn</td>\n",
       "      <td>An insane general triggers a path to nuclear holocaust that a War Room full of politicians and generals frantically tries to stop.</td>\n",
       "      <td>English, Russian</td>\n",
       "      <td>UK, USA</td>\n",
       "      <td>Nominated for 4 Oscars. Another 13 wins &amp; 7 nominations.</td>\n",
       "      <td>https://m.media-amazon.com/images/M/MV5BZWI3ZTMxNjctMjdlNS00NmUwLWFiM2YtZDUyY2I3N2MxYTE0XkEyXkFqcGdeQXVyNzkwMjQ5NzM@._V1_SX300.jpg</td>\n",
       "      <td>[{'Source': 'Internet Movie Database', 'Value': '8.4/10'}, {'Source': 'Rotten Tomatoes', 'Value': '98%'}, {'Source': 'Metacritic', 'Value': '97/100'}]</td>\n",
       "      <td>97</td>\n",
       "      <td>8.4</td>\n",
       "      <td>427,212</td>\n",
       "      <td>tt0057012</td>\n",
       "      <td>movie</td>\n",
       "      <td>02 Nov 2004</td>\n",
       "      <td>NaN</td>\n",
       "      <td>Sony Pictures</td>\n",
       "      <td>True</td>\n",
       "    </tr>\n",
       "    <tr>\n",
       "      <td>2</td>\n",
       "      <td>Love, Actually</td>\n",
       "      <td>2003</td>\n",
       "      <td>R</td>\n",
       "      <td>14 Nov 2003</td>\n",
       "      <td>135 min</td>\n",
       "      <td>Comedy, Drama, Romance</td>\n",
       "      <td>Richard Curtis</td>\n",
       "      <td>Richard Curtis</td>\n",
       "      <td>Bill Nighy, Gregor Fisher, Rory MacGregor, Colin Firth</td>\n",
       "      <td>Follows the lives of eight very different couples in dealing with their love lives in various loosely interrelated tales all set during a frantic month before Christmas in London, England.</td>\n",
       "      <td>English, Portuguese, French</td>\n",
       "      <td>UK, USA, France</td>\n",
       "      <td>Nominated for 2 Golden Globes. Another 10 wins &amp; 27 nominations.</td>\n",
       "      <td>https://m.media-amazon.com/images/M/MV5BMTY4NjQ5NDc0Nl5BMl5BanBnXkFtZTYwNjk5NDM3._V1_SX300.jpg</td>\n",
       "      <td>[{'Source': 'Internet Movie Database', 'Value': '7.6/10'}, {'Source': 'Rotten Tomatoes', 'Value': '64%'}, {'Source': 'Metacritic', 'Value': '55/100'}]</td>\n",
       "      <td>55</td>\n",
       "      <td>7.6</td>\n",
       "      <td>405,898</td>\n",
       "      <td>tt0314331</td>\n",
       "      <td>movie</td>\n",
       "      <td>27 Apr 2004</td>\n",
       "      <td>$59,365,105</td>\n",
       "      <td>Universal Pictures</td>\n",
       "      <td>True</td>\n",
       "    </tr>\n",
       "    <tr>\n",
       "      <td>3</td>\n",
       "      <td>Shakespeare in Love</td>\n",
       "      <td>1998</td>\n",
       "      <td>R</td>\n",
       "      <td>08 Jan 1999</td>\n",
       "      <td>123 min</td>\n",
       "      <td>Comedy, Drama, History, Romance</td>\n",
       "      <td>John Madden</td>\n",
       "      <td>Marc Norman, Tom Stoppard</td>\n",
       "      <td>Geoffrey Rush, Tom Wilkinson, Steven O'Donnell, Tim McMullan</td>\n",
       "      <td>The world's greatest ever playwright, William Shakespeare, is young, out of ideas and short of cash, but meets his ideal woman and is inspired to write one of his most famous plays.</td>\n",
       "      <td>English</td>\n",
       "      <td>USA, UK</td>\n",
       "      <td>Won 7 Oscars. Another 57 wins &amp; 87 nominations.</td>\n",
       "      <td>https://m.media-amazon.com/images/M/MV5BM2ZkNjM5MjEtNTBlMC00OTI5LTgyYmEtZDljMzNmNzhiNzY0XkEyXkFqcGdeQXVyNDYyMDk5MTU@._V1_SX300.jpg</td>\n",
       "      <td>[{'Source': 'Internet Movie Database', 'Value': '7.1/10'}, {'Source': 'Rotten Tomatoes', 'Value': '92%'}, {'Source': 'Metacritic', 'Value': '87/100'}]</td>\n",
       "      <td>87</td>\n",
       "      <td>7.1</td>\n",
       "      <td>205,961</td>\n",
       "      <td>tt0138097</td>\n",
       "      <td>movie</td>\n",
       "      <td>10 Aug 1999</td>\n",
       "      <td>NaN</td>\n",
       "      <td>Miramax</td>\n",
       "      <td>True</td>\n",
       "    </tr>\n",
       "    <tr>\n",
       "      <td>4</td>\n",
       "      <td>P.S. I Love You</td>\n",
       "      <td>2007</td>\n",
       "      <td>PG-13</td>\n",
       "      <td>21 Dec 2007</td>\n",
       "      <td>126 min</td>\n",
       "      <td>Comedy, Drama, Romance</td>\n",
       "      <td>Richard LaGravenese</td>\n",
       "      <td>Richard LaGravenese (screenplay), Steven Rogers (screenplay), Cecelia Ahern (novel)</td>\n",
       "      <td>Hilary Swank, Gerard Butler, Lisa Kudrow, Gina Gershon</td>\n",
       "      <td>A young widow discovers that her late husband has left her 10 messages intended to help ease her pain and start a new life.</td>\n",
       "      <td>English</td>\n",
       "      <td>USA</td>\n",
       "      <td>2 wins &amp; 4 nominations.</td>\n",
       "      <td>https://m.media-amazon.com/images/M/MV5BNTg2MDg4MjI5NV5BMl5BanBnXkFtZTcwMzQ0MDczMw@@._V1_SX300.jpg</td>\n",
       "      <td>[{'Source': 'Internet Movie Database', 'Value': '7.0/10'}, {'Source': 'Metacritic', 'Value': '39/100'}]</td>\n",
       "      <td>39</td>\n",
       "      <td>7.0</td>\n",
       "      <td>194,541</td>\n",
       "      <td>tt0431308</td>\n",
       "      <td>movie</td>\n",
       "      <td>05 Feb 2008</td>\n",
       "      <td>NaN</td>\n",
       "      <td>NaN</td>\n",
       "      <td>True</td>\n",
       "    </tr>\n",
       "  </tbody>\n",
       "</table>\n",
       "</div>"
      ],
      "text/plain": [
       "                                                                  title  year  \\\n",
       "0  Crazy, Stupid, Love.                                                  2011   \n",
       "1  Dr. Strangelove or: How I Learned to Stop Worrying and Love the Bomb  1964   \n",
       "2  Love, Actually                                                        2003   \n",
       "3  Shakespeare in Love                                                   1998   \n",
       "4  P.S. I Love You                                                       2007   \n",
       "\n",
       "   rated released_spain  runtime                            genre  \\\n",
       "0  PG-13  29 Jul 2011    118 min  Comedy, Drama, Romance            \n",
       "1  PG     29 Jan 1964    95 min   Comedy                            \n",
       "2  R      14 Nov 2003    135 min  Comedy, Drama, Romance            \n",
       "3  R      08 Jan 1999    123 min  Comedy, Drama, History, Romance   \n",
       "4  PG-13  21 Dec 2007    126 min  Comedy, Drama, Romance            \n",
       "\n",
       "                    director  \\\n",
       "0  Glenn Ficarra, John Requa   \n",
       "1  Stanley Kubrick             \n",
       "2  Richard Curtis              \n",
       "3  John Madden                 \n",
       "4  Richard LaGravenese         \n",
       "\n",
       "                                                                                                                                   writer  \\\n",
       "0  Dan Fogelman                                                                                                                             \n",
       "1  Stanley Kubrick (screenplay), Terry Southern (screenplay), Peter George (screenplay), Peter George (based on the book: \"Red Alert\" by)   \n",
       "2  Richard Curtis                                                                                                                           \n",
       "3  Marc Norman, Tom Stoppard                                                                                                                \n",
       "4  Richard LaGravenese (screenplay), Steven Rogers (screenplay), Cecelia Ahern (novel)                                                      \n",
       "\n",
       "                                                         actors  \\\n",
       "0  Steve Carell, Ryan Gosling, Julianne Moore, Emma Stone         \n",
       "1  Peter Sellers, George C. Scott, Sterling Hayden, Keenan Wynn   \n",
       "2  Bill Nighy, Gregor Fisher, Rory MacGregor, Colin Firth         \n",
       "3  Geoffrey Rush, Tom Wilkinson, Steven O'Donnell, Tim McMullan   \n",
       "4  Hilary Swank, Gerard Butler, Lisa Kudrow, Gina Gershon         \n",
       "\n",
       "                                                                                                                                                                                                       plot  \\\n",
       "0  A middle-aged husband's life changes dramatically when his wife asks him for a divorce. He seeks to rediscover his manhood with the help of a newfound friend, Jacob, learning to pick up girls at bars.   \n",
       "1  An insane general triggers a path to nuclear holocaust that a War Room full of politicians and generals frantically tries to stop.                                                                         \n",
       "2  Follows the lives of eight very different couples in dealing with their love lives in various loosely interrelated tales all set during a frantic month before Christmas in London, England.               \n",
       "3  The world's greatest ever playwright, William Shakespeare, is young, out of ideas and short of cash, but meets his ideal woman and is inspired to write one of his most famous plays.                      \n",
       "4  A young widow discovers that her late husband has left her 10 messages intended to help ease her pain and start a new life.                                                                                \n",
       "\n",
       "                      language          country  \\\n",
       "0  English                      USA               \n",
       "1  English, Russian             UK, USA           \n",
       "2  English, Portuguese, French  UK, USA, France   \n",
       "3  English                      USA, UK           \n",
       "4  English                      USA               \n",
       "\n",
       "                                                             awards  \\\n",
       "0  Nominated for 1 Golden Globe. Another 3 wins & 22 nominations.     \n",
       "1  Nominated for 4 Oscars. Another 13 wins & 7 nominations.           \n",
       "2  Nominated for 2 Golden Globes. Another 10 wins & 27 nominations.   \n",
       "3  Won 7 Oscars. Another 57 wins & 87 nominations.                    \n",
       "4  2 wins & 4 nominations.                                            \n",
       "\n",
       "                                                                                                                               poster  \\\n",
       "0  https://m.media-amazon.com/images/M/MV5BMTg2MjkwMTM0NF5BMl5BanBnXkFtZTcwMzc4NDg2NQ@@._V1_SX300.jpg                                   \n",
       "1  https://m.media-amazon.com/images/M/MV5BZWI3ZTMxNjctMjdlNS00NmUwLWFiM2YtZDUyY2I3N2MxYTE0XkEyXkFqcGdeQXVyNzkwMjQ5NzM@._V1_SX300.jpg   \n",
       "2  https://m.media-amazon.com/images/M/MV5BMTY4NjQ5NDc0Nl5BMl5BanBnXkFtZTYwNjk5NDM3._V1_SX300.jpg                                       \n",
       "3  https://m.media-amazon.com/images/M/MV5BM2ZkNjM5MjEtNTBlMC00OTI5LTgyYmEtZDljMzNmNzhiNzY0XkEyXkFqcGdeQXVyNDYyMDk5MTU@._V1_SX300.jpg   \n",
       "4  https://m.media-amazon.com/images/M/MV5BNTg2MDg4MjI5NV5BMl5BanBnXkFtZTcwMzQ0MDczMw@@._V1_SX300.jpg                                   \n",
       "\n",
       "                                                                                                                                                  ratings  \\\n",
       "0  [{'Source': 'Internet Movie Database', 'Value': '7.4/10'}, {'Source': 'Rotten Tomatoes', 'Value': '79%'}, {'Source': 'Metacritic', 'Value': '68/100'}]   \n",
       "1  [{'Source': 'Internet Movie Database', 'Value': '8.4/10'}, {'Source': 'Rotten Tomatoes', 'Value': '98%'}, {'Source': 'Metacritic', 'Value': '97/100'}]   \n",
       "2  [{'Source': 'Internet Movie Database', 'Value': '7.6/10'}, {'Source': 'Rotten Tomatoes', 'Value': '64%'}, {'Source': 'Metacritic', 'Value': '55/100'}]   \n",
       "3  [{'Source': 'Internet Movie Database', 'Value': '7.1/10'}, {'Source': 'Rotten Tomatoes', 'Value': '92%'}, {'Source': 'Metacritic', 'Value': '87/100'}]   \n",
       "4  [{'Source': 'Internet Movie Database', 'Value': '7.0/10'}, {'Source': 'Metacritic', 'Value': '39/100'}]                                                  \n",
       "\n",
       "  metascore imdb_rating imdb_votes    imdb_id   type          dvd  \\\n",
       "0  68        7.4         449,754    tt1570728  movie  01 Nov 2011   \n",
       "1  97        8.4         427,212    tt0057012  movie  02 Nov 2004   \n",
       "2  55        7.6         405,898    tt0314331  movie  27 Apr 2004   \n",
       "3  87        7.1         205,961    tt0138097  movie  10 Aug 1999   \n",
       "4  39        7.0         194,541    tt0431308  movie  05 Feb 2008   \n",
       "\n",
       "     boxoffice             production response  \n",
       "0  $83,300,000  Warner Bros. Pictures  True     \n",
       "1  NaN          Sony Pictures          True     \n",
       "2  $59,365,105  Universal Pictures     True     \n",
       "3  NaN          Miramax                True     \n",
       "4  NaN          NaN                    True     "
      ]
     },
     "execution_count": 12,
     "metadata": {},
     "output_type": "execute_result"
    }
   ],
   "source": [
    "love_movies.head()"
   ]
  },
  {
   "cell_type": "markdown",
   "metadata": {},
   "source": [
    "### Saving results to CSV"
   ]
  },
  {
   "cell_type": "code",
   "execution_count": 13,
   "metadata": {
    "ExecuteTime": {
     "end_time": "2020-02-20T14:49:34.732349Z",
     "start_time": "2020-02-20T14:49:34.717801Z"
    }
   },
   "outputs": [],
   "source": [
    "love_movies.to_csv(\"/Users/krist/Ironhack_Labs/DIC19-Kristina-project-web/your_code/love_movies_api.csv\", index=False)"
   ]
  },
  {
   "cell_type": "markdown",
   "metadata": {},
   "source": [
    "### Saving poster images"
   ]
  },
  {
   "cell_type": "code",
   "execution_count": 14,
   "metadata": {
    "ExecuteTime": {
     "end_time": "2020-02-20T14:49:40.093253Z",
     "start_time": "2020-02-20T14:49:34.732349Z"
    }
   },
   "outputs": [
    {
     "data": {
      "text/plain": [
       "('/Users/krist/Ironhack_Labs/DIC19-Kristina-project-web/your_code/image_folder/Crazy, Stupid, Love..jpg',\n",
       " <http.client.HTTPMessage at 0x1f0c1f0de88>)"
      ]
     },
     "execution_count": 14,
     "metadata": {},
     "output_type": "execute_result"
    },
    {
     "data": {
      "text/plain": [
       "('/Users/krist/Ironhack_Labs/DIC19-Kristina-project-web/your_code/image_folder/Dr. Strangelove or: How I Learned to Stop Worrying and Love the Bomb.jpg',\n",
       " <http.client.HTTPMessage at 0x1f0c1ee3108>)"
      ]
     },
     "execution_count": 14,
     "metadata": {},
     "output_type": "execute_result"
    },
    {
     "data": {
      "text/plain": [
       "('/Users/krist/Ironhack_Labs/DIC19-Kristina-project-web/your_code/image_folder/Love, Actually.jpg',\n",
       " <http.client.HTTPMessage at 0x1f0bebbaf88>)"
      ]
     },
     "execution_count": 14,
     "metadata": {},
     "output_type": "execute_result"
    },
    {
     "data": {
      "text/plain": [
       "('/Users/krist/Ironhack_Labs/DIC19-Kristina-project-web/your_code/image_folder/Shakespeare in Love.jpg',\n",
       " <http.client.HTTPMessage at 0x1f0c1f29788>)"
      ]
     },
     "execution_count": 14,
     "metadata": {},
     "output_type": "execute_result"
    },
    {
     "data": {
      "text/plain": [
       "('/Users/krist/Ironhack_Labs/DIC19-Kristina-project-web/your_code/image_folder/P.S. I Love You.jpg',\n",
       " <http.client.HTTPMessage at 0x1f0c1f147c8>)"
      ]
     },
     "execution_count": 14,
     "metadata": {},
     "output_type": "execute_result"
    },
    {
     "data": {
      "text/plain": [
       "('/Users/krist/Ironhack_Labs/DIC19-Kristina-project-web/your_code/image_folder/I Love You, Man.jpg',\n",
       " <http.client.HTTPMessage at 0x1f0c1f3b9c8>)"
      ]
     },
     "execution_count": 14,
     "metadata": {},
     "output_type": "execute_result"
    },
    {
     "data": {
      "text/plain": [
       "('/Users/krist/Ironhack_Labs/DIC19-Kristina-project-web/your_code/image_folder/Love.jpg',\n",
       " <http.client.HTTPMessage at 0x1f0c1f0d9c8>)"
      ]
     },
     "execution_count": 14,
     "metadata": {},
     "output_type": "execute_result"
    },
    {
     "data": {
      "text/plain": [
       "('/Users/krist/Ironhack_Labs/DIC19-Kristina-project-web/your_code/image_folder/Punch-Drunk Love.jpg',\n",
       " <http.client.HTTPMessage at 0x1f0c1e93e88>)"
      ]
     },
     "execution_count": 14,
     "metadata": {},
     "output_type": "execute_result"
    },
    {
     "data": {
      "text/plain": [
       "('/Users/krist/Ironhack_Labs/DIC19-Kristina-project-web/your_code/image_folder/In the Mood for Love.jpg',\n",
       " <http.client.HTTPMessage at 0x1f0c1f29488>)"
      ]
     },
     "execution_count": 14,
     "metadata": {},
     "output_type": "execute_result"
    },
    {
     "data": {
      "text/plain": [
       "('/Users/krist/Ironhack_Labs/DIC19-Kristina-project-web/your_code/image_folder/Love, Rosie.jpg',\n",
       " <http.client.HTTPMessage at 0x1f0c1f29788>)"
      ]
     },
     "execution_count": 14,
     "metadata": {},
     "output_type": "execute_result"
    },
    {
     "data": {
      "text/plain": [
       "('/Users/krist/Ironhack_Labs/DIC19-Kristina-project-web/your_code/image_folder/From Russia with Love.jpg',\n",
       " <http.client.HTTPMessage at 0x1f0c1f2c4c8>)"
      ]
     },
     "execution_count": 14,
     "metadata": {},
     "output_type": "execute_result"
    },
    {
     "data": {
      "text/plain": [
       "('/Users/krist/Ironhack_Labs/DIC19-Kristina-project-web/your_code/image_folder/From Paris with Love.jpg',\n",
       " <http.client.HTTPMessage at 0x1f0c1f2ccc8>)"
      ]
     },
     "execution_count": 14,
     "metadata": {},
     "output_type": "execute_result"
    },
    {
     "data": {
      "text/plain": [
       "('/Users/krist/Ironhack_Labs/DIC19-Kristina-project-web/your_code/image_folder/Love, Simon.jpg',\n",
       " <http.client.HTTPMessage at 0x1f0c1e93e08>)"
      ]
     },
     "execution_count": 14,
     "metadata": {},
     "output_type": "execute_result"
    },
    {
     "data": {
      "text/plain": [
       "('/Users/krist/Ironhack_Labs/DIC19-Kristina-project-web/your_code/image_folder/I Love You Phillip Morris.jpg',\n",
       " <http.client.HTTPMessage at 0x1f0c1f29a48>)"
      ]
     },
     "execution_count": 14,
     "metadata": {},
     "output_type": "execute_result"
    },
    {
     "data": {
      "text/plain": [
       "('/Users/krist/Ironhack_Labs/DIC19-Kristina-project-web/your_code/image_folder/Eat Pray Love.jpg',\n",
       " <http.client.HTTPMessage at 0x1f0c1f29b08>)"
      ]
     },
     "execution_count": 14,
     "metadata": {},
     "output_type": "execute_result"
    },
    {
     "data": {
      "text/plain": [
       "('/Users/krist/Ironhack_Labs/DIC19-Kristina-project-web/your_code/image_folder/To Rome with Love.jpg',\n",
       " <http.client.HTTPMessage at 0x1f0c1f2c088>)"
      ]
     },
     "execution_count": 14,
     "metadata": {},
     "output_type": "execute_result"
    },
    {
     "data": {
      "text/plain": [
       "('/Users/krist/Ironhack_Labs/DIC19-Kristina-project-web/your_code/image_folder/Stuck in Love..jpg',\n",
       " <http.client.HTTPMessage at 0x1f0c1f2c388>)"
      ]
     },
     "execution_count": 14,
     "metadata": {},
     "output_type": "execute_result"
    },
    {
     "data": {
      "text/plain": [
       "('/Users/krist/Ironhack_Labs/DIC19-Kristina-project-web/your_code/image_folder/A Lot Like Love.jpg',\n",
       " <http.client.HTTPMessage at 0x1f0c1f2ce48>)"
      ]
     },
     "execution_count": 14,
     "metadata": {},
     "output_type": "execute_result"
    },
    {
     "data": {
      "text/plain": [
       "('/Users/krist/Ironhack_Labs/DIC19-Kristina-project-web/your_code/image_folder/Love Me If You Dare.jpg',\n",
       " <http.client.HTTPMessage at 0x1f0c1f0dd48>)"
      ]
     },
     "execution_count": 14,
     "metadata": {},
     "output_type": "execute_result"
    },
    {
     "data": {
      "text/plain": [
       "('/Users/krist/Ironhack_Labs/DIC19-Kristina-project-web/your_code/image_folder/Wristcutters: A Love Story.jpg',\n",
       " <http.client.HTTPMessage at 0x1f0c1f29108>)"
      ]
     },
     "execution_count": 14,
     "metadata": {},
     "output_type": "execute_result"
    },
    {
     "data": {
      "text/plain": [
       "('/Users/krist/Ironhack_Labs/DIC19-Kristina-project-web/your_code/image_folder/The Love Guru.jpg',\n",
       " <http.client.HTTPMessage at 0x1f0c1f29888>)"
      ]
     },
     "execution_count": 14,
     "metadata": {},
     "output_type": "execute_result"
    },
    {
     "data": {
      "text/plain": [
       "('/Users/krist/Ironhack_Labs/DIC19-Kristina-project-web/your_code/image_folder/Show Me Love.jpg',\n",
       " <http.client.HTTPMessage at 0x1f0c1f3b9c8>)"
      ]
     },
     "execution_count": 14,
     "metadata": {},
     "output_type": "execute_result"
    },
    {
     "data": {
      "text/plain": [
       "('/Users/krist/Ironhack_Labs/DIC19-Kristina-project-web/your_code/image_folder/New York, I Love You.jpg',\n",
       " <http.client.HTTPMessage at 0x1f0c1f2c788>)"
      ]
     },
     "execution_count": 14,
     "metadata": {},
     "output_type": "execute_result"
    },
    {
     "data": {
      "text/plain": [
       "('/Users/krist/Ironhack_Labs/DIC19-Kristina-project-web/your_code/image_folder/American Pie Presents: The Book of Love.jpg',\n",
       " <http.client.HTTPMessage at 0x1f0c1f2cd88>)"
      ]
     },
     "execution_count": 14,
     "metadata": {},
     "output_type": "execute_result"
    },
    {
     "data": {
      "text/plain": [
       "('/Users/krist/Ironhack_Labs/DIC19-Kristina-project-web/your_code/image_folder/Love.jpg',\n",
       " <http.client.HTTPMessage at 0x1f0c1f0dbc8>)"
      ]
     },
     "execution_count": 14,
     "metadata": {},
     "output_type": "execute_result"
    },
    {
     "data": {
      "text/plain": [
       "('/Users/krist/Ironhack_Labs/DIC19-Kristina-project-web/your_code/image_folder/Capitalism: A Love Story.jpg',\n",
       " <http.client.HTTPMessage at 0x1f0c1f29208>)"
      ]
     },
     "execution_count": 14,
     "metadata": {},
     "output_type": "execute_result"
    },
    {
     "data": {
      "text/plain": [
       "('/Users/krist/Ironhack_Labs/DIC19-Kristina-project-web/your_code/image_folder/Endless Love.jpg',\n",
       " <http.client.HTTPMessage at 0x1f0c1f29888>)"
      ]
     },
     "execution_count": 14,
     "metadata": {},
     "output_type": "execute_result"
    },
    {
     "data": {
      "text/plain": [
       "('/Users/krist/Ironhack_Labs/DIC19-Kristina-project-web/your_code/image_folder/Down with Love.jpg',\n",
       " <http.client.HTTPMessage at 0x1f0c1f3b5c8>)"
      ]
     },
     "execution_count": 14,
     "metadata": {},
     "output_type": "execute_result"
    },
    {
     "data": {
      "text/plain": [
       "('/Users/krist/Ironhack_Labs/DIC19-Kristina-project-web/your_code/image_folder/Sea of Love.jpg',\n",
       " <http.client.HTTPMessage at 0x1f0c1f2cfc8>)"
      ]
     },
     "execution_count": 14,
     "metadata": {},
     "output_type": "execute_result"
    },
    {
     "data": {
      "text/plain": [
       "('/Users/krist/Ironhack_Labs/DIC19-Kristina-project-web/your_code/image_folder/Everyone Says I Love You.jpg',\n",
       " <http.client.HTTPMessage at 0x1f0c1f14148>)"
      ]
     },
     "execution_count": 14,
     "metadata": {},
     "output_type": "execute_result"
    },
    {
     "data": {
      "text/plain": [
       "('/Users/krist/Ironhack_Labs/DIC19-Kristina-project-web/your_code/image_folder/Love and Death.jpg',\n",
       " <http.client.HTTPMessage at 0x1f0c1f29708>)"
      ]
     },
     "execution_count": 14,
     "metadata": {},
     "output_type": "execute_result"
    },
    {
     "data": {
      "text/plain": [
       "('/Users/krist/Ironhack_Labs/DIC19-Kristina-project-web/your_code/image_folder/Love.jpg',\n",
       " <http.client.HTTPMessage at 0x1f0c1f29848>)"
      ]
     },
     "execution_count": 14,
     "metadata": {},
     "output_type": "execute_result"
    },
    {
     "data": {
      "text/plain": [
       "('/Users/krist/Ironhack_Labs/DIC19-Kristina-project-web/your_code/image_folder/I Love You, Beth Cooper.jpg',\n",
       " <http.client.HTTPMessage at 0x1f0c1eb8348>)"
      ]
     },
     "execution_count": 14,
     "metadata": {},
     "output_type": "execute_result"
    },
    {
     "data": {
      "text/plain": [
       "('/Users/krist/Ironhack_Labs/DIC19-Kristina-project-web/your_code/image_folder/The One I Love.jpg',\n",
       " <http.client.HTTPMessage at 0x1f0c1f0d908>)"
      ]
     },
     "execution_count": 14,
     "metadata": {},
     "output_type": "execute_result"
    },
    {
     "data": {
      "text/plain": [
       "(\"/Users/krist/Ironhack_Labs/DIC19-Kristina-project-web/your_code/image_folder/Can't Buy Me Love.jpg\",\n",
       " <http.client.HTTPMessage at 0x1f0c1f2cfc8>)"
      ]
     },
     "execution_count": 14,
     "metadata": {},
     "output_type": "execute_result"
    },
    {
     "data": {
      "text/plain": [
       "('/Users/krist/Ironhack_Labs/DIC19-Kristina-project-web/your_code/image_folder/For Love of the Game.jpg',\n",
       " <http.client.HTTPMessage at 0x1f0c1f2cbc8>)"
      ]
     },
     "execution_count": 14,
     "metadata": {},
     "output_type": "execute_result"
    },
    {
     "data": {
      "text/plain": [
       "('/Users/krist/Ironhack_Labs/DIC19-Kristina-project-web/your_code/image_folder/All the Boys Love Mandy Lane.jpg',\n",
       " <http.client.HTTPMessage at 0x1f0c1f29b48>)"
      ]
     },
     "execution_count": 14,
     "metadata": {},
     "output_type": "execute_result"
    },
    {
     "data": {
      "text/plain": [
       "('/Users/krist/Ironhack_Labs/DIC19-Kristina-project-web/your_code/image_folder/Love Happens.jpg',\n",
       " <http.client.HTTPMessage at 0x1f0c1f29948>)"
      ]
     },
     "execution_count": 14,
     "metadata": {},
     "output_type": "execute_result"
    },
    {
     "data": {
      "text/plain": [
       "('/Users/krist/Ironhack_Labs/DIC19-Kristina-project-web/your_code/image_folder/Must Love Dogs.jpg',\n",
       " <http.client.HTTPMessage at 0x1f0c1f29708>)"
      ]
     },
     "execution_count": 14,
     "metadata": {},
     "output_type": "execute_result"
    },
    {
     "data": {
      "text/plain": [
       "('/Users/krist/Ironhack_Labs/DIC19-Kristina-project-web/your_code/image_folder/Love Story.jpg',\n",
       " <http.client.HTTPMessage at 0x1f0c1f2c308>)"
      ]
     },
     "execution_count": 14,
     "metadata": {},
     "output_type": "execute_result"
    }
   ],
   "source": [
    "movie_url = love_movies['poster'].to_list()\n",
    "image_name = love_movies['title'].to_list()\n",
    "\n",
    "for url, name in zip(movie_url, image_name):\n",
    "    urllib.request.urlretrieve(url, '/Users/krist/Ironhack_Labs/DIC19-Kristina-project-web/your_code/image_folder/{}.jpg'.format(name))\n"
   ]
  },
  {
   "cell_type": "markdown",
   "metadata": {},
   "source": [
    "## WEB SCRAPING <br>\n",
    "\n",
    "For the web scraping portion of the project, you will need to scrape the HTML from your chosen page, parse the HTML to extract the necessary information, and either save the results to a text (txt) file if it is text or into a CSV file if it is tabular data."
   ]
  },
  {
   "cell_type": "markdown",
   "metadata": {},
   "source": [
    "### Preparing the list of IMDB IDs"
   ]
  },
  {
   "cell_type": "code",
   "execution_count": 15,
   "metadata": {
    "ExecuteTime": {
     "end_time": "2020-02-20T14:49:40.105060Z",
     "start_time": "2020-02-20T14:49:40.093253Z"
    }
   },
   "outputs": [],
   "source": [
    "#taking movie IDs from API dataframe, to use them for scraping IMDB\n",
    "\n",
    "id_list = list(love_movies['imdb_id'])"
   ]
  },
  {
   "cell_type": "markdown",
   "metadata": {},
   "source": [
    "### Extracting Director, Title, Rating, Year, Videos Link from IMDB"
   ]
  },
  {
   "cell_type": "code",
   "execution_count": 16,
   "metadata": {
    "ExecuteTime": {
     "end_time": "2020-02-20T14:49:40.140892Z",
     "start_time": "2020-02-20T14:49:40.109363Z"
    }
   },
   "outputs": [],
   "source": [
    "#creating function to scrape data from IMDB\n",
    "\n",
    "def scraped_info_to_dataframe(url_pattern):\n",
    "    \"\"\"\n",
    "    Function loops through the urls and returns one dataframe with the information of all the movies that were checked via API\n",
    "    There is a sleep time of 2s for each request.\n",
    "    \n",
    "    Input:\n",
    "        url_pattern: the pattern of the URL\n",
    "    Output:\n",
    "        love_movies_imdb: the dataframe with the information of the selected movies \n",
    "                          (director, title, rating, year, links to trailers)\n",
    "    \"\"\"\n",
    "    info_final = []\n",
    "\n",
    "    for m_id in id_list:\n",
    "        url = url_pattern + m_id\n",
    "        time.sleep(2) #sleep time, could be changed to any\n",
    "        html = urlopen(url)\n",
    "        soup = BeautifulSoup(html, 'lxml')\n",
    "\n",
    "        #extracting director\n",
    "        summary = soup.find_all('div', {'class':'credit_summary_item'})\n",
    "        director = summary[0].get_text().strip().split('\\n')[1]\n",
    "\n",
    "        #extracting title\n",
    "        title_box = soup.find_all('h1', {'class':''})\n",
    "        for t in title_box:\n",
    "            title = t.text.split('\\xa0')[0]\n",
    "        #if title is in Spanish, means that original title class exists, then take the title from there, to have it in English    \n",
    "        original_title_box = soup.find_all('div', {'class':'originalTitle'})\n",
    "        if original_title_box:\n",
    "            title_long = [t.text.split('\\xa0')[0] for t in original_title_box]\n",
    "            pattern = re.compile(\"(.*?)\\s*\\((.*?)\\)\") #only taking the string part before the ()\n",
    "            for string in title_long:\n",
    "                title = pattern.match(string).group(1)\n",
    "\n",
    "        #extracting rating\n",
    "        rating_box = soup.find_all('div', {'class':'ratingValue'})\n",
    "        rates = [rate.text.strip() for rate in rating_box]\n",
    "        pattern = '\\d+\\D\\d' #extracting format only x.x\n",
    "        for ratio in rates:\n",
    "            rating = re.findall(pattern,ratio)[0]\n",
    "\n",
    "        #extracting year\n",
    "        year_box = soup.find_all('h1', {'class':''})\n",
    "        year_long = [y.text.strip().split('\\xa0')[1] for y in year_box]\n",
    "        pattern = re.compile(\".*?\\((.*?)\\)\") #extrcting year from ()\n",
    "        for string in year_long:\n",
    "            year = pattern.match(string).group(1)\n",
    "        \n",
    "        #adding links to videos per movie\n",
    "        videos = 'https://www.imdb.com/title/x/videogallery/?ref_=tt_ql_pv_2'\n",
    "        for m_id in id_list:\n",
    "            videos = videos.replace('x', m_id)\n",
    "        \n",
    "        #adding all info to one nested list\n",
    "        info_final += [[title, year, rating, director, videos]]\n",
    "\n",
    "    #creating dataframe with the scraped info\n",
    "    colnames = ['title', 'year', 'imdb_rating','director', 'video_link']\n",
    "    love_movies_imdb = pd.DataFrame(info_final)\n",
    "    love_movies_imdb.columns = colnames\n",
    "    \n",
    "    return love_movies_imdb\n"
   ]
  },
  {
   "cell_type": "code",
   "execution_count": 17,
   "metadata": {
    "ExecuteTime": {
     "end_time": "2020-02-20T14:52:10.323585Z",
     "start_time": "2020-02-20T14:49:40.144487Z"
    }
   },
   "outputs": [
    {
     "data": {
      "text/html": [
       "<div>\n",
       "<style scoped>\n",
       "    .dataframe tbody tr th:only-of-type {\n",
       "        vertical-align: middle;\n",
       "    }\n",
       "\n",
       "    .dataframe tbody tr th {\n",
       "        vertical-align: top;\n",
       "    }\n",
       "\n",
       "    .dataframe thead th {\n",
       "        text-align: right;\n",
       "    }\n",
       "</style>\n",
       "<table border=\"1\" class=\"dataframe\">\n",
       "  <thead>\n",
       "    <tr style=\"text-align: right;\">\n",
       "      <th></th>\n",
       "      <th>title</th>\n",
       "      <th>year</th>\n",
       "      <th>imdb_rating</th>\n",
       "      <th>director</th>\n",
       "      <th>video_link</th>\n",
       "    </tr>\n",
       "  </thead>\n",
       "  <tbody>\n",
       "    <tr>\n",
       "      <td>0</td>\n",
       "      <td>Crazy, Stupid, Love.</td>\n",
       "      <td>2011</td>\n",
       "      <td>7.4</td>\n",
       "      <td>Glenn Ficarra, John Requa</td>\n",
       "      <td>https://www.imdb.com/title/tt1570728/videogallery/?ref_=tt_ql_pv_2</td>\n",
       "    </tr>\n",
       "    <tr>\n",
       "      <td>1</td>\n",
       "      <td>Dr. Strangelove or: How I Learned to Stop Worrying and Love the Bomb</td>\n",
       "      <td>1964</td>\n",
       "      <td>8.4</td>\n",
       "      <td>Stanley Kubrick</td>\n",
       "      <td>https://www.imdb.com/title/tt1570728/videogallery/?ref_=tt_ql_pv_2</td>\n",
       "    </tr>\n",
       "    <tr>\n",
       "      <td>2</td>\n",
       "      <td>Love Actually</td>\n",
       "      <td>2003</td>\n",
       "      <td>7.6</td>\n",
       "      <td>Richard Curtis</td>\n",
       "      <td>https://www.imdb.com/title/tt1570728/videogallery/?ref_=tt_ql_pv_2</td>\n",
       "    </tr>\n",
       "    <tr>\n",
       "      <td>3</td>\n",
       "      <td>Shakespeare in Love</td>\n",
       "      <td>1998</td>\n",
       "      <td>7.1</td>\n",
       "      <td>John Madden</td>\n",
       "      <td>https://www.imdb.com/title/tt1570728/videogallery/?ref_=tt_ql_pv_2</td>\n",
       "    </tr>\n",
       "    <tr>\n",
       "      <td>4</td>\n",
       "      <td>P.S. I Love You</td>\n",
       "      <td>2007</td>\n",
       "      <td>7.0</td>\n",
       "      <td>Richard LaGravenese</td>\n",
       "      <td>https://www.imdb.com/title/tt1570728/videogallery/?ref_=tt_ql_pv_2</td>\n",
       "    </tr>\n",
       "  </tbody>\n",
       "</table>\n",
       "</div>"
      ],
      "text/plain": [
       "                                                                  title  year  \\\n",
       "0  Crazy, Stupid, Love.                                                  2011   \n",
       "1  Dr. Strangelove or: How I Learned to Stop Worrying and Love the Bomb  1964   \n",
       "2  Love Actually                                                         2003   \n",
       "3  Shakespeare in Love                                                   1998   \n",
       "4  P.S. I Love You                                                       2007   \n",
       "\n",
       "  imdb_rating                   director  \\\n",
       "0  7.4         Glenn Ficarra, John Requa   \n",
       "1  8.4         Stanley Kubrick             \n",
       "2  7.6         Richard Curtis              \n",
       "3  7.1         John Madden                 \n",
       "4  7.0         Richard LaGravenese         \n",
       "\n",
       "                                                           video_link  \n",
       "0  https://www.imdb.com/title/tt1570728/videogallery/?ref_=tt_ql_pv_2  \n",
       "1  https://www.imdb.com/title/tt1570728/videogallery/?ref_=tt_ql_pv_2  \n",
       "2  https://www.imdb.com/title/tt1570728/videogallery/?ref_=tt_ql_pv_2  \n",
       "3  https://www.imdb.com/title/tt1570728/videogallery/?ref_=tt_ql_pv_2  \n",
       "4  https://www.imdb.com/title/tt1570728/videogallery/?ref_=tt_ql_pv_2  "
      ]
     },
     "execution_count": 17,
     "metadata": {},
     "output_type": "execute_result"
    }
   ],
   "source": [
    "#calling the function\n",
    "\n",
    "url_pattern = 'https://www.imdb.com/title/'\n",
    "\n",
    "love_movies_imdb = scraped_info_to_dataframe(url_pattern)\n",
    "love_movies_imdb.head()"
   ]
  },
  {
   "cell_type": "markdown",
   "metadata": {},
   "source": [
    "### Saving result to CSV"
   ]
  },
  {
   "cell_type": "code",
   "execution_count": 18,
   "metadata": {
    "ExecuteTime": {
     "end_time": "2020-02-20T14:52:10.339345Z",
     "start_time": "2020-02-20T14:52:10.326410Z"
    }
   },
   "outputs": [],
   "source": [
    "love_movies_imdb.to_csv(\"/Users/krist/Ironhack_Labs/DIC19-Kristina-project-web/your_code/love_movies_imdb.csv\", index=False)"
   ]
  },
  {
   "cell_type": "markdown",
   "metadata": {},
   "source": [
    "## DATA CHECK <br>\n",
    "\n",
    "Check if data scraped from IMDB matches with the data from API"
   ]
  },
  {
   "cell_type": "markdown",
   "metadata": {},
   "source": [
    "### Check why in two columns have different year (data from API)"
   ]
  },
  {
   "cell_type": "markdown",
   "metadata": {},
   "source": [
    "- Checking why and in which movies have different year"
   ]
  },
  {
   "cell_type": "code",
   "execution_count": 19,
   "metadata": {
    "ExecuteTime": {
     "end_time": "2020-02-20T14:52:10.356692Z",
     "start_time": "2020-02-20T14:52:10.341000Z"
    }
   },
   "outputs": [],
   "source": [
    "#changing column type to datetime\n",
    "\n",
    "love_movies['released_spain'] = pd.to_datetime(love_movies['released_spain']) "
   ]
  },
  {
   "cell_type": "code",
   "execution_count": 20,
   "metadata": {
    "ExecuteTime": {
     "end_time": "2020-02-20T14:52:10.371903Z",
     "start_time": "2020-02-20T14:52:10.358687Z"
    }
   },
   "outputs": [],
   "source": [
    "#extracting year from release to another column\n",
    "\n",
    "love_movies['year_from_released'] = love_movies['released_spain'].dt.year"
   ]
  },
  {
   "cell_type": "code",
   "execution_count": 21,
   "metadata": {
    "ExecuteTime": {
     "end_time": "2020-02-20T14:52:10.391167Z",
     "start_time": "2020-02-20T14:52:10.373390Z"
    }
   },
   "outputs": [],
   "source": [
    "#changing type to int to be able to compare\n",
    "\n",
    "love_movies['year'] = love_movies['year'].astype('int')"
   ]
  },
  {
   "cell_type": "code",
   "execution_count": 22,
   "metadata": {
    "ExecuteTime": {
     "end_time": "2020-02-20T14:52:10.406769Z",
     "start_time": "2020-02-20T14:52:10.393162Z"
    },
    "scrolled": true
   },
   "outputs": [
    {
     "data": {
      "text/html": [
       "<div>\n",
       "<style scoped>\n",
       "    .dataframe tbody tr th:only-of-type {\n",
       "        vertical-align: middle;\n",
       "    }\n",
       "\n",
       "    .dataframe tbody tr th {\n",
       "        vertical-align: top;\n",
       "    }\n",
       "\n",
       "    .dataframe thead th {\n",
       "        text-align: right;\n",
       "    }\n",
       "</style>\n",
       "<table border=\"1\" class=\"dataframe\">\n",
       "  <thead>\n",
       "    <tr style=\"text-align: right;\">\n",
       "      <th></th>\n",
       "      <th>year</th>\n",
       "      <th>year_from_released</th>\n",
       "      <th>title</th>\n",
       "      <th>imdb_id</th>\n",
       "    </tr>\n",
       "  </thead>\n",
       "  <tbody>\n",
       "    <tr>\n",
       "      <td>3</td>\n",
       "      <td>1998</td>\n",
       "      <td>1999</td>\n",
       "      <td>Shakespeare in Love</td>\n",
       "      <td>tt0138097</td>\n",
       "    </tr>\n",
       "    <tr>\n",
       "      <td>8</td>\n",
       "      <td>2000</td>\n",
       "      <td>2001</td>\n",
       "      <td>In the Mood for Love</td>\n",
       "      <td>tt0118694</td>\n",
       "    </tr>\n",
       "    <tr>\n",
       "      <td>10</td>\n",
       "      <td>1963</td>\n",
       "      <td>1964</td>\n",
       "      <td>From Russia with Love</td>\n",
       "      <td>tt0057076</td>\n",
       "    </tr>\n",
       "    <tr>\n",
       "      <td>13</td>\n",
       "      <td>2009</td>\n",
       "      <td>2011</td>\n",
       "      <td>I Love You Phillip Morris</td>\n",
       "      <td>tt1045772</td>\n",
       "    </tr>\n",
       "    <tr>\n",
       "      <td>16</td>\n",
       "      <td>2012</td>\n",
       "      <td>2013</td>\n",
       "      <td>Stuck in Love.</td>\n",
       "      <td>tt2205697</td>\n",
       "    </tr>\n",
       "    <tr>\n",
       "      <td>18</td>\n",
       "      <td>2003</td>\n",
       "      <td>2004</td>\n",
       "      <td>Love Me If You Dare</td>\n",
       "      <td>tt0364517</td>\n",
       "    </tr>\n",
       "    <tr>\n",
       "      <td>19</td>\n",
       "      <td>2006</td>\n",
       "      <td>2007</td>\n",
       "      <td>Wristcutters: A Love Story</td>\n",
       "      <td>tt0477139</td>\n",
       "    </tr>\n",
       "    <tr>\n",
       "      <td>22</td>\n",
       "      <td>2008</td>\n",
       "      <td>2009</td>\n",
       "      <td>New York, I Love You</td>\n",
       "      <td>tt0808399</td>\n",
       "    </tr>\n",
       "    <tr>\n",
       "      <td>29</td>\n",
       "      <td>1996</td>\n",
       "      <td>1997</td>\n",
       "      <td>Everyone Says I Love You</td>\n",
       "      <td>tt0116242</td>\n",
       "    </tr>\n",
       "    <tr>\n",
       "      <td>36</td>\n",
       "      <td>2006</td>\n",
       "      <td>2013</td>\n",
       "      <td>All the Boys Love Mandy Lane</td>\n",
       "      <td>tt0490076</td>\n",
       "    </tr>\n",
       "  </tbody>\n",
       "</table>\n",
       "</div>"
      ],
      "text/plain": [
       "    year  year_from_released                         title    imdb_id\n",
       "3   1998  1999                Shakespeare in Love           tt0138097\n",
       "8   2000  2001                In the Mood for Love          tt0118694\n",
       "10  1963  1964                From Russia with Love         tt0057076\n",
       "13  2009  2011                I Love You Phillip Morris     tt1045772\n",
       "16  2012  2013                Stuck in Love.                tt2205697\n",
       "18  2003  2004                Love Me If You Dare           tt0364517\n",
       "19  2006  2007                Wristcutters: A Love Story    tt0477139\n",
       "22  2008  2009                New York, I Love You          tt0808399\n",
       "29  1996  1997                Everyone Says I Love You      tt0116242\n",
       "36  2006  2013                All the Boys Love Mandy Lane  tt0490076"
      ]
     },
     "execution_count": 22,
     "metadata": {},
     "output_type": "execute_result"
    }
   ],
   "source": [
    "#checking where year is not equal to the year from release date\n",
    "\n",
    "df = love_movies[['year', 'year_from_released', 'title', 'imdb_id']]\n",
    "df.loc[df['year'] != df['year_from_released']]\n"
   ]
  },
  {
   "cell_type": "markdown",
   "metadata": {},
   "source": [
    "After checking somae cases directly in IMDB understood that Year from Released is the release year in Spain"
   ]
  },
  {
   "cell_type": "markdown",
   "metadata": {},
   "source": [
    "### API data vs web scraping IMDB"
   ]
  },
  {
   "cell_type": "code",
   "execution_count": 23,
   "metadata": {
    "ExecuteTime": {
     "end_time": "2020-02-20T14:52:10.422363Z",
     "start_time": "2020-02-20T14:52:10.410759Z"
    }
   },
   "outputs": [],
   "source": [
    "#changing 'year' to int and 'imdb_rating' to float in df from imdb to be able to do the comparison\n",
    "\n",
    "love_movies_imdb['year'] = love_movies_imdb['year'].astype('int')\n",
    "love_movies_imdb['imdb_rating'] = love_movies_imdb['imdb_rating'].astype('float')\n",
    "love_movies['imdb_rating'] = love_movies['imdb_rating'].astype('float')"
   ]
  },
  {
   "cell_type": "code",
   "execution_count": 24,
   "metadata": {
    "ExecuteTime": {
     "end_time": "2020-02-20T14:52:10.441087Z",
     "start_time": "2020-02-20T14:52:10.422363Z"
    }
   },
   "outputs": [
    {
     "data": {
      "text/html": [
       "<div>\n",
       "<style scoped>\n",
       "    .dataframe tbody tr th:only-of-type {\n",
       "        vertical-align: middle;\n",
       "    }\n",
       "\n",
       "    .dataframe tbody tr th {\n",
       "        vertical-align: top;\n",
       "    }\n",
       "\n",
       "    .dataframe thead th {\n",
       "        text-align: right;\n",
       "    }\n",
       "</style>\n",
       "<table border=\"1\" class=\"dataframe\">\n",
       "  <thead>\n",
       "    <tr style=\"text-align: right;\">\n",
       "      <th></th>\n",
       "      <th>title</th>\n",
       "      <th>year</th>\n",
       "      <th>imdb_rating</th>\n",
       "      <th>director</th>\n",
       "    </tr>\n",
       "  </thead>\n",
       "  <tbody>\n",
       "    <tr>\n",
       "      <td>0</td>\n",
       "      <td>Crazy, Stupid, Love.</td>\n",
       "      <td>2011</td>\n",
       "      <td>7.4</td>\n",
       "      <td>Glenn Ficarra, John Requa</td>\n",
       "    </tr>\n",
       "    <tr>\n",
       "      <td>1</td>\n",
       "      <td>Dr. Strangelove or: How I Learned to Stop Worrying and Love the Bomb</td>\n",
       "      <td>1964</td>\n",
       "      <td>8.4</td>\n",
       "      <td>Stanley Kubrick</td>\n",
       "    </tr>\n",
       "    <tr>\n",
       "      <td>2</td>\n",
       "      <td>Love, Actually</td>\n",
       "      <td>2003</td>\n",
       "      <td>7.6</td>\n",
       "      <td>Richard Curtis</td>\n",
       "    </tr>\n",
       "    <tr>\n",
       "      <td>3</td>\n",
       "      <td>Shakespeare in Love</td>\n",
       "      <td>1998</td>\n",
       "      <td>7.1</td>\n",
       "      <td>John Madden</td>\n",
       "    </tr>\n",
       "    <tr>\n",
       "      <td>4</td>\n",
       "      <td>P.S. I Love You</td>\n",
       "      <td>2007</td>\n",
       "      <td>7.0</td>\n",
       "      <td>Richard LaGravenese</td>\n",
       "    </tr>\n",
       "  </tbody>\n",
       "</table>\n",
       "</div>"
      ],
      "text/plain": [
       "                                                                  title  year  \\\n",
       "0  Crazy, Stupid, Love.                                                  2011   \n",
       "1  Dr. Strangelove or: How I Learned to Stop Worrying and Love the Bomb  1964   \n",
       "2  Love, Actually                                                        2003   \n",
       "3  Shakespeare in Love                                                   1998   \n",
       "4  P.S. I Love You                                                       2007   \n",
       "\n",
       "   imdb_rating                   director  \n",
       "0  7.4          Glenn Ficarra, John Requa  \n",
       "1  8.4          Stanley Kubrick            \n",
       "2  7.6          Richard Curtis             \n",
       "3  7.1          John Madden                \n",
       "4  7.0          Richard LaGravenese        "
      ]
     },
     "execution_count": 24,
     "metadata": {},
     "output_type": "execute_result"
    }
   ],
   "source": [
    "#creating temporary df for api with only the columns that have in imdb df\n",
    "\n",
    "df_api = love_movies[['title', 'year', 'imdb_rating', 'director']]\n",
    "df_api.head()"
   ]
  },
  {
   "cell_type": "code",
   "execution_count": 25,
   "metadata": {
    "ExecuteTime": {
     "end_time": "2020-02-20T14:52:10.456551Z",
     "start_time": "2020-02-20T14:52:10.442086Z"
    }
   },
   "outputs": [
    {
     "data": {
      "text/html": [
       "<div>\n",
       "<style scoped>\n",
       "    .dataframe tbody tr th:only-of-type {\n",
       "        vertical-align: middle;\n",
       "    }\n",
       "\n",
       "    .dataframe tbody tr th {\n",
       "        vertical-align: top;\n",
       "    }\n",
       "\n",
       "    .dataframe thead th {\n",
       "        text-align: right;\n",
       "    }\n",
       "</style>\n",
       "<table border=\"1\" class=\"dataframe\">\n",
       "  <thead>\n",
       "    <tr style=\"text-align: right;\">\n",
       "      <th></th>\n",
       "      <th>title</th>\n",
       "      <th>year</th>\n",
       "      <th>imdb_rating</th>\n",
       "      <th>director</th>\n",
       "    </tr>\n",
       "  </thead>\n",
       "  <tbody>\n",
       "    <tr>\n",
       "      <td>0</td>\n",
       "      <td>Crazy, Stupid, Love.</td>\n",
       "      <td>2011</td>\n",
       "      <td>7.4</td>\n",
       "      <td>Glenn Ficarra, John Requa</td>\n",
       "    </tr>\n",
       "    <tr>\n",
       "      <td>1</td>\n",
       "      <td>Dr. Strangelove or: How I Learned to Stop Worrying and Love the Bomb</td>\n",
       "      <td>1964</td>\n",
       "      <td>8.4</td>\n",
       "      <td>Stanley Kubrick</td>\n",
       "    </tr>\n",
       "    <tr>\n",
       "      <td>2</td>\n",
       "      <td>Love Actually</td>\n",
       "      <td>2003</td>\n",
       "      <td>7.6</td>\n",
       "      <td>Richard Curtis</td>\n",
       "    </tr>\n",
       "    <tr>\n",
       "      <td>3</td>\n",
       "      <td>Shakespeare in Love</td>\n",
       "      <td>1998</td>\n",
       "      <td>7.1</td>\n",
       "      <td>John Madden</td>\n",
       "    </tr>\n",
       "    <tr>\n",
       "      <td>4</td>\n",
       "      <td>P.S. I Love You</td>\n",
       "      <td>2007</td>\n",
       "      <td>7.0</td>\n",
       "      <td>Richard LaGravenese</td>\n",
       "    </tr>\n",
       "  </tbody>\n",
       "</table>\n",
       "</div>"
      ],
      "text/plain": [
       "                                                                  title  year  \\\n",
       "0  Crazy, Stupid, Love.                                                  2011   \n",
       "1  Dr. Strangelove or: How I Learned to Stop Worrying and Love the Bomb  1964   \n",
       "2  Love Actually                                                         2003   \n",
       "3  Shakespeare in Love                                                   1998   \n",
       "4  P.S. I Love You                                                       2007   \n",
       "\n",
       "   imdb_rating                   director  \n",
       "0  7.4          Glenn Ficarra, John Requa  \n",
       "1  8.4          Stanley Kubrick            \n",
       "2  7.6          Richard Curtis             \n",
       "3  7.1          John Madden                \n",
       "4  7.0          Richard LaGravenese        "
      ]
     },
     "execution_count": 25,
     "metadata": {},
     "output_type": "execute_result"
    }
   ],
   "source": [
    "#creating temporary df for imdb to match the columns in df from api\n",
    "#only excluding column with video links because don't have this info in api\n",
    "\n",
    "df_imdb = love_movies_imdb[['title', 'year', 'imdb_rating', 'director']]\n",
    "df_imdb.head()"
   ]
  },
  {
   "cell_type": "markdown",
   "metadata": {},
   "source": [
    "- Before comparing making sure that all the columns in both dataframes have the same type\n"
   ]
  },
  {
   "cell_type": "code",
   "execution_count": 26,
   "metadata": {
    "ExecuteTime": {
     "end_time": "2020-02-20T14:52:10.472047Z",
     "start_time": "2020-02-20T14:52:10.457571Z"
    }
   },
   "outputs": [
    {
     "name": "stdout",
     "output_type": "stream",
     "text": [
      "<class 'pandas.core.frame.DataFrame'>\n",
      "RangeIndex: 40 entries, 0 to 39\n",
      "Data columns (total 4 columns):\n",
      "title          40 non-null object\n",
      "year           40 non-null int32\n",
      "imdb_rating    40 non-null float64\n",
      "director       40 non-null object\n",
      "dtypes: float64(1), int32(1), object(2)\n",
      "memory usage: 1.2+ KB\n",
      "<class 'pandas.core.frame.DataFrame'>\n",
      "RangeIndex: 40 entries, 0 to 39\n",
      "Data columns (total 4 columns):\n",
      "title          40 non-null object\n",
      "year           40 non-null int32\n",
      "imdb_rating    40 non-null float64\n",
      "director       40 non-null object\n",
      "dtypes: float64(1), int32(1), object(2)\n",
      "memory usage: 1.2+ KB\n"
     ]
    }
   ],
   "source": [
    "df_api.info()\n",
    "df_imdb.info()"
   ]
  },
  {
   "cell_type": "markdown",
   "metadata": {},
   "source": [
    "- checking in general if have any data not matching"
   ]
  },
  {
   "cell_type": "code",
   "execution_count": 27,
   "metadata": {
    "ExecuteTime": {
     "end_time": "2020-02-20T14:52:10.505785Z",
     "start_time": "2020-02-20T14:52:10.473046Z"
    },
    "scrolled": true
   },
   "outputs": [
    {
     "data": {
      "text/html": [
       "<div>\n",
       "<style scoped>\n",
       "    .dataframe tbody tr th:only-of-type {\n",
       "        vertical-align: middle;\n",
       "    }\n",
       "\n",
       "    .dataframe tbody tr th {\n",
       "        vertical-align: top;\n",
       "    }\n",
       "\n",
       "    .dataframe thead th {\n",
       "        text-align: right;\n",
       "    }\n",
       "</style>\n",
       "<table border=\"1\" class=\"dataframe\">\n",
       "  <thead>\n",
       "    <tr style=\"text-align: right;\">\n",
       "      <th></th>\n",
       "      <th>title</th>\n",
       "      <th>year</th>\n",
       "      <th>imdb_rating</th>\n",
       "      <th>director</th>\n",
       "    </tr>\n",
       "  </thead>\n",
       "  <tbody>\n",
       "    <tr>\n",
       "      <td>0</td>\n",
       "      <td>True</td>\n",
       "      <td>True</td>\n",
       "      <td>True</td>\n",
       "      <td>True</td>\n",
       "    </tr>\n",
       "    <tr>\n",
       "      <td>1</td>\n",
       "      <td>True</td>\n",
       "      <td>True</td>\n",
       "      <td>True</td>\n",
       "      <td>True</td>\n",
       "    </tr>\n",
       "    <tr>\n",
       "      <td>2</td>\n",
       "      <td>False</td>\n",
       "      <td>True</td>\n",
       "      <td>True</td>\n",
       "      <td>True</td>\n",
       "    </tr>\n",
       "    <tr>\n",
       "      <td>3</td>\n",
       "      <td>True</td>\n",
       "      <td>True</td>\n",
       "      <td>True</td>\n",
       "      <td>True</td>\n",
       "    </tr>\n",
       "    <tr>\n",
       "      <td>4</td>\n",
       "      <td>True</td>\n",
       "      <td>True</td>\n",
       "      <td>True</td>\n",
       "      <td>True</td>\n",
       "    </tr>\n",
       "    <tr>\n",
       "      <td>5</td>\n",
       "      <td>True</td>\n",
       "      <td>True</td>\n",
       "      <td>True</td>\n",
       "      <td>True</td>\n",
       "    </tr>\n",
       "    <tr>\n",
       "      <td>6</td>\n",
       "      <td>True</td>\n",
       "      <td>True</td>\n",
       "      <td>True</td>\n",
       "      <td>True</td>\n",
       "    </tr>\n",
       "    <tr>\n",
       "      <td>7</td>\n",
       "      <td>True</td>\n",
       "      <td>True</td>\n",
       "      <td>True</td>\n",
       "      <td>True</td>\n",
       "    </tr>\n",
       "    <tr>\n",
       "      <td>8</td>\n",
       "      <td>False</td>\n",
       "      <td>True</td>\n",
       "      <td>True</td>\n",
       "      <td>False</td>\n",
       "    </tr>\n",
       "    <tr>\n",
       "      <td>9</td>\n",
       "      <td>True</td>\n",
       "      <td>True</td>\n",
       "      <td>True</td>\n",
       "      <td>True</td>\n",
       "    </tr>\n",
       "    <tr>\n",
       "      <td>10</td>\n",
       "      <td>True</td>\n",
       "      <td>True</td>\n",
       "      <td>True</td>\n",
       "      <td>True</td>\n",
       "    </tr>\n",
       "    <tr>\n",
       "      <td>11</td>\n",
       "      <td>True</td>\n",
       "      <td>True</td>\n",
       "      <td>True</td>\n",
       "      <td>True</td>\n",
       "    </tr>\n",
       "    <tr>\n",
       "      <td>12</td>\n",
       "      <td>True</td>\n",
       "      <td>True</td>\n",
       "      <td>True</td>\n",
       "      <td>True</td>\n",
       "    </tr>\n",
       "    <tr>\n",
       "      <td>13</td>\n",
       "      <td>True</td>\n",
       "      <td>True</td>\n",
       "      <td>True</td>\n",
       "      <td>True</td>\n",
       "    </tr>\n",
       "    <tr>\n",
       "      <td>14</td>\n",
       "      <td>True</td>\n",
       "      <td>True</td>\n",
       "      <td>True</td>\n",
       "      <td>True</td>\n",
       "    </tr>\n",
       "    <tr>\n",
       "      <td>15</td>\n",
       "      <td>True</td>\n",
       "      <td>True</td>\n",
       "      <td>True</td>\n",
       "      <td>True</td>\n",
       "    </tr>\n",
       "    <tr>\n",
       "      <td>16</td>\n",
       "      <td>True</td>\n",
       "      <td>True</td>\n",
       "      <td>True</td>\n",
       "      <td>True</td>\n",
       "    </tr>\n",
       "    <tr>\n",
       "      <td>17</td>\n",
       "      <td>True</td>\n",
       "      <td>True</td>\n",
       "      <td>True</td>\n",
       "      <td>True</td>\n",
       "    </tr>\n",
       "    <tr>\n",
       "      <td>18</td>\n",
       "      <td>False</td>\n",
       "      <td>True</td>\n",
       "      <td>True</td>\n",
       "      <td>True</td>\n",
       "    </tr>\n",
       "    <tr>\n",
       "      <td>19</td>\n",
       "      <td>True</td>\n",
       "      <td>True</td>\n",
       "      <td>True</td>\n",
       "      <td>True</td>\n",
       "    </tr>\n",
       "    <tr>\n",
       "      <td>20</td>\n",
       "      <td>True</td>\n",
       "      <td>True</td>\n",
       "      <td>True</td>\n",
       "      <td>True</td>\n",
       "    </tr>\n",
       "    <tr>\n",
       "      <td>21</td>\n",
       "      <td>False</td>\n",
       "      <td>True</td>\n",
       "      <td>True</td>\n",
       "      <td>True</td>\n",
       "    </tr>\n",
       "    <tr>\n",
       "      <td>22</td>\n",
       "      <td>True</td>\n",
       "      <td>True</td>\n",
       "      <td>True</td>\n",
       "      <td>False</td>\n",
       "    </tr>\n",
       "    <tr>\n",
       "      <td>23</td>\n",
       "      <td>True</td>\n",
       "      <td>True</td>\n",
       "      <td>True</td>\n",
       "      <td>True</td>\n",
       "    </tr>\n",
       "    <tr>\n",
       "      <td>24</td>\n",
       "      <td>True</td>\n",
       "      <td>True</td>\n",
       "      <td>True</td>\n",
       "      <td>True</td>\n",
       "    </tr>\n",
       "    <tr>\n",
       "      <td>25</td>\n",
       "      <td>True</td>\n",
       "      <td>True</td>\n",
       "      <td>True</td>\n",
       "      <td>True</td>\n",
       "    </tr>\n",
       "    <tr>\n",
       "      <td>26</td>\n",
       "      <td>True</td>\n",
       "      <td>True</td>\n",
       "      <td>True</td>\n",
       "      <td>True</td>\n",
       "    </tr>\n",
       "    <tr>\n",
       "      <td>27</td>\n",
       "      <td>True</td>\n",
       "      <td>True</td>\n",
       "      <td>True</td>\n",
       "      <td>True</td>\n",
       "    </tr>\n",
       "    <tr>\n",
       "      <td>28</td>\n",
       "      <td>True</td>\n",
       "      <td>True</td>\n",
       "      <td>True</td>\n",
       "      <td>True</td>\n",
       "    </tr>\n",
       "    <tr>\n",
       "      <td>29</td>\n",
       "      <td>True</td>\n",
       "      <td>True</td>\n",
       "      <td>True</td>\n",
       "      <td>True</td>\n",
       "    </tr>\n",
       "    <tr>\n",
       "      <td>30</td>\n",
       "      <td>True</td>\n",
       "      <td>True</td>\n",
       "      <td>True</td>\n",
       "      <td>True</td>\n",
       "    </tr>\n",
       "    <tr>\n",
       "      <td>31</td>\n",
       "      <td>True</td>\n",
       "      <td>True</td>\n",
       "      <td>True</td>\n",
       "      <td>True</td>\n",
       "    </tr>\n",
       "    <tr>\n",
       "      <td>32</td>\n",
       "      <td>True</td>\n",
       "      <td>True</td>\n",
       "      <td>True</td>\n",
       "      <td>True</td>\n",
       "    </tr>\n",
       "    <tr>\n",
       "      <td>33</td>\n",
       "      <td>True</td>\n",
       "      <td>True</td>\n",
       "      <td>True</td>\n",
       "      <td>True</td>\n",
       "    </tr>\n",
       "    <tr>\n",
       "      <td>34</td>\n",
       "      <td>True</td>\n",
       "      <td>True</td>\n",
       "      <td>True</td>\n",
       "      <td>True</td>\n",
       "    </tr>\n",
       "    <tr>\n",
       "      <td>35</td>\n",
       "      <td>True</td>\n",
       "      <td>True</td>\n",
       "      <td>True</td>\n",
       "      <td>True</td>\n",
       "    </tr>\n",
       "    <tr>\n",
       "      <td>36</td>\n",
       "      <td>True</td>\n",
       "      <td>True</td>\n",
       "      <td>True</td>\n",
       "      <td>True</td>\n",
       "    </tr>\n",
       "    <tr>\n",
       "      <td>37</td>\n",
       "      <td>True</td>\n",
       "      <td>True</td>\n",
       "      <td>True</td>\n",
       "      <td>True</td>\n",
       "    </tr>\n",
       "    <tr>\n",
       "      <td>38</td>\n",
       "      <td>True</td>\n",
       "      <td>True</td>\n",
       "      <td>True</td>\n",
       "      <td>True</td>\n",
       "    </tr>\n",
       "    <tr>\n",
       "      <td>39</td>\n",
       "      <td>True</td>\n",
       "      <td>True</td>\n",
       "      <td>True</td>\n",
       "      <td>True</td>\n",
       "    </tr>\n",
       "  </tbody>\n",
       "</table>\n",
       "</div>"
      ],
      "text/plain": [
       "    title  year  imdb_rating  director\n",
       "0   True   True  True         True    \n",
       "1   True   True  True         True    \n",
       "2   False  True  True         True    \n",
       "3   True   True  True         True    \n",
       "4   True   True  True         True    \n",
       "5   True   True  True         True    \n",
       "6   True   True  True         True    \n",
       "7   True   True  True         True    \n",
       "8   False  True  True         False   \n",
       "9   True   True  True         True    \n",
       "10  True   True  True         True    \n",
       "11  True   True  True         True    \n",
       "12  True   True  True         True    \n",
       "13  True   True  True         True    \n",
       "14  True   True  True         True    \n",
       "15  True   True  True         True    \n",
       "16  True   True  True         True    \n",
       "17  True   True  True         True    \n",
       "18  False  True  True         True    \n",
       "19  True   True  True         True    \n",
       "20  True   True  True         True    \n",
       "21  False  True  True         True    \n",
       "22  True   True  True         False   \n",
       "23  True   True  True         True    \n",
       "24  True   True  True         True    \n",
       "25  True   True  True         True    \n",
       "26  True   True  True         True    \n",
       "27  True   True  True         True    \n",
       "28  True   True  True         True    \n",
       "29  True   True  True         True    \n",
       "30  True   True  True         True    \n",
       "31  True   True  True         True    \n",
       "32  True   True  True         True    \n",
       "33  True   True  True         True    \n",
       "34  True   True  True         True    \n",
       "35  True   True  True         True    \n",
       "36  True   True  True         True    \n",
       "37  True   True  True         True    \n",
       "38  True   True  True         True    \n",
       "39  True   True  True         True    "
      ]
     },
     "execution_count": 27,
     "metadata": {},
     "output_type": "execute_result"
    }
   ],
   "source": [
    "df_api == df_imdb"
   ]
  },
  {
   "cell_type": "markdown",
   "metadata": {},
   "source": [
    "- Checking column by column"
   ]
  },
  {
   "cell_type": "code",
   "execution_count": 28,
   "metadata": {
    "ExecuteTime": {
     "end_time": "2020-02-20T14:52:10.540019Z",
     "start_time": "2020-02-20T14:52:10.507569Z"
    }
   },
   "outputs": [
    {
     "data": {
      "text/html": [
       "<div>\n",
       "<style scoped>\n",
       "    .dataframe tbody tr th:only-of-type {\n",
       "        vertical-align: middle;\n",
       "    }\n",
       "\n",
       "    .dataframe tbody tr th {\n",
       "        vertical-align: top;\n",
       "    }\n",
       "\n",
       "    .dataframe thead th {\n",
       "        text-align: right;\n",
       "    }\n",
       "</style>\n",
       "<table border=\"1\" class=\"dataframe\">\n",
       "  <thead>\n",
       "    <tr style=\"text-align: right;\">\n",
       "      <th></th>\n",
       "      <th>title</th>\n",
       "      <th>year</th>\n",
       "      <th>imdb_rating</th>\n",
       "      <th>director</th>\n",
       "    </tr>\n",
       "  </thead>\n",
       "  <tbody>\n",
       "    <tr>\n",
       "      <td>2</td>\n",
       "      <td>Love, Actually</td>\n",
       "      <td>2003</td>\n",
       "      <td>7.6</td>\n",
       "      <td>Richard Curtis</td>\n",
       "    </tr>\n",
       "    <tr>\n",
       "      <td>8</td>\n",
       "      <td>In the Mood for Love</td>\n",
       "      <td>2000</td>\n",
       "      <td>8.1</td>\n",
       "      <td>Kar-Wai Wong</td>\n",
       "    </tr>\n",
       "    <tr>\n",
       "      <td>18</td>\n",
       "      <td>Love Me If You Dare</td>\n",
       "      <td>2003</td>\n",
       "      <td>7.6</td>\n",
       "      <td>Yann Samuell</td>\n",
       "    </tr>\n",
       "    <tr>\n",
       "      <td>21</td>\n",
       "      <td>Show Me Love</td>\n",
       "      <td>1998</td>\n",
       "      <td>7.5</td>\n",
       "      <td>Lukas Moodysson</td>\n",
       "    </tr>\n",
       "  </tbody>\n",
       "</table>\n",
       "</div>"
      ],
      "text/plain": [
       "                   title  year  imdb_rating         director\n",
       "2   Love, Actually        2003  7.6          Richard Curtis \n",
       "8   In the Mood for Love  2000  8.1          Kar-Wai Wong   \n",
       "18  Love Me If You Dare   2003  7.6          Yann Samuell   \n",
       "21  Show Me Love          1998  7.5          Lukas Moodysson"
      ]
     },
     "execution_count": 28,
     "metadata": {},
     "output_type": "execute_result"
    },
    {
     "data": {
      "text/html": [
       "<div>\n",
       "<style scoped>\n",
       "    .dataframe tbody tr th:only-of-type {\n",
       "        vertical-align: middle;\n",
       "    }\n",
       "\n",
       "    .dataframe tbody tr th {\n",
       "        vertical-align: top;\n",
       "    }\n",
       "\n",
       "    .dataframe thead th {\n",
       "        text-align: right;\n",
       "    }\n",
       "</style>\n",
       "<table border=\"1\" class=\"dataframe\">\n",
       "  <thead>\n",
       "    <tr style=\"text-align: right;\">\n",
       "      <th></th>\n",
       "      <th>title</th>\n",
       "      <th>year</th>\n",
       "      <th>imdb_rating</th>\n",
       "      <th>director</th>\n",
       "    </tr>\n",
       "  </thead>\n",
       "  <tbody>\n",
       "    <tr>\n",
       "      <td>2</td>\n",
       "      <td>Love Actually</td>\n",
       "      <td>2003</td>\n",
       "      <td>7.6</td>\n",
       "      <td>Richard Curtis</td>\n",
       "    </tr>\n",
       "    <tr>\n",
       "      <td>8</td>\n",
       "      <td>Faa yeung nin wa</td>\n",
       "      <td>2000</td>\n",
       "      <td>8.1</td>\n",
       "      <td>Kar-Wai Wong (as Kar Wai Wong)</td>\n",
       "    </tr>\n",
       "    <tr>\n",
       "      <td>18</td>\n",
       "      <td>Jeux d'enfants</td>\n",
       "      <td>2003</td>\n",
       "      <td>7.6</td>\n",
       "      <td>Yann Samuell</td>\n",
       "    </tr>\n",
       "    <tr>\n",
       "      <td>21</td>\n",
       "      <td>Fucking Åmål</td>\n",
       "      <td>1998</td>\n",
       "      <td>7.5</td>\n",
       "      <td>Lukas Moodysson</td>\n",
       "    </tr>\n",
       "  </tbody>\n",
       "</table>\n",
       "</div>"
      ],
      "text/plain": [
       "               title  year  imdb_rating                        director\n",
       "2   Love Actually     2003  7.6          Richard Curtis                \n",
       "8   Faa yeung nin wa  2000  8.1          Kar-Wai Wong (as Kar Wai Wong)\n",
       "18  Jeux d'enfants    2003  7.6          Yann Samuell                  \n",
       "21  Fucking Åmål      1998  7.5          Lukas Moodysson               "
      ]
     },
     "execution_count": 28,
     "metadata": {},
     "output_type": "execute_result"
    }
   ],
   "source": [
    "#checking where titles don't match\n",
    "\n",
    "df_api.loc[df_api['title'] != df_imdb['title']]\n",
    "df_imdb.loc[df_api['title'] != df_imdb['title']]\n",
    "\n",
    "#titles from IMDB are in the original language, not a big problem because have imdb ID to match both dataframes if needed\n",
    "#can use one title or another depending on the need"
   ]
  },
  {
   "cell_type": "code",
   "execution_count": 29,
   "metadata": {
    "ExecuteTime": {
     "end_time": "2020-02-20T14:52:10.555812Z",
     "start_time": "2020-02-20T14:52:10.542014Z"
    }
   },
   "outputs": [
    {
     "data": {
      "text/html": [
       "<div>\n",
       "<style scoped>\n",
       "    .dataframe tbody tr th:only-of-type {\n",
       "        vertical-align: middle;\n",
       "    }\n",
       "\n",
       "    .dataframe tbody tr th {\n",
       "        vertical-align: top;\n",
       "    }\n",
       "\n",
       "    .dataframe thead th {\n",
       "        text-align: right;\n",
       "    }\n",
       "</style>\n",
       "<table border=\"1\" class=\"dataframe\">\n",
       "  <thead>\n",
       "    <tr style=\"text-align: right;\">\n",
       "      <th></th>\n",
       "      <th>title</th>\n",
       "      <th>year</th>\n",
       "      <th>imdb_rating</th>\n",
       "      <th>director</th>\n",
       "    </tr>\n",
       "  </thead>\n",
       "  <tbody>\n",
       "  </tbody>\n",
       "</table>\n",
       "</div>"
      ],
      "text/plain": [
       "Empty DataFrame\n",
       "Columns: [title, year, imdb_rating, director]\n",
       "Index: []"
      ]
     },
     "execution_count": 29,
     "metadata": {},
     "output_type": "execute_result"
    }
   ],
   "source": [
    "#checking where years don't match\n",
    "\n",
    "df_api.loc[df_api['year'] != df_imdb['year']]\n",
    "\n",
    "#years match in all cases"
   ]
  },
  {
   "cell_type": "code",
   "execution_count": 30,
   "metadata": {
    "ExecuteTime": {
     "end_time": "2020-02-20T14:52:10.574298Z",
     "start_time": "2020-02-20T14:52:10.556808Z"
    }
   },
   "outputs": [
    {
     "data": {
      "text/html": [
       "<div>\n",
       "<style scoped>\n",
       "    .dataframe tbody tr th:only-of-type {\n",
       "        vertical-align: middle;\n",
       "    }\n",
       "\n",
       "    .dataframe tbody tr th {\n",
       "        vertical-align: top;\n",
       "    }\n",
       "\n",
       "    .dataframe thead th {\n",
       "        text-align: right;\n",
       "    }\n",
       "</style>\n",
       "<table border=\"1\" class=\"dataframe\">\n",
       "  <thead>\n",
       "    <tr style=\"text-align: right;\">\n",
       "      <th></th>\n",
       "      <th>title</th>\n",
       "      <th>year</th>\n",
       "      <th>imdb_rating</th>\n",
       "      <th>director</th>\n",
       "    </tr>\n",
       "  </thead>\n",
       "  <tbody>\n",
       "  </tbody>\n",
       "</table>\n",
       "</div>"
      ],
      "text/plain": [
       "Empty DataFrame\n",
       "Columns: [title, year, imdb_rating, director]\n",
       "Index: []"
      ]
     },
     "execution_count": 30,
     "metadata": {},
     "output_type": "execute_result"
    }
   ],
   "source": [
    "#checking where imdb_ratings don't match\n",
    "\n",
    "df_api.loc[df_api['imdb_rating'] != df_imdb['imdb_rating']]\n",
    "\n",
    "#imdb_ratings match in all cases"
   ]
  },
  {
   "cell_type": "code",
   "execution_count": 31,
   "metadata": {
    "ExecuteTime": {
     "end_time": "2020-02-20T14:52:10.596504Z",
     "start_time": "2020-02-20T14:52:10.575810Z"
    }
   },
   "outputs": [
    {
     "data": {
      "text/html": [
       "<div>\n",
       "<style scoped>\n",
       "    .dataframe tbody tr th:only-of-type {\n",
       "        vertical-align: middle;\n",
       "    }\n",
       "\n",
       "    .dataframe tbody tr th {\n",
       "        vertical-align: top;\n",
       "    }\n",
       "\n",
       "    .dataframe thead th {\n",
       "        text-align: right;\n",
       "    }\n",
       "</style>\n",
       "<table border=\"1\" class=\"dataframe\">\n",
       "  <thead>\n",
       "    <tr style=\"text-align: right;\">\n",
       "      <th></th>\n",
       "      <th>title</th>\n",
       "      <th>year</th>\n",
       "      <th>imdb_rating</th>\n",
       "      <th>director</th>\n",
       "    </tr>\n",
       "  </thead>\n",
       "  <tbody>\n",
       "    <tr>\n",
       "      <td>8</td>\n",
       "      <td>In the Mood for Love</td>\n",
       "      <td>2000</td>\n",
       "      <td>8.1</td>\n",
       "      <td>Kar-Wai Wong</td>\n",
       "    </tr>\n",
       "    <tr>\n",
       "      <td>22</td>\n",
       "      <td>New York, I Love You</td>\n",
       "      <td>2008</td>\n",
       "      <td>6.3</td>\n",
       "      <td>Fatih Akin, Yvan Attal, Randall Balsmeyer, Allen Hughes, Shunji Iwai, Wen Jiang, Shekhar Kapur, Joshua Marston, Mira Nair, Natalie Portman, Brett Ratner</td>\n",
       "    </tr>\n",
       "  </tbody>\n",
       "</table>\n",
       "</div>"
      ],
      "text/plain": [
       "                   title  year  imdb_rating  \\\n",
       "8   In the Mood for Love  2000  8.1           \n",
       "22  New York, I Love You  2008  6.3           \n",
       "\n",
       "                                                                                                                                                    director  \n",
       "8   Kar-Wai Wong                                                                                                                                              \n",
       "22  Fatih Akin, Yvan Attal, Randall Balsmeyer, Allen Hughes, Shunji Iwai, Wen Jiang, Shekhar Kapur, Joshua Marston, Mira Nair, Natalie Portman, Brett Ratner  "
      ]
     },
     "execution_count": 31,
     "metadata": {},
     "output_type": "execute_result"
    },
    {
     "data": {
      "text/html": [
       "<div>\n",
       "<style scoped>\n",
       "    .dataframe tbody tr th:only-of-type {\n",
       "        vertical-align: middle;\n",
       "    }\n",
       "\n",
       "    .dataframe tbody tr th {\n",
       "        vertical-align: top;\n",
       "    }\n",
       "\n",
       "    .dataframe thead th {\n",
       "        text-align: right;\n",
       "    }\n",
       "</style>\n",
       "<table border=\"1\" class=\"dataframe\">\n",
       "  <thead>\n",
       "    <tr style=\"text-align: right;\">\n",
       "      <th></th>\n",
       "      <th>title</th>\n",
       "      <th>year</th>\n",
       "      <th>imdb_rating</th>\n",
       "      <th>director</th>\n",
       "    </tr>\n",
       "  </thead>\n",
       "  <tbody>\n",
       "    <tr>\n",
       "      <td>8</td>\n",
       "      <td>Faa yeung nin wa</td>\n",
       "      <td>2000</td>\n",
       "      <td>8.1</td>\n",
       "      <td>Kar-Wai Wong (as Kar Wai Wong)</td>\n",
       "    </tr>\n",
       "    <tr>\n",
       "      <td>22</td>\n",
       "      <td>New York, I Love You</td>\n",
       "      <td>2008</td>\n",
       "      <td>6.3</td>\n",
       "      <td>Fatih Akin, Yvan Attal |</td>\n",
       "    </tr>\n",
       "  </tbody>\n",
       "</table>\n",
       "</div>"
      ],
      "text/plain": [
       "                   title  year  imdb_rating                        director\n",
       "8   Faa yeung nin wa      2000  8.1          Kar-Wai Wong (as Kar Wai Wong)\n",
       "22  New York, I Love You  2008  6.3          Fatih Akin, Yvan Attal |      "
      ]
     },
     "execution_count": 31,
     "metadata": {},
     "output_type": "execute_result"
    }
   ],
   "source": [
    "#checking where directors don't match\n",
    "\n",
    "df_api.loc[df_api['director'] != df_imdb['director']]\n",
    "df_imdb.loc[df_api['director'] != df_imdb['director']]\n",
    "\n",
    "#imdb only shows two main directors in the page that we are scraping \n",
    "#could consider for the future to modify the code to extract the rest of the info (from the hyperlink) \n",
    "#but at the moment have this information from API"
   ]
  },
  {
   "cell_type": "markdown",
   "metadata": {},
   "source": [
    "After checking 4 main columns can see that the data extracted from the API is precise enough for our needs"
   ]
  },
  {
   "cell_type": "markdown",
   "metadata": {},
   "source": [
    "### Creating one dataframe with the most important info from API and IMDB, saving to CSV"
   ]
  },
  {
   "cell_type": "code",
   "execution_count": 32,
   "metadata": {
    "ExecuteTime": {
     "end_time": "2020-02-20T14:52:10.620638Z",
     "start_time": "2020-02-20T14:52:10.597502Z"
    },
    "scrolled": true
   },
   "outputs": [
    {
     "name": "stderr",
     "output_type": "stream",
     "text": [
      "C:\\Users\\krist\\Anaconda3\\lib\\site-packages\\ipykernel_launcher.py:5: SettingWithCopyWarning: \n",
      "A value is trying to be set on a copy of a slice from a DataFrame.\n",
      "Try using .loc[row_indexer,col_indexer] = value instead\n",
      "\n",
      "See the caveats in the documentation: http://pandas.pydata.org/pandas-docs/stable/user_guide/indexing.html#returning-a-view-versus-a-copy\n",
      "  \"\"\"\n"
     ]
    },
    {
     "data": {
      "text/html": [
       "<div>\n",
       "<style scoped>\n",
       "    .dataframe tbody tr th:only-of-type {\n",
       "        vertical-align: middle;\n",
       "    }\n",
       "\n",
       "    .dataframe tbody tr th {\n",
       "        vertical-align: top;\n",
       "    }\n",
       "\n",
       "    .dataframe thead th {\n",
       "        text-align: right;\n",
       "    }\n",
       "</style>\n",
       "<table border=\"1\" class=\"dataframe\">\n",
       "  <thead>\n",
       "    <tr style=\"text-align: right;\">\n",
       "      <th></th>\n",
       "      <th>title</th>\n",
       "      <th>director</th>\n",
       "      <th>imdb_rating</th>\n",
       "      <th>released_spain</th>\n",
       "      <th>actors</th>\n",
       "      <th>imdb_id</th>\n",
       "      <th>poster</th>\n",
       "      <th>video_link</th>\n",
       "    </tr>\n",
       "  </thead>\n",
       "  <tbody>\n",
       "    <tr>\n",
       "      <td>0</td>\n",
       "      <td>Crazy, Stupid, Love.</td>\n",
       "      <td>Glenn Ficarra, John Requa</td>\n",
       "      <td>7.4</td>\n",
       "      <td>2011-07-29</td>\n",
       "      <td>Steve Carell, Ryan Gosling, Julianne Moore, Emma Stone</td>\n",
       "      <td>tt1570728</td>\n",
       "      <td>https://m.media-amazon.com/images/M/MV5BMTg2MjkwMTM0NF5BMl5BanBnXkFtZTcwMzc4NDg2NQ@@._V1_SX300.jpg</td>\n",
       "      <td>https://www.imdb.com/title/tt1570728/videogallery/?ref_=tt_ql_pv_2</td>\n",
       "    </tr>\n",
       "    <tr>\n",
       "      <td>1</td>\n",
       "      <td>Dr. Strangelove or: How I Learned to Stop Worrying and Love the Bomb</td>\n",
       "      <td>Stanley Kubrick</td>\n",
       "      <td>8.4</td>\n",
       "      <td>1964-01-29</td>\n",
       "      <td>Peter Sellers, George C. Scott, Sterling Hayden, Keenan Wynn</td>\n",
       "      <td>tt0057012</td>\n",
       "      <td>https://m.media-amazon.com/images/M/MV5BZWI3ZTMxNjctMjdlNS00NmUwLWFiM2YtZDUyY2I3N2MxYTE0XkEyXkFqcGdeQXVyNzkwMjQ5NzM@._V1_SX300.jpg</td>\n",
       "      <td>https://www.imdb.com/title/tt1570728/videogallery/?ref_=tt_ql_pv_2</td>\n",
       "    </tr>\n",
       "    <tr>\n",
       "      <td>2</td>\n",
       "      <td>Love, Actually</td>\n",
       "      <td>Richard Curtis</td>\n",
       "      <td>7.6</td>\n",
       "      <td>2003-11-14</td>\n",
       "      <td>Bill Nighy, Gregor Fisher, Rory MacGregor, Colin Firth</td>\n",
       "      <td>tt0314331</td>\n",
       "      <td>https://m.media-amazon.com/images/M/MV5BMTY4NjQ5NDc0Nl5BMl5BanBnXkFtZTYwNjk5NDM3._V1_SX300.jpg</td>\n",
       "      <td>https://www.imdb.com/title/tt1570728/videogallery/?ref_=tt_ql_pv_2</td>\n",
       "    </tr>\n",
       "    <tr>\n",
       "      <td>3</td>\n",
       "      <td>Shakespeare in Love</td>\n",
       "      <td>John Madden</td>\n",
       "      <td>7.1</td>\n",
       "      <td>1999-01-08</td>\n",
       "      <td>Geoffrey Rush, Tom Wilkinson, Steven O'Donnell, Tim McMullan</td>\n",
       "      <td>tt0138097</td>\n",
       "      <td>https://m.media-amazon.com/images/M/MV5BM2ZkNjM5MjEtNTBlMC00OTI5LTgyYmEtZDljMzNmNzhiNzY0XkEyXkFqcGdeQXVyNDYyMDk5MTU@._V1_SX300.jpg</td>\n",
       "      <td>https://www.imdb.com/title/tt1570728/videogallery/?ref_=tt_ql_pv_2</td>\n",
       "    </tr>\n",
       "    <tr>\n",
       "      <td>4</td>\n",
       "      <td>P.S. I Love You</td>\n",
       "      <td>Richard LaGravenese</td>\n",
       "      <td>7.0</td>\n",
       "      <td>2007-12-21</td>\n",
       "      <td>Hilary Swank, Gerard Butler, Lisa Kudrow, Gina Gershon</td>\n",
       "      <td>tt0431308</td>\n",
       "      <td>https://m.media-amazon.com/images/M/MV5BNTg2MDg4MjI5NV5BMl5BanBnXkFtZTcwMzQ0MDczMw@@._V1_SX300.jpg</td>\n",
       "      <td>https://www.imdb.com/title/tt1570728/videogallery/?ref_=tt_ql_pv_2</td>\n",
       "    </tr>\n",
       "  </tbody>\n",
       "</table>\n",
       "</div>"
      ],
      "text/plain": [
       "                                                                  title  \\\n",
       "0  Crazy, Stupid, Love.                                                   \n",
       "1  Dr. Strangelove or: How I Learned to Stop Worrying and Love the Bomb   \n",
       "2  Love, Actually                                                         \n",
       "3  Shakespeare in Love                                                    \n",
       "4  P.S. I Love You                                                        \n",
       "\n",
       "                    director  imdb_rating released_spain  \\\n",
       "0  Glenn Ficarra, John Requa  7.4         2011-07-29       \n",
       "1  Stanley Kubrick            8.4         1964-01-29       \n",
       "2  Richard Curtis             7.6         2003-11-14       \n",
       "3  John Madden                7.1         1999-01-08       \n",
       "4  Richard LaGravenese        7.0         2007-12-21       \n",
       "\n",
       "                                                         actors    imdb_id  \\\n",
       "0  Steve Carell, Ryan Gosling, Julianne Moore, Emma Stone        tt1570728   \n",
       "1  Peter Sellers, George C. Scott, Sterling Hayden, Keenan Wynn  tt0057012   \n",
       "2  Bill Nighy, Gregor Fisher, Rory MacGregor, Colin Firth        tt0314331   \n",
       "3  Geoffrey Rush, Tom Wilkinson, Steven O'Donnell, Tim McMullan  tt0138097   \n",
       "4  Hilary Swank, Gerard Butler, Lisa Kudrow, Gina Gershon        tt0431308   \n",
       "\n",
       "                                                                                                                               poster  \\\n",
       "0  https://m.media-amazon.com/images/M/MV5BMTg2MjkwMTM0NF5BMl5BanBnXkFtZTcwMzc4NDg2NQ@@._V1_SX300.jpg                                   \n",
       "1  https://m.media-amazon.com/images/M/MV5BZWI3ZTMxNjctMjdlNS00NmUwLWFiM2YtZDUyY2I3N2MxYTE0XkEyXkFqcGdeQXVyNzkwMjQ5NzM@._V1_SX300.jpg   \n",
       "2  https://m.media-amazon.com/images/M/MV5BMTY4NjQ5NDc0Nl5BMl5BanBnXkFtZTYwNjk5NDM3._V1_SX300.jpg                                       \n",
       "3  https://m.media-amazon.com/images/M/MV5BM2ZkNjM5MjEtNTBlMC00OTI5LTgyYmEtZDljMzNmNzhiNzY0XkEyXkFqcGdeQXVyNDYyMDk5MTU@._V1_SX300.jpg   \n",
       "4  https://m.media-amazon.com/images/M/MV5BNTg2MDg4MjI5NV5BMl5BanBnXkFtZTcwMzQ0MDczMw@@._V1_SX300.jpg                                   \n",
       "\n",
       "                                                           video_link  \n",
       "0  https://www.imdb.com/title/tt1570728/videogallery/?ref_=tt_ql_pv_2  \n",
       "1  https://www.imdb.com/title/tt1570728/videogallery/?ref_=tt_ql_pv_2  \n",
       "2  https://www.imdb.com/title/tt1570728/videogallery/?ref_=tt_ql_pv_2  \n",
       "3  https://www.imdb.com/title/tt1570728/videogallery/?ref_=tt_ql_pv_2  \n",
       "4  https://www.imdb.com/title/tt1570728/videogallery/?ref_=tt_ql_pv_2  "
      ]
     },
     "execution_count": 32,
     "metadata": {},
     "output_type": "execute_result"
    }
   ],
   "source": [
    "#take the majority of the columns from the API dataframe\n",
    "#adding one column with video links from the imdb dataframe \n",
    "\n",
    "main_info = love_movies[['title', 'director', 'imdb_rating', 'released_spain', 'actors', 'imdb_id', 'poster']]\n",
    "main_info['video_link'] = love_movies_imdb['video_link']\n",
    "main_info.head()"
   ]
  },
  {
   "cell_type": "code",
   "execution_count": 33,
   "metadata": {
    "ExecuteTime": {
     "end_time": "2020-02-20T14:52:10.638808Z",
     "start_time": "2020-02-20T14:52:10.622109Z"
    }
   },
   "outputs": [],
   "source": [
    "main_info.to_csv(\"/Users/krist/Ironhack_Labs/DIC19-Kristina-project-web/your_code/final_info.csv\", index=False)"
   ]
  },
  {
   "cell_type": "markdown",
   "metadata": {},
   "source": [
    "## CORRELATION BETWEEN RATING AND VALENTINE'S DAY <br>\n",
    "\n",
    "- Working with the API dataframe\n",
    "- Calculate days until Valentines day\n",
    "- See if ratings are higher when the release date is closer to the valentines day (correlation)"
   ]
  },
  {
   "cell_type": "code",
   "execution_count": 34,
   "metadata": {
    "ExecuteTime": {
     "end_time": "2020-02-20T14:52:10.674045Z",
     "start_time": "2020-02-20T14:52:10.639805Z"
    }
   },
   "outputs": [
    {
     "data": {
      "text/html": [
       "<div>\n",
       "<style scoped>\n",
       "    .dataframe tbody tr th:only-of-type {\n",
       "        vertical-align: middle;\n",
       "    }\n",
       "\n",
       "    .dataframe tbody tr th {\n",
       "        vertical-align: top;\n",
       "    }\n",
       "\n",
       "    .dataframe thead th {\n",
       "        text-align: right;\n",
       "    }\n",
       "</style>\n",
       "<table border=\"1\" class=\"dataframe\">\n",
       "  <thead>\n",
       "    <tr style=\"text-align: right;\">\n",
       "      <th></th>\n",
       "      <th>title</th>\n",
       "      <th>year</th>\n",
       "      <th>rated</th>\n",
       "      <th>released_spain</th>\n",
       "      <th>runtime</th>\n",
       "      <th>genre</th>\n",
       "      <th>director</th>\n",
       "      <th>writer</th>\n",
       "      <th>actors</th>\n",
       "      <th>plot</th>\n",
       "      <th>language</th>\n",
       "      <th>country</th>\n",
       "      <th>awards</th>\n",
       "      <th>poster</th>\n",
       "      <th>ratings</th>\n",
       "      <th>metascore</th>\n",
       "      <th>imdb_rating</th>\n",
       "      <th>imdb_votes</th>\n",
       "      <th>imdb_id</th>\n",
       "      <th>type</th>\n",
       "      <th>dvd</th>\n",
       "      <th>boxoffice</th>\n",
       "      <th>production</th>\n",
       "      <th>response</th>\n",
       "      <th>year_from_released</th>\n",
       "    </tr>\n",
       "  </thead>\n",
       "  <tbody>\n",
       "    <tr>\n",
       "      <td>0</td>\n",
       "      <td>Crazy, Stupid, Love.</td>\n",
       "      <td>2011</td>\n",
       "      <td>PG-13</td>\n",
       "      <td>2011-07-29</td>\n",
       "      <td>118 min</td>\n",
       "      <td>Comedy, Drama, Romance</td>\n",
       "      <td>Glenn Ficarra, John Requa</td>\n",
       "      <td>Dan Fogelman</td>\n",
       "      <td>Steve Carell, Ryan Gosling, Julianne Moore, Emma Stone</td>\n",
       "      <td>A middle-aged husband's life changes dramatically when his wife asks him for a divorce. He seeks to rediscover his manhood with the help of a newfound friend, Jacob, learning to pick up girls at bars.</td>\n",
       "      <td>English</td>\n",
       "      <td>USA</td>\n",
       "      <td>Nominated for 1 Golden Globe. Another 3 wins &amp; 22 nominations.</td>\n",
       "      <td>https://m.media-amazon.com/images/M/MV5BMTg2MjkwMTM0NF5BMl5BanBnXkFtZTcwMzc4NDg2NQ@@._V1_SX300.jpg</td>\n",
       "      <td>[{'Source': 'Internet Movie Database', 'Value': '7.4/10'}, {'Source': 'Rotten Tomatoes', 'Value': '79%'}, {'Source': 'Metacritic', 'Value': '68/100'}]</td>\n",
       "      <td>68</td>\n",
       "      <td>7.4</td>\n",
       "      <td>449,754</td>\n",
       "      <td>tt1570728</td>\n",
       "      <td>movie</td>\n",
       "      <td>01 Nov 2011</td>\n",
       "      <td>$83,300,000</td>\n",
       "      <td>Warner Bros. Pictures</td>\n",
       "      <td>True</td>\n",
       "      <td>2011</td>\n",
       "    </tr>\n",
       "    <tr>\n",
       "      <td>1</td>\n",
       "      <td>Dr. Strangelove or: How I Learned to Stop Worrying and Love the Bomb</td>\n",
       "      <td>1964</td>\n",
       "      <td>PG</td>\n",
       "      <td>1964-01-29</td>\n",
       "      <td>95 min</td>\n",
       "      <td>Comedy</td>\n",
       "      <td>Stanley Kubrick</td>\n",
       "      <td>Stanley Kubrick (screenplay), Terry Southern (screenplay), Peter George (screenplay), Peter George (based on the book: \"Red Alert\" by)</td>\n",
       "      <td>Peter Sellers, George C. Scott, Sterling Hayden, Keenan Wynn</td>\n",
       "      <td>An insane general triggers a path to nuclear holocaust that a War Room full of politicians and generals frantically tries to stop.</td>\n",
       "      <td>English, Russian</td>\n",
       "      <td>UK, USA</td>\n",
       "      <td>Nominated for 4 Oscars. Another 13 wins &amp; 7 nominations.</td>\n",
       "      <td>https://m.media-amazon.com/images/M/MV5BZWI3ZTMxNjctMjdlNS00NmUwLWFiM2YtZDUyY2I3N2MxYTE0XkEyXkFqcGdeQXVyNzkwMjQ5NzM@._V1_SX300.jpg</td>\n",
       "      <td>[{'Source': 'Internet Movie Database', 'Value': '8.4/10'}, {'Source': 'Rotten Tomatoes', 'Value': '98%'}, {'Source': 'Metacritic', 'Value': '97/100'}]</td>\n",
       "      <td>97</td>\n",
       "      <td>8.4</td>\n",
       "      <td>427,212</td>\n",
       "      <td>tt0057012</td>\n",
       "      <td>movie</td>\n",
       "      <td>02 Nov 2004</td>\n",
       "      <td>NaN</td>\n",
       "      <td>Sony Pictures</td>\n",
       "      <td>True</td>\n",
       "      <td>1964</td>\n",
       "    </tr>\n",
       "    <tr>\n",
       "      <td>2</td>\n",
       "      <td>Love, Actually</td>\n",
       "      <td>2003</td>\n",
       "      <td>R</td>\n",
       "      <td>2003-11-14</td>\n",
       "      <td>135 min</td>\n",
       "      <td>Comedy, Drama, Romance</td>\n",
       "      <td>Richard Curtis</td>\n",
       "      <td>Richard Curtis</td>\n",
       "      <td>Bill Nighy, Gregor Fisher, Rory MacGregor, Colin Firth</td>\n",
       "      <td>Follows the lives of eight very different couples in dealing with their love lives in various loosely interrelated tales all set during a frantic month before Christmas in London, England.</td>\n",
       "      <td>English, Portuguese, French</td>\n",
       "      <td>UK, USA, France</td>\n",
       "      <td>Nominated for 2 Golden Globes. Another 10 wins &amp; 27 nominations.</td>\n",
       "      <td>https://m.media-amazon.com/images/M/MV5BMTY4NjQ5NDc0Nl5BMl5BanBnXkFtZTYwNjk5NDM3._V1_SX300.jpg</td>\n",
       "      <td>[{'Source': 'Internet Movie Database', 'Value': '7.6/10'}, {'Source': 'Rotten Tomatoes', 'Value': '64%'}, {'Source': 'Metacritic', 'Value': '55/100'}]</td>\n",
       "      <td>55</td>\n",
       "      <td>7.6</td>\n",
       "      <td>405,898</td>\n",
       "      <td>tt0314331</td>\n",
       "      <td>movie</td>\n",
       "      <td>27 Apr 2004</td>\n",
       "      <td>$59,365,105</td>\n",
       "      <td>Universal Pictures</td>\n",
       "      <td>True</td>\n",
       "      <td>2003</td>\n",
       "    </tr>\n",
       "    <tr>\n",
       "      <td>3</td>\n",
       "      <td>Shakespeare in Love</td>\n",
       "      <td>1998</td>\n",
       "      <td>R</td>\n",
       "      <td>1999-01-08</td>\n",
       "      <td>123 min</td>\n",
       "      <td>Comedy, Drama, History, Romance</td>\n",
       "      <td>John Madden</td>\n",
       "      <td>Marc Norman, Tom Stoppard</td>\n",
       "      <td>Geoffrey Rush, Tom Wilkinson, Steven O'Donnell, Tim McMullan</td>\n",
       "      <td>The world's greatest ever playwright, William Shakespeare, is young, out of ideas and short of cash, but meets his ideal woman and is inspired to write one of his most famous plays.</td>\n",
       "      <td>English</td>\n",
       "      <td>USA, UK</td>\n",
       "      <td>Won 7 Oscars. Another 57 wins &amp; 87 nominations.</td>\n",
       "      <td>https://m.media-amazon.com/images/M/MV5BM2ZkNjM5MjEtNTBlMC00OTI5LTgyYmEtZDljMzNmNzhiNzY0XkEyXkFqcGdeQXVyNDYyMDk5MTU@._V1_SX300.jpg</td>\n",
       "      <td>[{'Source': 'Internet Movie Database', 'Value': '7.1/10'}, {'Source': 'Rotten Tomatoes', 'Value': '92%'}, {'Source': 'Metacritic', 'Value': '87/100'}]</td>\n",
       "      <td>87</td>\n",
       "      <td>7.1</td>\n",
       "      <td>205,961</td>\n",
       "      <td>tt0138097</td>\n",
       "      <td>movie</td>\n",
       "      <td>10 Aug 1999</td>\n",
       "      <td>NaN</td>\n",
       "      <td>Miramax</td>\n",
       "      <td>True</td>\n",
       "      <td>1999</td>\n",
       "    </tr>\n",
       "    <tr>\n",
       "      <td>4</td>\n",
       "      <td>P.S. I Love You</td>\n",
       "      <td>2007</td>\n",
       "      <td>PG-13</td>\n",
       "      <td>2007-12-21</td>\n",
       "      <td>126 min</td>\n",
       "      <td>Comedy, Drama, Romance</td>\n",
       "      <td>Richard LaGravenese</td>\n",
       "      <td>Richard LaGravenese (screenplay), Steven Rogers (screenplay), Cecelia Ahern (novel)</td>\n",
       "      <td>Hilary Swank, Gerard Butler, Lisa Kudrow, Gina Gershon</td>\n",
       "      <td>A young widow discovers that her late husband has left her 10 messages intended to help ease her pain and start a new life.</td>\n",
       "      <td>English</td>\n",
       "      <td>USA</td>\n",
       "      <td>2 wins &amp; 4 nominations.</td>\n",
       "      <td>https://m.media-amazon.com/images/M/MV5BNTg2MDg4MjI5NV5BMl5BanBnXkFtZTcwMzQ0MDczMw@@._V1_SX300.jpg</td>\n",
       "      <td>[{'Source': 'Internet Movie Database', 'Value': '7.0/10'}, {'Source': 'Metacritic', 'Value': '39/100'}]</td>\n",
       "      <td>39</td>\n",
       "      <td>7.0</td>\n",
       "      <td>194,541</td>\n",
       "      <td>tt0431308</td>\n",
       "      <td>movie</td>\n",
       "      <td>05 Feb 2008</td>\n",
       "      <td>NaN</td>\n",
       "      <td>NaN</td>\n",
       "      <td>True</td>\n",
       "      <td>2007</td>\n",
       "    </tr>\n",
       "  </tbody>\n",
       "</table>\n",
       "</div>"
      ],
      "text/plain": [
       "                                                                  title  year  \\\n",
       "0  Crazy, Stupid, Love.                                                  2011   \n",
       "1  Dr. Strangelove or: How I Learned to Stop Worrying and Love the Bomb  1964   \n",
       "2  Love, Actually                                                        2003   \n",
       "3  Shakespeare in Love                                                   1998   \n",
       "4  P.S. I Love You                                                       2007   \n",
       "\n",
       "   rated released_spain  runtime                            genre  \\\n",
       "0  PG-13 2011-07-29      118 min  Comedy, Drama, Romance            \n",
       "1  PG    1964-01-29      95 min   Comedy                            \n",
       "2  R     2003-11-14      135 min  Comedy, Drama, Romance            \n",
       "3  R     1999-01-08      123 min  Comedy, Drama, History, Romance   \n",
       "4  PG-13 2007-12-21      126 min  Comedy, Drama, Romance            \n",
       "\n",
       "                    director  \\\n",
       "0  Glenn Ficarra, John Requa   \n",
       "1  Stanley Kubrick             \n",
       "2  Richard Curtis              \n",
       "3  John Madden                 \n",
       "4  Richard LaGravenese         \n",
       "\n",
       "                                                                                                                                   writer  \\\n",
       "0  Dan Fogelman                                                                                                                             \n",
       "1  Stanley Kubrick (screenplay), Terry Southern (screenplay), Peter George (screenplay), Peter George (based on the book: \"Red Alert\" by)   \n",
       "2  Richard Curtis                                                                                                                           \n",
       "3  Marc Norman, Tom Stoppard                                                                                                                \n",
       "4  Richard LaGravenese (screenplay), Steven Rogers (screenplay), Cecelia Ahern (novel)                                                      \n",
       "\n",
       "                                                         actors  \\\n",
       "0  Steve Carell, Ryan Gosling, Julianne Moore, Emma Stone         \n",
       "1  Peter Sellers, George C. Scott, Sterling Hayden, Keenan Wynn   \n",
       "2  Bill Nighy, Gregor Fisher, Rory MacGregor, Colin Firth         \n",
       "3  Geoffrey Rush, Tom Wilkinson, Steven O'Donnell, Tim McMullan   \n",
       "4  Hilary Swank, Gerard Butler, Lisa Kudrow, Gina Gershon         \n",
       "\n",
       "                                                                                                                                                                                                       plot  \\\n",
       "0  A middle-aged husband's life changes dramatically when his wife asks him for a divorce. He seeks to rediscover his manhood with the help of a newfound friend, Jacob, learning to pick up girls at bars.   \n",
       "1  An insane general triggers a path to nuclear holocaust that a War Room full of politicians and generals frantically tries to stop.                                                                         \n",
       "2  Follows the lives of eight very different couples in dealing with their love lives in various loosely interrelated tales all set during a frantic month before Christmas in London, England.               \n",
       "3  The world's greatest ever playwright, William Shakespeare, is young, out of ideas and short of cash, but meets his ideal woman and is inspired to write one of his most famous plays.                      \n",
       "4  A young widow discovers that her late husband has left her 10 messages intended to help ease her pain and start a new life.                                                                                \n",
       "\n",
       "                      language          country  \\\n",
       "0  English                      USA               \n",
       "1  English, Russian             UK, USA           \n",
       "2  English, Portuguese, French  UK, USA, France   \n",
       "3  English                      USA, UK           \n",
       "4  English                      USA               \n",
       "\n",
       "                                                             awards  \\\n",
       "0  Nominated for 1 Golden Globe. Another 3 wins & 22 nominations.     \n",
       "1  Nominated for 4 Oscars. Another 13 wins & 7 nominations.           \n",
       "2  Nominated for 2 Golden Globes. Another 10 wins & 27 nominations.   \n",
       "3  Won 7 Oscars. Another 57 wins & 87 nominations.                    \n",
       "4  2 wins & 4 nominations.                                            \n",
       "\n",
       "                                                                                                                               poster  \\\n",
       "0  https://m.media-amazon.com/images/M/MV5BMTg2MjkwMTM0NF5BMl5BanBnXkFtZTcwMzc4NDg2NQ@@._V1_SX300.jpg                                   \n",
       "1  https://m.media-amazon.com/images/M/MV5BZWI3ZTMxNjctMjdlNS00NmUwLWFiM2YtZDUyY2I3N2MxYTE0XkEyXkFqcGdeQXVyNzkwMjQ5NzM@._V1_SX300.jpg   \n",
       "2  https://m.media-amazon.com/images/M/MV5BMTY4NjQ5NDc0Nl5BMl5BanBnXkFtZTYwNjk5NDM3._V1_SX300.jpg                                       \n",
       "3  https://m.media-amazon.com/images/M/MV5BM2ZkNjM5MjEtNTBlMC00OTI5LTgyYmEtZDljMzNmNzhiNzY0XkEyXkFqcGdeQXVyNDYyMDk5MTU@._V1_SX300.jpg   \n",
       "4  https://m.media-amazon.com/images/M/MV5BNTg2MDg4MjI5NV5BMl5BanBnXkFtZTcwMzQ0MDczMw@@._V1_SX300.jpg                                   \n",
       "\n",
       "                                                                                                                                                  ratings  \\\n",
       "0  [{'Source': 'Internet Movie Database', 'Value': '7.4/10'}, {'Source': 'Rotten Tomatoes', 'Value': '79%'}, {'Source': 'Metacritic', 'Value': '68/100'}]   \n",
       "1  [{'Source': 'Internet Movie Database', 'Value': '8.4/10'}, {'Source': 'Rotten Tomatoes', 'Value': '98%'}, {'Source': 'Metacritic', 'Value': '97/100'}]   \n",
       "2  [{'Source': 'Internet Movie Database', 'Value': '7.6/10'}, {'Source': 'Rotten Tomatoes', 'Value': '64%'}, {'Source': 'Metacritic', 'Value': '55/100'}]   \n",
       "3  [{'Source': 'Internet Movie Database', 'Value': '7.1/10'}, {'Source': 'Rotten Tomatoes', 'Value': '92%'}, {'Source': 'Metacritic', 'Value': '87/100'}]   \n",
       "4  [{'Source': 'Internet Movie Database', 'Value': '7.0/10'}, {'Source': 'Metacritic', 'Value': '39/100'}]                                                  \n",
       "\n",
       "  metascore  imdb_rating imdb_votes    imdb_id   type          dvd  \\\n",
       "0  68        7.4          449,754    tt1570728  movie  01 Nov 2011   \n",
       "1  97        8.4          427,212    tt0057012  movie  02 Nov 2004   \n",
       "2  55        7.6          405,898    tt0314331  movie  27 Apr 2004   \n",
       "3  87        7.1          205,961    tt0138097  movie  10 Aug 1999   \n",
       "4  39        7.0          194,541    tt0431308  movie  05 Feb 2008   \n",
       "\n",
       "     boxoffice             production response  year_from_released  \n",
       "0  $83,300,000  Warner Bros. Pictures  True     2011                \n",
       "1  NaN          Sony Pictures          True     1964                \n",
       "2  $59,365,105  Universal Pictures     True     2003                \n",
       "3  NaN          Miramax                True     1999                \n",
       "4  NaN          NaN                    True     2007                "
      ]
     },
     "execution_count": 34,
     "metadata": {},
     "output_type": "execute_result"
    }
   ],
   "source": [
    "#checking the dataframe from API\n",
    "\n",
    "love_movies.head()"
   ]
  },
  {
   "cell_type": "markdown",
   "metadata": {},
   "source": [
    "### Getting the number of days to Valentine's day per movie"
   ]
  },
  {
   "cell_type": "code",
   "execution_count": 35,
   "metadata": {
    "ExecuteTime": {
     "end_time": "2020-02-20T14:52:10.689450Z",
     "start_time": "2020-02-20T14:52:10.675042Z"
    }
   },
   "outputs": [],
   "source": [
    "#getting the day of the year when the movie was released\n",
    "\n",
    "love_movies['year_day_released'] = love_movies['released_spain'].dt.dayofyear"
   ]
  },
  {
   "cell_type": "code",
   "execution_count": 36,
   "metadata": {
    "ExecuteTime": {
     "end_time": "2020-02-20T14:52:10.705372Z",
     "start_time": "2020-02-20T14:52:10.690748Z"
    }
   },
   "outputs": [],
   "source": [
    "#calculating the number of days from release date to valentine's day\n",
    "#Valentine's day is day 45 of the year\n",
    "\n",
    "love_movies['days_to_valentine'] = love_movies['year_day_released'].apply(lambda x: (365-x+45) if x > 45 \n",
    "                                                                               else ((45-x) if x < 45 else 0))"
   ]
  },
  {
   "cell_type": "code",
   "execution_count": 37,
   "metadata": {
    "ExecuteTime": {
     "end_time": "2020-02-20T14:52:10.723399Z",
     "start_time": "2020-02-20T14:52:10.706371Z"
    }
   },
   "outputs": [
    {
     "name": "stdout",
     "output_type": "stream",
     "text": [
      "<class 'pandas.core.frame.DataFrame'>\n",
      "RangeIndex: 40 entries, 0 to 39\n",
      "Data columns (total 27 columns):\n",
      "title                 40 non-null object\n",
      "year                  40 non-null int32\n",
      "rated                 40 non-null object\n",
      "released_spain        40 non-null datetime64[ns]\n",
      "runtime               40 non-null object\n",
      "genre                 40 non-null object\n",
      "director              40 non-null object\n",
      "writer                40 non-null object\n",
      "actors                40 non-null object\n",
      "plot                  40 non-null object\n",
      "language              40 non-null object\n",
      "country               40 non-null object\n",
      "awards                37 non-null object\n",
      "poster                40 non-null object\n",
      "ratings               40 non-null object\n",
      "metascore             38 non-null object\n",
      "imdb_rating           40 non-null float64\n",
      "imdb_votes            40 non-null object\n",
      "imdb_id               40 non-null object\n",
      "type                  40 non-null object\n",
      "dvd                   40 non-null object\n",
      "boxoffice             22 non-null object\n",
      "production            38 non-null object\n",
      "response              40 non-null object\n",
      "year_from_released    40 non-null int64\n",
      "year_day_released     40 non-null int64\n",
      "days_to_valentine     40 non-null int64\n",
      "dtypes: datetime64[ns](1), float64(1), int32(1), int64(3), object(21)\n",
      "memory usage: 8.4+ KB\n"
     ]
    }
   ],
   "source": [
    "#checking data types per column\n",
    "\n",
    "love_movies.info()"
   ]
  },
  {
   "cell_type": "code",
   "execution_count": 38,
   "metadata": {
    "ExecuteTime": {
     "end_time": "2020-02-20T14:52:10.739491Z",
     "start_time": "2020-02-20T14:52:10.724398Z"
    }
   },
   "outputs": [],
   "source": [
    "#converting imdb_rating column to float type\n",
    "\n",
    "love_movies['imdb_rating'] = love_movies['imdb_rating'].astype('float')"
   ]
  },
  {
   "cell_type": "markdown",
   "metadata": {},
   "source": [
    "### Binning the data based on the days to Valentine's day"
   ]
  },
  {
   "cell_type": "code",
   "execution_count": 39,
   "metadata": {
    "ExecuteTime": {
     "end_time": "2020-02-20T14:52:10.788526Z",
     "start_time": "2020-02-20T14:52:10.740686Z"
    }
   },
   "outputs": [
    {
     "data": {
      "text/html": [
       "<div>\n",
       "<style scoped>\n",
       "    .dataframe tbody tr th:only-of-type {\n",
       "        vertical-align: middle;\n",
       "    }\n",
       "\n",
       "    .dataframe tbody tr th {\n",
       "        vertical-align: top;\n",
       "    }\n",
       "\n",
       "    .dataframe thead th {\n",
       "        text-align: right;\n",
       "    }\n",
       "</style>\n",
       "<table border=\"1\" class=\"dataframe\">\n",
       "  <thead>\n",
       "    <tr style=\"text-align: right;\">\n",
       "      <th></th>\n",
       "      <th>title</th>\n",
       "      <th>year</th>\n",
       "      <th>rated</th>\n",
       "      <th>released_spain</th>\n",
       "      <th>runtime</th>\n",
       "      <th>genre</th>\n",
       "      <th>director</th>\n",
       "      <th>writer</th>\n",
       "      <th>actors</th>\n",
       "      <th>plot</th>\n",
       "      <th>language</th>\n",
       "      <th>country</th>\n",
       "      <th>awards</th>\n",
       "      <th>poster</th>\n",
       "      <th>ratings</th>\n",
       "      <th>metascore</th>\n",
       "      <th>imdb_rating</th>\n",
       "      <th>imdb_votes</th>\n",
       "      <th>imdb_id</th>\n",
       "      <th>type</th>\n",
       "      <th>dvd</th>\n",
       "      <th>boxoffice</th>\n",
       "      <th>production</th>\n",
       "      <th>response</th>\n",
       "      <th>year_from_released</th>\n",
       "      <th>year_day_released</th>\n",
       "      <th>days_to_valentine</th>\n",
       "      <th>day_to_valentine_bins</th>\n",
       "    </tr>\n",
       "  </thead>\n",
       "  <tbody>\n",
       "    <tr>\n",
       "      <td>0</td>\n",
       "      <td>Crazy, Stupid, Love.</td>\n",
       "      <td>2011</td>\n",
       "      <td>PG-13</td>\n",
       "      <td>2011-07-29</td>\n",
       "      <td>118 min</td>\n",
       "      <td>Comedy, Drama, Romance</td>\n",
       "      <td>Glenn Ficarra, John Requa</td>\n",
       "      <td>Dan Fogelman</td>\n",
       "      <td>Steve Carell, Ryan Gosling, Julianne Moore, Emma Stone</td>\n",
       "      <td>A middle-aged husband's life changes dramatically when his wife asks him for a divorce. He seeks to rediscover his manhood with the help of a newfound friend, Jacob, learning to pick up girls at bars.</td>\n",
       "      <td>English</td>\n",
       "      <td>USA</td>\n",
       "      <td>Nominated for 1 Golden Globe. Another 3 wins &amp; 22 nominations.</td>\n",
       "      <td>https://m.media-amazon.com/images/M/MV5BMTg2MjkwMTM0NF5BMl5BanBnXkFtZTcwMzc4NDg2NQ@@._V1_SX300.jpg</td>\n",
       "      <td>[{'Source': 'Internet Movie Database', 'Value': '7.4/10'}, {'Source': 'Rotten Tomatoes', 'Value': '79%'}, {'Source': 'Metacritic', 'Value': '68/100'}]</td>\n",
       "      <td>68</td>\n",
       "      <td>7.4</td>\n",
       "      <td>449,754</td>\n",
       "      <td>tt1570728</td>\n",
       "      <td>movie</td>\n",
       "      <td>01 Nov 2011</td>\n",
       "      <td>$83,300,000</td>\n",
       "      <td>Warner Bros. Pictures</td>\n",
       "      <td>True</td>\n",
       "      <td>2011</td>\n",
       "      <td>210</td>\n",
       "      <td>200</td>\n",
       "      <td>medium_close</td>\n",
       "    </tr>\n",
       "    <tr>\n",
       "      <td>1</td>\n",
       "      <td>Dr. Strangelove or: How I Learned to Stop Worrying and Love the Bomb</td>\n",
       "      <td>1964</td>\n",
       "      <td>PG</td>\n",
       "      <td>1964-01-29</td>\n",
       "      <td>95 min</td>\n",
       "      <td>Comedy</td>\n",
       "      <td>Stanley Kubrick</td>\n",
       "      <td>Stanley Kubrick (screenplay), Terry Southern (screenplay), Peter George (screenplay), Peter George (based on the book: \"Red Alert\" by)</td>\n",
       "      <td>Peter Sellers, George C. Scott, Sterling Hayden, Keenan Wynn</td>\n",
       "      <td>An insane general triggers a path to nuclear holocaust that a War Room full of politicians and generals frantically tries to stop.</td>\n",
       "      <td>English, Russian</td>\n",
       "      <td>UK, USA</td>\n",
       "      <td>Nominated for 4 Oscars. Another 13 wins &amp; 7 nominations.</td>\n",
       "      <td>https://m.media-amazon.com/images/M/MV5BZWI3ZTMxNjctMjdlNS00NmUwLWFiM2YtZDUyY2I3N2MxYTE0XkEyXkFqcGdeQXVyNzkwMjQ5NzM@._V1_SX300.jpg</td>\n",
       "      <td>[{'Source': 'Internet Movie Database', 'Value': '8.4/10'}, {'Source': 'Rotten Tomatoes', 'Value': '98%'}, {'Source': 'Metacritic', 'Value': '97/100'}]</td>\n",
       "      <td>97</td>\n",
       "      <td>8.4</td>\n",
       "      <td>427,212</td>\n",
       "      <td>tt0057012</td>\n",
       "      <td>movie</td>\n",
       "      <td>02 Nov 2004</td>\n",
       "      <td>NaN</td>\n",
       "      <td>Sony Pictures</td>\n",
       "      <td>True</td>\n",
       "      <td>1964</td>\n",
       "      <td>29</td>\n",
       "      <td>16</td>\n",
       "      <td>very_close</td>\n",
       "    </tr>\n",
       "    <tr>\n",
       "      <td>2</td>\n",
       "      <td>Love, Actually</td>\n",
       "      <td>2003</td>\n",
       "      <td>R</td>\n",
       "      <td>2003-11-14</td>\n",
       "      <td>135 min</td>\n",
       "      <td>Comedy, Drama, Romance</td>\n",
       "      <td>Richard Curtis</td>\n",
       "      <td>Richard Curtis</td>\n",
       "      <td>Bill Nighy, Gregor Fisher, Rory MacGregor, Colin Firth</td>\n",
       "      <td>Follows the lives of eight very different couples in dealing with their love lives in various loosely interrelated tales all set during a frantic month before Christmas in London, England.</td>\n",
       "      <td>English, Portuguese, French</td>\n",
       "      <td>UK, USA, France</td>\n",
       "      <td>Nominated for 2 Golden Globes. Another 10 wins &amp; 27 nominations.</td>\n",
       "      <td>https://m.media-amazon.com/images/M/MV5BMTY4NjQ5NDc0Nl5BMl5BanBnXkFtZTYwNjk5NDM3._V1_SX300.jpg</td>\n",
       "      <td>[{'Source': 'Internet Movie Database', 'Value': '7.6/10'}, {'Source': 'Rotten Tomatoes', 'Value': '64%'}, {'Source': 'Metacritic', 'Value': '55/100'}]</td>\n",
       "      <td>55</td>\n",
       "      <td>7.6</td>\n",
       "      <td>405,898</td>\n",
       "      <td>tt0314331</td>\n",
       "      <td>movie</td>\n",
       "      <td>27 Apr 2004</td>\n",
       "      <td>$59,365,105</td>\n",
       "      <td>Universal Pictures</td>\n",
       "      <td>True</td>\n",
       "      <td>2003</td>\n",
       "      <td>318</td>\n",
       "      <td>92</td>\n",
       "      <td>close</td>\n",
       "    </tr>\n",
       "    <tr>\n",
       "      <td>3</td>\n",
       "      <td>Shakespeare in Love</td>\n",
       "      <td>1998</td>\n",
       "      <td>R</td>\n",
       "      <td>1999-01-08</td>\n",
       "      <td>123 min</td>\n",
       "      <td>Comedy, Drama, History, Romance</td>\n",
       "      <td>John Madden</td>\n",
       "      <td>Marc Norman, Tom Stoppard</td>\n",
       "      <td>Geoffrey Rush, Tom Wilkinson, Steven O'Donnell, Tim McMullan</td>\n",
       "      <td>The world's greatest ever playwright, William Shakespeare, is young, out of ideas and short of cash, but meets his ideal woman and is inspired to write one of his most famous plays.</td>\n",
       "      <td>English</td>\n",
       "      <td>USA, UK</td>\n",
       "      <td>Won 7 Oscars. Another 57 wins &amp; 87 nominations.</td>\n",
       "      <td>https://m.media-amazon.com/images/M/MV5BM2ZkNjM5MjEtNTBlMC00OTI5LTgyYmEtZDljMzNmNzhiNzY0XkEyXkFqcGdeQXVyNDYyMDk5MTU@._V1_SX300.jpg</td>\n",
       "      <td>[{'Source': 'Internet Movie Database', 'Value': '7.1/10'}, {'Source': 'Rotten Tomatoes', 'Value': '92%'}, {'Source': 'Metacritic', 'Value': '87/100'}]</td>\n",
       "      <td>87</td>\n",
       "      <td>7.1</td>\n",
       "      <td>205,961</td>\n",
       "      <td>tt0138097</td>\n",
       "      <td>movie</td>\n",
       "      <td>10 Aug 1999</td>\n",
       "      <td>NaN</td>\n",
       "      <td>Miramax</td>\n",
       "      <td>True</td>\n",
       "      <td>1999</td>\n",
       "      <td>8</td>\n",
       "      <td>37</td>\n",
       "      <td>very_close</td>\n",
       "    </tr>\n",
       "    <tr>\n",
       "      <td>4</td>\n",
       "      <td>P.S. I Love You</td>\n",
       "      <td>2007</td>\n",
       "      <td>PG-13</td>\n",
       "      <td>2007-12-21</td>\n",
       "      <td>126 min</td>\n",
       "      <td>Comedy, Drama, Romance</td>\n",
       "      <td>Richard LaGravenese</td>\n",
       "      <td>Richard LaGravenese (screenplay), Steven Rogers (screenplay), Cecelia Ahern (novel)</td>\n",
       "      <td>Hilary Swank, Gerard Butler, Lisa Kudrow, Gina Gershon</td>\n",
       "      <td>A young widow discovers that her late husband has left her 10 messages intended to help ease her pain and start a new life.</td>\n",
       "      <td>English</td>\n",
       "      <td>USA</td>\n",
       "      <td>2 wins &amp; 4 nominations.</td>\n",
       "      <td>https://m.media-amazon.com/images/M/MV5BNTg2MDg4MjI5NV5BMl5BanBnXkFtZTcwMzQ0MDczMw@@._V1_SX300.jpg</td>\n",
       "      <td>[{'Source': 'Internet Movie Database', 'Value': '7.0/10'}, {'Source': 'Metacritic', 'Value': '39/100'}]</td>\n",
       "      <td>39</td>\n",
       "      <td>7.0</td>\n",
       "      <td>194,541</td>\n",
       "      <td>tt0431308</td>\n",
       "      <td>movie</td>\n",
       "      <td>05 Feb 2008</td>\n",
       "      <td>NaN</td>\n",
       "      <td>NaN</td>\n",
       "      <td>True</td>\n",
       "      <td>2007</td>\n",
       "      <td>355</td>\n",
       "      <td>55</td>\n",
       "      <td>very_close</td>\n",
       "    </tr>\n",
       "  </tbody>\n",
       "</table>\n",
       "</div>"
      ],
      "text/plain": [
       "                                                                  title  year  \\\n",
       "0  Crazy, Stupid, Love.                                                  2011   \n",
       "1  Dr. Strangelove or: How I Learned to Stop Worrying and Love the Bomb  1964   \n",
       "2  Love, Actually                                                        2003   \n",
       "3  Shakespeare in Love                                                   1998   \n",
       "4  P.S. I Love You                                                       2007   \n",
       "\n",
       "   rated released_spain  runtime                            genre  \\\n",
       "0  PG-13 2011-07-29      118 min  Comedy, Drama, Romance            \n",
       "1  PG    1964-01-29      95 min   Comedy                            \n",
       "2  R     2003-11-14      135 min  Comedy, Drama, Romance            \n",
       "3  R     1999-01-08      123 min  Comedy, Drama, History, Romance   \n",
       "4  PG-13 2007-12-21      126 min  Comedy, Drama, Romance            \n",
       "\n",
       "                    director  \\\n",
       "0  Glenn Ficarra, John Requa   \n",
       "1  Stanley Kubrick             \n",
       "2  Richard Curtis              \n",
       "3  John Madden                 \n",
       "4  Richard LaGravenese         \n",
       "\n",
       "                                                                                                                                   writer  \\\n",
       "0  Dan Fogelman                                                                                                                             \n",
       "1  Stanley Kubrick (screenplay), Terry Southern (screenplay), Peter George (screenplay), Peter George (based on the book: \"Red Alert\" by)   \n",
       "2  Richard Curtis                                                                                                                           \n",
       "3  Marc Norman, Tom Stoppard                                                                                                                \n",
       "4  Richard LaGravenese (screenplay), Steven Rogers (screenplay), Cecelia Ahern (novel)                                                      \n",
       "\n",
       "                                                         actors  \\\n",
       "0  Steve Carell, Ryan Gosling, Julianne Moore, Emma Stone         \n",
       "1  Peter Sellers, George C. Scott, Sterling Hayden, Keenan Wynn   \n",
       "2  Bill Nighy, Gregor Fisher, Rory MacGregor, Colin Firth         \n",
       "3  Geoffrey Rush, Tom Wilkinson, Steven O'Donnell, Tim McMullan   \n",
       "4  Hilary Swank, Gerard Butler, Lisa Kudrow, Gina Gershon         \n",
       "\n",
       "                                                                                                                                                                                                       plot  \\\n",
       "0  A middle-aged husband's life changes dramatically when his wife asks him for a divorce. He seeks to rediscover his manhood with the help of a newfound friend, Jacob, learning to pick up girls at bars.   \n",
       "1  An insane general triggers a path to nuclear holocaust that a War Room full of politicians and generals frantically tries to stop.                                                                         \n",
       "2  Follows the lives of eight very different couples in dealing with their love lives in various loosely interrelated tales all set during a frantic month before Christmas in London, England.               \n",
       "3  The world's greatest ever playwright, William Shakespeare, is young, out of ideas and short of cash, but meets his ideal woman and is inspired to write one of his most famous plays.                      \n",
       "4  A young widow discovers that her late husband has left her 10 messages intended to help ease her pain and start a new life.                                                                                \n",
       "\n",
       "                      language          country  \\\n",
       "0  English                      USA               \n",
       "1  English, Russian             UK, USA           \n",
       "2  English, Portuguese, French  UK, USA, France   \n",
       "3  English                      USA, UK           \n",
       "4  English                      USA               \n",
       "\n",
       "                                                             awards  \\\n",
       "0  Nominated for 1 Golden Globe. Another 3 wins & 22 nominations.     \n",
       "1  Nominated for 4 Oscars. Another 13 wins & 7 nominations.           \n",
       "2  Nominated for 2 Golden Globes. Another 10 wins & 27 nominations.   \n",
       "3  Won 7 Oscars. Another 57 wins & 87 nominations.                    \n",
       "4  2 wins & 4 nominations.                                            \n",
       "\n",
       "                                                                                                                               poster  \\\n",
       "0  https://m.media-amazon.com/images/M/MV5BMTg2MjkwMTM0NF5BMl5BanBnXkFtZTcwMzc4NDg2NQ@@._V1_SX300.jpg                                   \n",
       "1  https://m.media-amazon.com/images/M/MV5BZWI3ZTMxNjctMjdlNS00NmUwLWFiM2YtZDUyY2I3N2MxYTE0XkEyXkFqcGdeQXVyNzkwMjQ5NzM@._V1_SX300.jpg   \n",
       "2  https://m.media-amazon.com/images/M/MV5BMTY4NjQ5NDc0Nl5BMl5BanBnXkFtZTYwNjk5NDM3._V1_SX300.jpg                                       \n",
       "3  https://m.media-amazon.com/images/M/MV5BM2ZkNjM5MjEtNTBlMC00OTI5LTgyYmEtZDljMzNmNzhiNzY0XkEyXkFqcGdeQXVyNDYyMDk5MTU@._V1_SX300.jpg   \n",
       "4  https://m.media-amazon.com/images/M/MV5BNTg2MDg4MjI5NV5BMl5BanBnXkFtZTcwMzQ0MDczMw@@._V1_SX300.jpg                                   \n",
       "\n",
       "                                                                                                                                                  ratings  \\\n",
       "0  [{'Source': 'Internet Movie Database', 'Value': '7.4/10'}, {'Source': 'Rotten Tomatoes', 'Value': '79%'}, {'Source': 'Metacritic', 'Value': '68/100'}]   \n",
       "1  [{'Source': 'Internet Movie Database', 'Value': '8.4/10'}, {'Source': 'Rotten Tomatoes', 'Value': '98%'}, {'Source': 'Metacritic', 'Value': '97/100'}]   \n",
       "2  [{'Source': 'Internet Movie Database', 'Value': '7.6/10'}, {'Source': 'Rotten Tomatoes', 'Value': '64%'}, {'Source': 'Metacritic', 'Value': '55/100'}]   \n",
       "3  [{'Source': 'Internet Movie Database', 'Value': '7.1/10'}, {'Source': 'Rotten Tomatoes', 'Value': '92%'}, {'Source': 'Metacritic', 'Value': '87/100'}]   \n",
       "4  [{'Source': 'Internet Movie Database', 'Value': '7.0/10'}, {'Source': 'Metacritic', 'Value': '39/100'}]                                                  \n",
       "\n",
       "  metascore  imdb_rating imdb_votes    imdb_id   type          dvd  \\\n",
       "0  68        7.4          449,754    tt1570728  movie  01 Nov 2011   \n",
       "1  97        8.4          427,212    tt0057012  movie  02 Nov 2004   \n",
       "2  55        7.6          405,898    tt0314331  movie  27 Apr 2004   \n",
       "3  87        7.1          205,961    tt0138097  movie  10 Aug 1999   \n",
       "4  39        7.0          194,541    tt0431308  movie  05 Feb 2008   \n",
       "\n",
       "     boxoffice             production response  year_from_released  \\\n",
       "0  $83,300,000  Warner Bros. Pictures  True     2011                 \n",
       "1  NaN          Sony Pictures          True     1964                 \n",
       "2  $59,365,105  Universal Pictures     True     2003                 \n",
       "3  NaN          Miramax                True     1999                 \n",
       "4  NaN          NaN                    True     2007                 \n",
       "\n",
       "   year_day_released  days_to_valentine day_to_valentine_bins  \n",
       "0  210                200                medium_close          \n",
       "1  29                 16                 very_close            \n",
       "2  318                92                 close                 \n",
       "3  8                  37                 very_close            \n",
       "4  355                55                 very_close            "
      ]
     },
     "execution_count": 39,
     "metadata": {},
     "output_type": "execute_result"
    }
   ],
   "source": [
    "day_labels = ['very_close', 'close', 'medium_close', 'far_away', 'very_far_away']\n",
    "love_movies['day_to_valentine_bins'] = pd.cut(love_movies['days_to_valentine'], 5, labels=day_labels) #5 bins, has to match with how many labels have in the list\n",
    "love_movies.head()"
   ]
  },
  {
   "cell_type": "markdown",
   "metadata": {},
   "source": [
    "### Checking the correlation between the rating and the days to Valentine's day"
   ]
  },
  {
   "cell_type": "markdown",
   "metadata": {},
   "source": [
    "- Grouping Days to Valentine's day by the average rating"
   ]
  },
  {
   "cell_type": "code",
   "execution_count": 40,
   "metadata": {
    "ExecuteTime": {
     "end_time": "2020-02-20T14:52:10.804497Z",
     "start_time": "2020-02-20T14:52:10.789421Z"
    }
   },
   "outputs": [
    {
     "data": {
      "text/html": [
       "<div>\n",
       "<style scoped>\n",
       "    .dataframe tbody tr th:only-of-type {\n",
       "        vertical-align: middle;\n",
       "    }\n",
       "\n",
       "    .dataframe tbody tr th {\n",
       "        vertical-align: top;\n",
       "    }\n",
       "\n",
       "    .dataframe thead th {\n",
       "        text-align: right;\n",
       "    }\n",
       "</style>\n",
       "<table border=\"1\" class=\"dataframe\">\n",
       "  <thead>\n",
       "    <tr style=\"text-align: right;\">\n",
       "      <th></th>\n",
       "      <th>ave_imdb_rating</th>\n",
       "    </tr>\n",
       "    <tr>\n",
       "      <th>day_to_valentine_bins</th>\n",
       "      <th></th>\n",
       "    </tr>\n",
       "  </thead>\n",
       "  <tbody>\n",
       "    <tr>\n",
       "      <td>very_close</td>\n",
       "      <td>6.70</td>\n",
       "    </tr>\n",
       "    <tr>\n",
       "      <td>close</td>\n",
       "      <td>6.89</td>\n",
       "    </tr>\n",
       "    <tr>\n",
       "      <td>medium_close</td>\n",
       "      <td>6.52</td>\n",
       "    </tr>\n",
       "    <tr>\n",
       "      <td>far_away</td>\n",
       "      <td>6.08</td>\n",
       "    </tr>\n",
       "    <tr>\n",
       "      <td>very_far_away</td>\n",
       "      <td>7.12</td>\n",
       "    </tr>\n",
       "  </tbody>\n",
       "</table>\n",
       "</div>"
      ],
      "text/plain": [
       "                       ave_imdb_rating\n",
       "day_to_valentine_bins                 \n",
       "very_close             6.70           \n",
       "close                  6.89           \n",
       "medium_close           6.52           \n",
       "far_away               6.08           \n",
       "very_far_away          7.12           "
      ]
     },
     "execution_count": 40,
     "metadata": {},
     "output_type": "execute_result"
    }
   ],
   "source": [
    "#grouping\n",
    "\n",
    "colnames = ['ave_imdb_rating']\n",
    "df = pd.DataFrame(love_movies.groupby('day_to_valentine_bins')['imdb_rating'].mean().round(2))\n",
    "df.columns = colnames\n",
    "df"
   ]
  },
  {
   "cell_type": "markdown",
   "metadata": {},
   "source": [
    "- Checking the correlation"
   ]
  },
  {
   "cell_type": "code",
   "execution_count": 41,
   "metadata": {
    "ExecuteTime": {
     "end_time": "2020-02-20T14:52:10.861236Z",
     "start_time": "2020-02-20T14:52:10.805746Z"
    }
   },
   "outputs": [
    {
     "data": {
      "text/plain": [
       "0.048"
      ]
     },
     "execution_count": 41,
     "metadata": {},
     "output_type": "execute_result"
    }
   ],
   "source": [
    "love_movies['days_to_valentine'].corr(love_movies['imdb_rating']).round(3)"
   ]
  },
  {
   "cell_type": "code",
   "execution_count": 42,
   "metadata": {
    "ExecuteTime": {
     "end_time": "2020-02-20T14:52:10.868382Z",
     "start_time": "2020-02-20T14:52:10.862233Z"
    }
   },
   "outputs": [
    {
     "data": {
      "text/plain": [
       "'\\nLow degree: When the value lies below +- 0.29, then it is said to be a small correlation.\\n\\nAs one variable increases, the other variable tends to also increase (if positive) or decrease (if negative).\\n(if days to valentines increases, then rating decreases, almost no correlation)\\n\\n'"
      ]
     },
     "execution_count": 42,
     "metadata": {},
     "output_type": "execute_result"
    }
   ],
   "source": [
    "\"\"\"\n",
    "Low degree: When the value lies below +- 0.29, then it is said to be a small correlation.\n",
    "\n",
    "As one variable increases, the other variable tends to also increase (if positive) or decrease (if negative).\n",
    "(if days to valentines increases, then rating decreases, almost no correlation)\n",
    "\n",
    "\"\"\""
   ]
  },
  {
   "cell_type": "markdown",
   "metadata": {},
   "source": [
    "### Checking the % of the movies that have been release very close - close to Valentine's day "
   ]
  },
  {
   "cell_type": "code",
   "execution_count": 43,
   "metadata": {
    "ExecuteTime": {
     "end_time": "2020-02-20T14:52:10.879858Z",
     "start_time": "2020-02-20T14:52:10.869962Z"
    }
   },
   "outputs": [
    {
     "data": {
      "text/plain": [
       "day_to_valentine_bins\n",
       "very_close       9 \n",
       "close            10\n",
       "medium_close     10\n",
       "far_away         5 \n",
       "very_far_away    6 \n",
       "Name: imdb_rating, dtype: int64"
      ]
     },
     "execution_count": 43,
     "metadata": {},
     "output_type": "execute_result"
    }
   ],
   "source": [
    "#checking how many movies have in each bin\n",
    "\n",
    "love_movies.groupby('day_to_valentine_bins').imdb_rating.count()"
   ]
  },
  {
   "cell_type": "code",
   "execution_count": 44,
   "metadata": {
    "ExecuteTime": {
     "end_time": "2020-02-20T14:52:10.893023Z",
     "start_time": "2020-02-20T14:52:10.880856Z"
    }
   },
   "outputs": [
    {
     "name": "stdout",
     "output_type": "stream",
     "text": [
      "47.5% of love movies (from this dataset) have been released very close or close to Valentine's day\n"
     ]
    }
   ],
   "source": [
    "close_to_valentines = love_movies.loc[(love_movies.day_to_valentine_bins.isin(['very_close', 'close']))].day_to_valentine_bins.count()\n",
    "\n",
    "print(f\"{close_to_valentines/len(love_movies)*100}% of love movies (from this dataset) have been released very close or close to Valentine's day\")"
   ]
  },
  {
   "cell_type": "markdown",
   "metadata": {},
   "source": [
    "## Results\n",
    "\n",
    "- Collected all the information that was necessary for the campaign, extracted video links from IMDB and downloaded movie posters to a separate folder\n",
    "- It's possible to select (if needed) which title want, original or English\n",
    "- It's possible to decide how many movies want to check (by changing the number of pages in the API request)\n",
    "- Understood the difference in the release year that was given by API\n",
    "- From checking average rating per bin understood that the average rating is not higher if the release date is closer to the Valentine's day\n",
    "- Correlation between the ratings and the Valentine's day is very low. As a next step, could check only the movies release in the last few years, maybe there is a different trend latelly. Also, to really see the correlation, would need to ahve a bigger database (have information of more than 40 movies)\n",
    "- Understood that 47.5% of love movies (from this dataset) have been released very close or close to Valentine's day"
   ]
  }
 ],
 "metadata": {
  "kernelspec": {
   "display_name": "Python 3",
   "language": "python",
   "name": "python3"
  },
  "language_info": {
   "codemirror_mode": {
    "name": "ipython",
    "version": 3
   },
   "file_extension": ".py",
   "mimetype": "text/x-python",
   "name": "python",
   "nbconvert_exporter": "python",
   "pygments_lexer": "ipython3",
   "version": "3.7.4"
  },
  "toc": {
   "base_numbering": 1,
   "nav_menu": {},
   "number_sections": true,
   "sideBar": true,
   "skip_h1_title": false,
   "title_cell": "Table of Contents",
   "title_sidebar": "Contents",
   "toc_cell": true,
   "toc_position": {},
   "toc_section_display": true,
   "toc_window_display": false
  }
 },
 "nbformat": 4,
 "nbformat_minor": 2
}
