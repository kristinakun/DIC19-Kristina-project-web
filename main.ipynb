{
 "cells": [
  {
   "cell_type": "markdown",
   "metadata": {},
   "source": [
    "## IDEA <br>\n",
    "\n",
    "- Use OMDB API: http://www.omdbapi.com/#usage\n",
    "- Do the API request with the search, movies with word 'love', 2 pages\n",
    "- Use this URL with parameters: http://www.omdbapi.com/?i=tt3896198&apikey=aab3947e&s=love&type=movie&page=2\n",
    "- Like that get the list of titles of the movies (later create column in df)\n",
    "- Do another API request title by title to get more info about the movies\n",
    "- Use this URL with parameters: http://www.omdbapi.com/?i=tt3896198&apikey=aab3947e&t=The+Shawshank+Redemption\n",
    "- Check how to pass the movie name to the end of URL. Format: xx+xx+xxx+xx (words separated by '+')\n",
    "- Put info from both requests to the df\n",
    "- Scrap IMDB or Wikkipedia based on title or IMDB ID to get info from there\n",
    "- Check if some data matching: Release year, Genre, Director, IMDB Rating\n",
    "- Could also get more data about the director from Wiki or IMDB"
   ]
  },
  {
   "cell_type": "markdown",
   "metadata": {},
   "source": [
    "## API <br>\n",
    "\n",
    "- For the API portion of the project will need to make calls to your chosen API, successfully obtain a response, request data, convert it into a Pandas data frame, and export it as a CSV file."
   ]
  },
  {
   "cell_type": "markdown",
   "metadata": {},
   "source": [
    "## WEB SCRAPING <br>\n",
    "\n",
    "- For the web scraping portion of the project, you will need to scrape the HTML from your chosen page, parse the HTML to extract the necessary information, and either save the results to a text (txt) file if it is text or into a CSV file if it is tabular data."
   ]
  },
  {
   "cell_type": "markdown",
   "metadata": {},
   "source": [
    "## 1. API"
   ]
  },
  {
   "cell_type": "code",
   "execution_count": 1,
   "metadata": {},
   "outputs": [],
   "source": [
    "from pandas.io.json import json_normalize\n",
    "import pandas as pd\n",
    "import json\n",
    "import requests"
   ]
  },
  {
   "cell_type": "code",
   "execution_count": 2,
   "metadata": {},
   "outputs": [],
   "source": [
    "from IPython.core.interactiveshell import InteractiveShell\n",
    "InteractiveShell.ast_node_interactivity = \"all\""
   ]
  },
  {
   "cell_type": "code",
   "execution_count": 16,
   "metadata": {},
   "outputs": [],
   "source": [
    "#the function to flatten_json several times\n",
    "\n",
    "def flatten_json(y):\n",
    "    out = {}\n",
    "\n",
    "    def flatten(x, name=''):\n",
    "        if type(x) is dict:\n",
    "            for a in x:\n",
    "                flatten(x[a], name + a + '_')\n",
    "        elif type(x) is list:\n",
    "            i = 0\n",
    "            for a in x:\n",
    "                flatten(a, name + str(i) + '_')\n",
    "                i += 1\n",
    "        else:\n",
    "            out[name[:-1]] = x\n",
    "\n",
    "    flatten(y)\n",
    "    return out"
   ]
  },
  {
   "cell_type": "code",
   "execution_count": 21,
   "metadata": {
    "scrolled": true
   },
   "outputs": [
    {
     "data": {
      "text/plain": [
       "<Response [200]>"
      ]
     },
     "execution_count": 21,
     "metadata": {},
     "output_type": "execute_result"
    },
    {
     "data": {
      "text/plain": [
       "{'Search': [{'Title': 'From Russia with Love',\n",
       "   'Year': '1963',\n",
       "   'imdbID': 'tt0057076',\n",
       "   'Type': 'movie',\n",
       "   'Poster': 'https://m.media-amazon.com/images/M/MV5BZjBiNGNlNmItZTk2Zi00YjRlLTk1NzEtNDI2YTNmN2EwNDhlXkEyXkFqcGdeQXVyNDY2MTk1ODk@._V1_SX300.jpg'},\n",
       "  {'Title': 'From Paris with Love',\n",
       "   'Year': '2010',\n",
       "   'imdbID': 'tt1179034',\n",
       "   'Type': 'movie',\n",
       "   'Poster': 'https://m.media-amazon.com/images/M/MV5BODAwMDFjNjktMWY2Mi00MmVhLWI0MjYtNzg4OTI0NzA5YzBjXkEyXkFqcGdeQXVyNTIzOTk5ODM@._V1_SX300.jpg'},\n",
       "  {'Title': 'I Love You Phillip Morris',\n",
       "   'Year': '2009',\n",
       "   'imdbID': 'tt1045772',\n",
       "   'Type': 'movie',\n",
       "   'Poster': 'https://m.media-amazon.com/images/M/MV5BNDkzMjkwNjc5NV5BMl5BanBnXkFtZTcwNzEyOTk5Mw@@._V1_SX300.jpg'},\n",
       "  {'Title': 'Love, Simon',\n",
       "   'Year': '2018',\n",
       "   'imdbID': 'tt5164432',\n",
       "   'Type': 'movie',\n",
       "   'Poster': 'https://m.media-amazon.com/images/M/MV5BNTMyZDdiMzUtZjcxNS00Mjc3LTljY2UtYjI4YmY5NzJlYjc1XkEyXkFqcGdeQXVyMTA5OTkwNTc@._V1_SX300.jpg'},\n",
       "  {'Title': 'Eat Pray Love',\n",
       "   'Year': '2010',\n",
       "   'imdbID': 'tt0879870',\n",
       "   'Type': 'movie',\n",
       "   'Poster': 'https://m.media-amazon.com/images/M/MV5BMTY5NDkyNzkyM15BMl5BanBnXkFtZTcwNDQyNDk0Mw@@._V1_SX300.jpg'},\n",
       "  {'Title': 'To Rome with Love',\n",
       "   'Year': '2012',\n",
       "   'imdbID': 'tt1859650',\n",
       "   'Type': 'movie',\n",
       "   'Poster': 'https://m.media-amazon.com/images/M/MV5BMTcwNTg4MDMxM15BMl5BanBnXkFtZTcwNjAzMzY3Nw@@._V1_SX300.jpg'},\n",
       "  {'Title': 'Stuck in Love.',\n",
       "   'Year': '2012',\n",
       "   'imdbID': 'tt2205697',\n",
       "   'Type': 'movie',\n",
       "   'Poster': 'https://m.media-amazon.com/images/M/MV5BMTU1NzI5MDU3OV5BMl5BanBnXkFtZTcwNTE0NDMzOQ@@._V1_SX300.jpg'},\n",
       "  {'Title': 'A Lot Like Love',\n",
       "   'Year': '2005',\n",
       "   'imdbID': 'tt0391304',\n",
       "   'Type': 'movie',\n",
       "   'Poster': 'https://m.media-amazon.com/images/M/MV5BMTQyMjU1MTYxNl5BMl5BanBnXkFtZTcwMjI2MjgyMQ@@._V1_SX300.jpg'},\n",
       "  {'Title': 'Love Me If You Dare',\n",
       "   'Year': '2003',\n",
       "   'imdbID': 'tt0364517',\n",
       "   'Type': 'movie',\n",
       "   'Poster': 'https://m.media-amazon.com/images/M/MV5BNjIwOGJhY2QtMTA5Yi00MDhlLWE5OTgtYmIzZDNlM2UwZjMyXkEyXkFqcGdeQXVyNTA4NzY1MzY@._V1_SX300.jpg'},\n",
       "  {'Title': 'Wristcutters: A Love Story',\n",
       "   'Year': '2006',\n",
       "   'imdbID': 'tt0477139',\n",
       "   'Type': 'movie',\n",
       "   'Poster': 'https://m.media-amazon.com/images/M/MV5BOGU3NTRhYWYtZWI3YS00NTZjLTliMWUtNTIyMGQ1MzliMjFkXkEyXkFqcGdeQXVyMTQxNzMzNDI@._V1_SX300.jpg'}],\n",
       " 'totalResults': '13564',\n",
       " 'Response': 'True'}"
      ]
     },
     "execution_count": 21,
     "metadata": {},
     "output_type": "execute_result"
    }
   ],
   "source": [
    "# Doing the search title includes word 'love'\n",
    "\n",
    "url= 'http://www.omdbapi.com/?i=tt3896198&apikey=aab3947e&s=love&type=movie&page=2'\n",
    "response = requests.get(url)\n",
    "response\n",
    "\n",
    "results = response.json()\n",
    "results"
   ]
  },
  {
   "cell_type": "code",
   "execution_count": 22,
   "metadata": {
    "scrolled": true
   },
   "outputs": [
    {
     "data": {
      "text/plain": [
       "{'Search_0_Title': 'From Russia with Love',\n",
       " 'Search_0_Year': '1963',\n",
       " 'Search_0_imdbID': 'tt0057076',\n",
       " 'Search_0_Type': 'movie',\n",
       " 'Search_0_Poster': 'https://m.media-amazon.com/images/M/MV5BZjBiNGNlNmItZTk2Zi00YjRlLTk1NzEtNDI2YTNmN2EwNDhlXkEyXkFqcGdeQXVyNDY2MTk1ODk@._V1_SX300.jpg',\n",
       " 'Search_1_Title': 'From Paris with Love',\n",
       " 'Search_1_Year': '2010',\n",
       " 'Search_1_imdbID': 'tt1179034',\n",
       " 'Search_1_Type': 'movie',\n",
       " 'Search_1_Poster': 'https://m.media-amazon.com/images/M/MV5BODAwMDFjNjktMWY2Mi00MmVhLWI0MjYtNzg4OTI0NzA5YzBjXkEyXkFqcGdeQXVyNTIzOTk5ODM@._V1_SX300.jpg',\n",
       " 'Search_2_Title': 'I Love You Phillip Morris',\n",
       " 'Search_2_Year': '2009',\n",
       " 'Search_2_imdbID': 'tt1045772',\n",
       " 'Search_2_Type': 'movie',\n",
       " 'Search_2_Poster': 'https://m.media-amazon.com/images/M/MV5BNDkzMjkwNjc5NV5BMl5BanBnXkFtZTcwNzEyOTk5Mw@@._V1_SX300.jpg',\n",
       " 'Search_3_Title': 'Love, Simon',\n",
       " 'Search_3_Year': '2018',\n",
       " 'Search_3_imdbID': 'tt5164432',\n",
       " 'Search_3_Type': 'movie',\n",
       " 'Search_3_Poster': 'https://m.media-amazon.com/images/M/MV5BNTMyZDdiMzUtZjcxNS00Mjc3LTljY2UtYjI4YmY5NzJlYjc1XkEyXkFqcGdeQXVyMTA5OTkwNTc@._V1_SX300.jpg',\n",
       " 'Search_4_Title': 'Eat Pray Love',\n",
       " 'Search_4_Year': '2010',\n",
       " 'Search_4_imdbID': 'tt0879870',\n",
       " 'Search_4_Type': 'movie',\n",
       " 'Search_4_Poster': 'https://m.media-amazon.com/images/M/MV5BMTY5NDkyNzkyM15BMl5BanBnXkFtZTcwNDQyNDk0Mw@@._V1_SX300.jpg',\n",
       " 'Search_5_Title': 'To Rome with Love',\n",
       " 'Search_5_Year': '2012',\n",
       " 'Search_5_imdbID': 'tt1859650',\n",
       " 'Search_5_Type': 'movie',\n",
       " 'Search_5_Poster': 'https://m.media-amazon.com/images/M/MV5BMTcwNTg4MDMxM15BMl5BanBnXkFtZTcwNjAzMzY3Nw@@._V1_SX300.jpg',\n",
       " 'Search_6_Title': 'Stuck in Love.',\n",
       " 'Search_6_Year': '2012',\n",
       " 'Search_6_imdbID': 'tt2205697',\n",
       " 'Search_6_Type': 'movie',\n",
       " 'Search_6_Poster': 'https://m.media-amazon.com/images/M/MV5BMTU1NzI5MDU3OV5BMl5BanBnXkFtZTcwNTE0NDMzOQ@@._V1_SX300.jpg',\n",
       " 'Search_7_Title': 'A Lot Like Love',\n",
       " 'Search_7_Year': '2005',\n",
       " 'Search_7_imdbID': 'tt0391304',\n",
       " 'Search_7_Type': 'movie',\n",
       " 'Search_7_Poster': 'https://m.media-amazon.com/images/M/MV5BMTQyMjU1MTYxNl5BMl5BanBnXkFtZTcwMjI2MjgyMQ@@._V1_SX300.jpg',\n",
       " 'Search_8_Title': 'Love Me If You Dare',\n",
       " 'Search_8_Year': '2003',\n",
       " 'Search_8_imdbID': 'tt0364517',\n",
       " 'Search_8_Type': 'movie',\n",
       " 'Search_8_Poster': 'https://m.media-amazon.com/images/M/MV5BNjIwOGJhY2QtMTA5Yi00MDhlLWE5OTgtYmIzZDNlM2UwZjMyXkEyXkFqcGdeQXVyNTA4NzY1MzY@._V1_SX300.jpg',\n",
       " 'Search_9_Title': 'Wristcutters: A Love Story',\n",
       " 'Search_9_Year': '2006',\n",
       " 'Search_9_imdbID': 'tt0477139',\n",
       " 'Search_9_Type': 'movie',\n",
       " 'Search_9_Poster': 'https://m.media-amazon.com/images/M/MV5BOGU3NTRhYWYtZWI3YS00NTZjLTliMWUtNTIyMGQ1MzliMjFkXkEyXkFqcGdeQXVyMTQxNzMzNDI@._V1_SX300.jpg',\n",
       " 'totalResults': '13564',\n",
       " 'Response': 'True'}"
      ]
     },
     "execution_count": 22,
     "metadata": {},
     "output_type": "execute_result"
    }
   ],
   "source": [
    "#using this nice function\n",
    "\n",
    "flat_json=flatten_json(results) \n",
    "flat_json"
   ]
  },
  {
   "cell_type": "code",
   "execution_count": 26,
   "metadata": {},
   "outputs": [
    {
     "data": {
      "text/html": [
       "<div>\n",
       "<style scoped>\n",
       "    .dataframe tbody tr th:only-of-type {\n",
       "        vertical-align: middle;\n",
       "    }\n",
       "\n",
       "    .dataframe tbody tr th {\n",
       "        vertical-align: top;\n",
       "    }\n",
       "\n",
       "    .dataframe thead th {\n",
       "        text-align: right;\n",
       "    }\n",
       "</style>\n",
       "<table border=\"1\" class=\"dataframe\">\n",
       "  <thead>\n",
       "    <tr style=\"text-align: right;\">\n",
       "      <th></th>\n",
       "      <th>Search_0_Title</th>\n",
       "      <th>Search_0_Year</th>\n",
       "      <th>Search_0_imdbID</th>\n",
       "      <th>Search_0_Type</th>\n",
       "      <th>Search_0_Poster</th>\n",
       "      <th>Search_1_Title</th>\n",
       "      <th>Search_1_Year</th>\n",
       "      <th>Search_1_imdbID</th>\n",
       "      <th>Search_1_Type</th>\n",
       "      <th>Search_1_Poster</th>\n",
       "      <th>...</th>\n",
       "      <th>Search_8_imdbID</th>\n",
       "      <th>Search_8_Type</th>\n",
       "      <th>Search_8_Poster</th>\n",
       "      <th>Search_9_Title</th>\n",
       "      <th>Search_9_Year</th>\n",
       "      <th>Search_9_imdbID</th>\n",
       "      <th>Search_9_Type</th>\n",
       "      <th>Search_9_Poster</th>\n",
       "      <th>totalResults</th>\n",
       "      <th>Response</th>\n",
       "    </tr>\n",
       "  </thead>\n",
       "  <tbody>\n",
       "    <tr>\n",
       "      <td>0</td>\n",
       "      <td>From Russia with Love</td>\n",
       "      <td>1963</td>\n",
       "      <td>tt0057076</td>\n",
       "      <td>movie</td>\n",
       "      <td>https://m.media-amazon.com/images/M/MV5BZjBiNG...</td>\n",
       "      <td>From Paris with Love</td>\n",
       "      <td>2010</td>\n",
       "      <td>tt1179034</td>\n",
       "      <td>movie</td>\n",
       "      <td>https://m.media-amazon.com/images/M/MV5BODAwMD...</td>\n",
       "      <td>...</td>\n",
       "      <td>tt0364517</td>\n",
       "      <td>movie</td>\n",
       "      <td>https://m.media-amazon.com/images/M/MV5BNjIwOG...</td>\n",
       "      <td>Wristcutters: A Love Story</td>\n",
       "      <td>2006</td>\n",
       "      <td>tt0477139</td>\n",
       "      <td>movie</td>\n",
       "      <td>https://m.media-amazon.com/images/M/MV5BOGU3NT...</td>\n",
       "      <td>13564</td>\n",
       "      <td>True</td>\n",
       "    </tr>\n",
       "  </tbody>\n",
       "</table>\n",
       "<p>1 rows × 52 columns</p>\n",
       "</div>"
      ],
      "text/plain": [
       "          Search_0_Title Search_0_Year Search_0_imdbID Search_0_Type  \\\n",
       "0  From Russia with Love          1963       tt0057076         movie   \n",
       "\n",
       "                                     Search_0_Poster        Search_1_Title  \\\n",
       "0  https://m.media-amazon.com/images/M/MV5BZjBiNG...  From Paris with Love   \n",
       "\n",
       "  Search_1_Year Search_1_imdbID Search_1_Type  \\\n",
       "0          2010       tt1179034         movie   \n",
       "\n",
       "                                     Search_1_Poster  ... Search_8_imdbID  \\\n",
       "0  https://m.media-amazon.com/images/M/MV5BODAwMD...  ...       tt0364517   \n",
       "\n",
       "  Search_8_Type                                    Search_8_Poster  \\\n",
       "0         movie  https://m.media-amazon.com/images/M/MV5BNjIwOG...   \n",
       "\n",
       "               Search_9_Title Search_9_Year Search_9_imdbID Search_9_Type  \\\n",
       "0  Wristcutters: A Love Story          2006       tt0477139         movie   \n",
       "\n",
       "                                     Search_9_Poster totalResults Response  \n",
       "0  https://m.media-amazon.com/images/M/MV5BOGU3NT...        13564     True  \n",
       "\n",
       "[1 rows x 52 columns]"
      ]
     },
     "execution_count": 26,
     "metadata": {},
     "output_type": "execute_result"
    }
   ],
   "source": [
    "# I don't like the way it gves df here\n",
    "\n",
    "flattened_data = json_normalize(flat_json)\n",
    "flattened_data"
   ]
  },
  {
   "cell_type": "code",
   "execution_count": 27,
   "metadata": {},
   "outputs": [
    {
     "data": {
      "text/html": [
       "<div>\n",
       "<style scoped>\n",
       "    .dataframe tbody tr th:only-of-type {\n",
       "        vertical-align: middle;\n",
       "    }\n",
       "\n",
       "    .dataframe tbody tr th {\n",
       "        vertical-align: top;\n",
       "    }\n",
       "\n",
       "    .dataframe thead th {\n",
       "        text-align: right;\n",
       "    }\n",
       "</style>\n",
       "<table border=\"1\" class=\"dataframe\">\n",
       "  <thead>\n",
       "    <tr style=\"text-align: right;\">\n",
       "      <th></th>\n",
       "      <th>Search_0_Title</th>\n",
       "      <th>Search_0_Year</th>\n",
       "      <th>Search_0_imdbID</th>\n",
       "      <th>Search_0_Type</th>\n",
       "      <th>Search_0_Poster</th>\n",
       "      <th>Search_1_Title</th>\n",
       "      <th>Search_1_Year</th>\n",
       "      <th>Search_1_imdbID</th>\n",
       "      <th>Search_1_Type</th>\n",
       "      <th>Search_1_Poster</th>\n",
       "      <th>...</th>\n",
       "      <th>Search_8_imdbID</th>\n",
       "      <th>Search_8_Type</th>\n",
       "      <th>Search_8_Poster</th>\n",
       "      <th>Search_9_Title</th>\n",
       "      <th>Search_9_Year</th>\n",
       "      <th>Search_9_imdbID</th>\n",
       "      <th>Search_9_Type</th>\n",
       "      <th>Search_9_Poster</th>\n",
       "      <th>totalResults</th>\n",
       "      <th>Response</th>\n",
       "    </tr>\n",
       "  </thead>\n",
       "  <tbody>\n",
       "    <tr>\n",
       "      <td>0</td>\n",
       "      <td>From Russia with Love</td>\n",
       "      <td>1963</td>\n",
       "      <td>tt0057076</td>\n",
       "      <td>movie</td>\n",
       "      <td>https://m.media-amazon.com/images/M/MV5BZjBiNG...</td>\n",
       "      <td>From Paris with Love</td>\n",
       "      <td>2010</td>\n",
       "      <td>tt1179034</td>\n",
       "      <td>movie</td>\n",
       "      <td>https://m.media-amazon.com/images/M/MV5BODAwMD...</td>\n",
       "      <td>...</td>\n",
       "      <td>tt0364517</td>\n",
       "      <td>movie</td>\n",
       "      <td>https://m.media-amazon.com/images/M/MV5BNjIwOG...</td>\n",
       "      <td>Wristcutters: A Love Story</td>\n",
       "      <td>2006</td>\n",
       "      <td>tt0477139</td>\n",
       "      <td>movie</td>\n",
       "      <td>https://m.media-amazon.com/images/M/MV5BOGU3NT...</td>\n",
       "      <td>13564</td>\n",
       "      <td>True</td>\n",
       "    </tr>\n",
       "  </tbody>\n",
       "</table>\n",
       "<p>1 rows × 52 columns</p>\n",
       "</div>"
      ],
      "text/plain": [
       "          Search_0_Title Search_0_Year Search_0_imdbID Search_0_Type  \\\n",
       "0  From Russia with Love          1963       tt0057076         movie   \n",
       "\n",
       "                                     Search_0_Poster        Search_1_Title  \\\n",
       "0  https://m.media-amazon.com/images/M/MV5BZjBiNG...  From Paris with Love   \n",
       "\n",
       "  Search_1_Year Search_1_imdbID Search_1_Type  \\\n",
       "0          2010       tt1179034         movie   \n",
       "\n",
       "                                     Search_1_Poster  ... Search_8_imdbID  \\\n",
       "0  https://m.media-amazon.com/images/M/MV5BODAwMD...  ...       tt0364517   \n",
       "\n",
       "  Search_8_Type                                    Search_8_Poster  \\\n",
       "0         movie  https://m.media-amazon.com/images/M/MV5BNjIwOG...   \n",
       "\n",
       "               Search_9_Title Search_9_Year Search_9_imdbID Search_9_Type  \\\n",
       "0  Wristcutters: A Love Story          2006       tt0477139         movie   \n",
       "\n",
       "                                     Search_9_Poster totalResults Response  \n",
       "0  https://m.media-amazon.com/images/M/MV5BOGU3NT...        13564     True  \n",
       "\n",
       "[1 rows x 52 columns]"
      ]
     },
     "execution_count": 27,
     "metadata": {},
     "output_type": "execute_result"
    }
   ],
   "source": [
    "df = pd.DataFrame(flat_json, index=[0])\n",
    "df"
   ]
  },
  {
   "cell_type": "code",
   "execution_count": null,
   "metadata": {},
   "outputs": [],
   "source": [
    "#will probably need to do it old way, flattern one by one.\n",
    "# or just extract the titles from the json and that's it"
   ]
  },
  {
   "cell_type": "code",
   "execution_count": null,
   "metadata": {},
   "outputs": [],
   "source": []
  },
  {
   "cell_type": "code",
   "execution_count": null,
   "metadata": {},
   "outputs": [],
   "source": []
  },
  {
   "cell_type": "code",
   "execution_count": null,
   "metadata": {},
   "outputs": [],
   "source": []
  },
  {
   "cell_type": "code",
   "execution_count": null,
   "metadata": {},
   "outputs": [],
   "source": []
  },
  {
   "cell_type": "code",
   "execution_count": null,
   "metadata": {},
   "outputs": [],
   "source": []
  },
  {
   "cell_type": "code",
   "execution_count": 7,
   "metadata": {},
   "outputs": [
    {
     "data": {
      "text/plain": [
       "<Response [200]>"
      ]
     },
     "execution_count": 7,
     "metadata": {},
     "output_type": "execute_result"
    },
    {
     "data": {
      "text/plain": [
       "{'Title': 'The Shawshank Redemption',\n",
       " 'Year': '1994',\n",
       " 'Rated': 'R',\n",
       " 'Released': '14 Oct 1994',\n",
       " 'Runtime': '142 min',\n",
       " 'Genre': 'Drama',\n",
       " 'Director': 'Frank Darabont',\n",
       " 'Writer': 'Stephen King (short story \"Rita Hayworth and Shawshank Redemption\"), Frank Darabont (screenplay)',\n",
       " 'Actors': 'Tim Robbins, Morgan Freeman, Bob Gunton, William Sadler',\n",
       " 'Plot': 'Two imprisoned men bond over a number of years, finding solace and eventual redemption through acts of common decency.',\n",
       " 'Language': 'English',\n",
       " 'Country': 'USA',\n",
       " 'Awards': 'Nominated for 7 Oscars. Another 21 wins & 35 nominations.',\n",
       " 'Poster': 'https://m.media-amazon.com/images/M/MV5BMDFkYTc0MGEtZmNhMC00ZDIzLWFmNTEtODM1ZmRlYWMwMWFmXkEyXkFqcGdeQXVyMTMxODk2OTU@._V1_SX300.jpg',\n",
       " 'Ratings': [{'Source': 'Internet Movie Database', 'Value': '9.3/10'},\n",
       "  {'Source': 'Rotten Tomatoes', 'Value': '90%'},\n",
       "  {'Source': 'Metacritic', 'Value': '80/100'}],\n",
       " 'Metascore': '80',\n",
       " 'imdbRating': '9.3',\n",
       " 'imdbVotes': '2,188,727',\n",
       " 'imdbID': 'tt0111161',\n",
       " 'Type': 'movie',\n",
       " 'DVD': '27 Jan 1998',\n",
       " 'BoxOffice': 'N/A',\n",
       " 'Production': 'Columbia Pictures',\n",
       " 'Website': 'N/A',\n",
       " 'Response': 'True'}"
      ]
     },
     "execution_count": 7,
     "metadata": {},
     "output_type": "execute_result"
    },
    {
     "data": {
      "text/html": [
       "<div>\n",
       "<style scoped>\n",
       "    .dataframe tbody tr th:only-of-type {\n",
       "        vertical-align: middle;\n",
       "    }\n",
       "\n",
       "    .dataframe tbody tr th {\n",
       "        vertical-align: top;\n",
       "    }\n",
       "\n",
       "    .dataframe thead th {\n",
       "        text-align: right;\n",
       "    }\n",
       "</style>\n",
       "<table border=\"1\" class=\"dataframe\">\n",
       "  <thead>\n",
       "    <tr style=\"text-align: right;\">\n",
       "      <th></th>\n",
       "      <th>Title</th>\n",
       "      <th>Year</th>\n",
       "      <th>Rated</th>\n",
       "      <th>Released</th>\n",
       "      <th>Runtime</th>\n",
       "      <th>Genre</th>\n",
       "      <th>Director</th>\n",
       "      <th>Writer</th>\n",
       "      <th>Actors</th>\n",
       "      <th>Plot</th>\n",
       "      <th>...</th>\n",
       "      <th>Metascore</th>\n",
       "      <th>imdbRating</th>\n",
       "      <th>imdbVotes</th>\n",
       "      <th>imdbID</th>\n",
       "      <th>Type</th>\n",
       "      <th>DVD</th>\n",
       "      <th>BoxOffice</th>\n",
       "      <th>Production</th>\n",
       "      <th>Website</th>\n",
       "      <th>Response</th>\n",
       "    </tr>\n",
       "  </thead>\n",
       "  <tbody>\n",
       "    <tr>\n",
       "      <td>0</td>\n",
       "      <td>The Shawshank Redemption</td>\n",
       "      <td>1994</td>\n",
       "      <td>R</td>\n",
       "      <td>14 Oct 1994</td>\n",
       "      <td>142 min</td>\n",
       "      <td>Drama</td>\n",
       "      <td>Frank Darabont</td>\n",
       "      <td>Stephen King (short story \"Rita Hayworth and S...</td>\n",
       "      <td>Tim Robbins, Morgan Freeman, Bob Gunton, Willi...</td>\n",
       "      <td>Two imprisoned men bond over a number of years...</td>\n",
       "      <td>...</td>\n",
       "      <td>80</td>\n",
       "      <td>9.3</td>\n",
       "      <td>2,188,727</td>\n",
       "      <td>tt0111161</td>\n",
       "      <td>movie</td>\n",
       "      <td>27 Jan 1998</td>\n",
       "      <td>N/A</td>\n",
       "      <td>Columbia Pictures</td>\n",
       "      <td>N/A</td>\n",
       "      <td>True</td>\n",
       "    </tr>\n",
       "  </tbody>\n",
       "</table>\n",
       "<p>1 rows × 25 columns</p>\n",
       "</div>"
      ],
      "text/plain": [
       "                      Title  Year Rated     Released  Runtime  Genre  \\\n",
       "0  The Shawshank Redemption  1994     R  14 Oct 1994  142 min  Drama   \n",
       "\n",
       "         Director                                             Writer  \\\n",
       "0  Frank Darabont  Stephen King (short story \"Rita Hayworth and S...   \n",
       "\n",
       "                                              Actors  \\\n",
       "0  Tim Robbins, Morgan Freeman, Bob Gunton, Willi...   \n",
       "\n",
       "                                                Plot  ... Metascore  \\\n",
       "0  Two imprisoned men bond over a number of years...  ...        80   \n",
       "\n",
       "  imdbRating  imdbVotes     imdbID   Type          DVD BoxOffice  \\\n",
       "0        9.3  2,188,727  tt0111161  movie  27 Jan 1998       N/A   \n",
       "\n",
       "          Production Website Response  \n",
       "0  Columbia Pictures     N/A     True  \n",
       "\n",
       "[1 rows x 25 columns]"
      ]
     },
     "execution_count": 7,
     "metadata": {},
     "output_type": "execute_result"
    }
   ],
   "source": [
    "#the search to get the info about single movie\n",
    "#need to sdee how to pass different movie title each time\n",
    "\n",
    "url= 'http://www.omdbapi.com/?i=tt3896198&apikey=aab3947e&t=The+Shawshank+Redemption'\n",
    "    \n",
    "response = requests.get(url)\n",
    "response\n",
    "\n",
    "results = response.json()\n",
    "results\n",
    "\n",
    "flattened_data = json_normalize(results)\n",
    "flattened_data"
   ]
  },
  {
   "cell_type": "code",
   "execution_count": null,
   "metadata": {},
   "outputs": [],
   "source": []
  },
  {
   "cell_type": "code",
   "execution_count": null,
   "metadata": {},
   "outputs": [],
   "source": []
  },
  {
   "cell_type": "code",
   "execution_count": null,
   "metadata": {},
   "outputs": [],
   "source": []
  }
 ],
 "metadata": {
  "kernelspec": {
   "display_name": "Python 3",
   "language": "python",
   "name": "python3"
  },
  "language_info": {
   "codemirror_mode": {
    "name": "ipython",
    "version": 3
   },
   "file_extension": ".py",
   "mimetype": "text/x-python",
   "name": "python",
   "nbconvert_exporter": "python",
   "pygments_lexer": "ipython3",
   "version": "3.7.4"
  }
 },
 "nbformat": 4,
 "nbformat_minor": 2
}
